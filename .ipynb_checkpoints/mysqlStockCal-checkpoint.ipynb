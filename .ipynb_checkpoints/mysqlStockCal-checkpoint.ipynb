{
 "cells": [
  {
   "cell_type": "code",
   "execution_count": 1,
   "metadata": {},
   "outputs": [],
   "source": [
    "import mysql.connector\n",
    "import pandas as pd\n",
    "import numpy as np"
   ]
  },
  {
   "cell_type": "code",
   "execution_count": 2,
   "metadata": {},
   "outputs": [
    {
     "name": "stdout",
     "output_type": "stream",
     "text": [
      "<mysql.connector.connection.MySQLConnection object at 0x0000000008AE9198>\n"
     ]
    }
   ],
   "source": [
    "mydb = mysql.connector.connect(\n",
    "    host=\"localhost\",\n",
    "    user=\"root\",\n",
    "    passwd=\"qaz!@wsx\",\n",
    "    database=\"work\"\n",
    ")\n",
    "print(mydb)"
   ]
  },
  {
   "cell_type": "code",
   "execution_count": 3,
   "metadata": {},
   "outputs": [
    {
     "data": {
      "text/plain": [
       "\"SELECT * FROM stock_age_cal_8 WHERE stock_age > 60 AND SKU NOT LIKE 'P%' AND SKU NOT LIKE 'B%' AND GoodsName NOT LIKE '%快递盒%' AND GoodsName NOT LIKE '%防伪标签%' AND GoodsName NOT LIKE '%快递袋%' AND GoodsName NOT LIKE '%快递箱%' AND GoodsName NOT LIKE '%虚拟商品%' AND GoodsName NOT LIKE '%包装盒%' AND GoodsName NOT LIKE '%牛皮纸袋%' AND cal_time>'2017-12-31' AND GoodsName NOT LIKE '%配件%' \""
      ]
     },
     "execution_count": 3,
     "metadata": {},
     "output_type": "execute_result"
    }
   ],
   "source": [
    "sql=\"SELECT * FROM \\\n",
    "stock_age_cal_8 \\\n",
    "WHERE \\\n",
    "stock_age > 60 \\\n",
    "AND SKU NOT LIKE 'P%' \\\n",
    "AND SKU NOT LIKE 'B%' \\\n",
    "AND GoodsName NOT LIKE '%快递盒%' \\\n",
    "AND GoodsName NOT LIKE '%防伪标签%' \\\n",
    "AND GoodsName NOT LIKE '%快递袋%' \\\n",
    "AND GoodsName NOT LIKE '%快递箱%' \\\n",
    "AND GoodsName NOT LIKE '%虚拟商品%' \\\n",
    "AND GoodsName NOT LIKE '%包装盒%' \\\n",
    "AND GoodsName NOT LIKE '%牛皮纸袋%' \\\n",
    "AND cal_time>'2017-12-31' \\\n",
    "AND GoodsName NOT LIKE '%配件%' \\\n",
    "\"\n",
    "sql"
   ]
  },
  {
   "cell_type": "code",
   "execution_count": 4,
   "metadata": {},
   "outputs": [],
   "source": [
    "mycursor=mydb.cursor()\n",
    "mycursor.execute(sql)\n",
    "stockdata=mycursor.fetchall()"
   ]
  },
  {
   "cell_type": "code",
   "execution_count": 5,
   "metadata": {},
   "outputs": [],
   "source": [
    "goodslist=pd.read_csv('g_goods_goodslist.csv',header = 0,dtype=object,engine='python',encoding='utf-8')"
   ]
  },
  {
   "cell_type": "code",
   "execution_count": 6,
   "metadata": {},
   "outputs": [
    {
     "data": {
      "text/html": [
       "<div>\n",
       "<style scoped>\n",
       "    .dataframe tbody tr th:only-of-type {\n",
       "        vertical-align: middle;\n",
       "    }\n",
       "\n",
       "    .dataframe tbody tr th {\n",
       "        vertical-align: top;\n",
       "    }\n",
       "\n",
       "    .dataframe thead th {\n",
       "        text-align: right;\n",
       "    }\n",
       "</style>\n",
       "<table border=\"1\" class=\"dataframe\">\n",
       "  <thead>\n",
       "    <tr style=\"text-align: right;\">\n",
       "      <th></th>\n",
       "      <th>GoodsID</th>\n",
       "      <th>GoodsNO</th>\n",
       "      <th>ClassID</th>\n",
       "      <th>GoodsName</th>\n",
       "      <th>GoodsName2</th>\n",
       "      <th>EngName</th>\n",
       "      <th>GoodsSpec</th>\n",
       "      <th>Unit</th>\n",
       "      <th>Price_Cost</th>\n",
       "      <th>Price_Detail</th>\n",
       "      <th>...</th>\n",
       "      <th>bCustom</th>\n",
       "      <th>TaxItemCode</th>\n",
       "      <th>bBatch</th>\n",
       "      <th>bShelfLife</th>\n",
       "      <th>ShelfLife</th>\n",
       "      <th>ShelfLifeType</th>\n",
       "      <th>bStopStockIn</th>\n",
       "      <th>StopStockInDay</th>\n",
       "      <th>bStopStockOut</th>\n",
       "      <th>StopStockOutDay</th>\n",
       "    </tr>\n",
       "  </thead>\n",
       "  <tbody>\n",
       "    <tr>\n",
       "      <th>0</th>\n",
       "      <td>1098</td>\n",
       "      <td>501212406</td>\n",
       "      <td>47</td>\n",
       "      <td>Britax宝得适头等舱安全座椅</td>\n",
       "      <td>头等舱安全座椅</td>\n",
       "      <td>NaN</td>\n",
       "      <td>NaN</td>\n",
       "      <td>个</td>\n",
       "      <td>0.0</td>\n",
       "      <td>0.0</td>\n",
       "      <td>...</td>\n",
       "      <td>0</td>\n",
       "      <td>NaN</td>\n",
       "      <td>0</td>\n",
       "      <td>0</td>\n",
       "      <td>0</td>\n",
       "      <td>月</td>\n",
       "      <td>0</td>\n",
       "      <td>0</td>\n",
       "      <td>0</td>\n",
       "      <td>0</td>\n",
       "    </tr>\n",
       "    <tr>\n",
       "      <th>1</th>\n",
       "      <td>1099</td>\n",
       "      <td>69251255</td>\n",
       "      <td>663151110</td>\n",
       "      <td>KUB可优比-高脚餐椅</td>\n",
       "      <td>KUB-高脚餐椅</td>\n",
       "      <td>NaN</td>\n",
       "      <td>NaN</td>\n",
       "      <td>台</td>\n",
       "      <td>0.0</td>\n",
       "      <td>0.0</td>\n",
       "      <td>...</td>\n",
       "      <td>0</td>\n",
       "      <td>NaN</td>\n",
       "      <td>0</td>\n",
       "      <td>0</td>\n",
       "      <td>0</td>\n",
       "      <td>月</td>\n",
       "      <td>0</td>\n",
       "      <td>0</td>\n",
       "      <td>0</td>\n",
       "      <td>0</td>\n",
       "    </tr>\n",
       "    <tr>\n",
       "      <th>2</th>\n",
       "      <td>1100</td>\n",
       "      <td>0017</td>\n",
       "      <td>48</td>\n",
       "      <td>斯玛特（经典版）</td>\n",
       "      <td>NaN</td>\n",
       "      <td>NaN</td>\n",
       "      <td>NaN</td>\n",
       "      <td>辆</td>\n",
       "      <td>0.0</td>\n",
       "      <td>0.0</td>\n",
       "      <td>...</td>\n",
       "      <td>0</td>\n",
       "      <td>NaN</td>\n",
       "      <td>0</td>\n",
       "      <td>0</td>\n",
       "      <td>0</td>\n",
       "      <td>月</td>\n",
       "      <td>0</td>\n",
       "      <td>0</td>\n",
       "      <td>0</td>\n",
       "      <td>0</td>\n",
       "    </tr>\n",
       "    <tr>\n",
       "      <th>3</th>\n",
       "      <td>1102</td>\n",
       "      <td>69339596228</td>\n",
       "      <td>47</td>\n",
       "      <td>宝贝第一赛威乐V8B安全座椅</td>\n",
       "      <td>宝贝第一赛威乐V8B安全座椅</td>\n",
       "      <td>NaN</td>\n",
       "      <td>NaN</td>\n",
       "      <td>个</td>\n",
       "      <td>0.0</td>\n",
       "      <td>0.0</td>\n",
       "      <td>...</td>\n",
       "      <td>0</td>\n",
       "      <td>NaN</td>\n",
       "      <td>0</td>\n",
       "      <td>0</td>\n",
       "      <td>0</td>\n",
       "      <td>月</td>\n",
       "      <td>0</td>\n",
       "      <td>0</td>\n",
       "      <td>0</td>\n",
       "      <td>0</td>\n",
       "    </tr>\n",
       "    <tr>\n",
       "      <th>4</th>\n",
       "      <td>1103</td>\n",
       "      <td>6 92512550</td>\n",
       "      <td>663131010</td>\n",
       "      <td>KUB可优比-企鹅床品</td>\n",
       "      <td>KUB-企鹅床品</td>\n",
       "      <td>NaN</td>\n",
       "      <td>粉色</td>\n",
       "      <td>辆</td>\n",
       "      <td>0.0</td>\n",
       "      <td>0.0</td>\n",
       "      <td>...</td>\n",
       "      <td>0</td>\n",
       "      <td>NaN</td>\n",
       "      <td>0</td>\n",
       "      <td>0</td>\n",
       "      <td>0</td>\n",
       "      <td>月</td>\n",
       "      <td>0</td>\n",
       "      <td>0</td>\n",
       "      <td>0</td>\n",
       "      <td>0</td>\n",
       "    </tr>\n",
       "  </tbody>\n",
       "</table>\n",
       "<p>5 rows × 76 columns</p>\n",
       "</div>"
      ],
      "text/plain": [
       "  GoodsID      GoodsNO    ClassID         GoodsName      GoodsName2 EngName  \\\n",
       "0    1098    501212406         47  Britax宝得适头等舱安全座椅         头等舱安全座椅     NaN   \n",
       "1    1099     69251255  663151110       KUB可优比-高脚餐椅        KUB-高脚餐椅     NaN   \n",
       "2    1100         0017         48          斯玛特（经典版）             NaN     NaN   \n",
       "3    1102  69339596228         47    宝贝第一赛威乐V8B安全座椅  宝贝第一赛威乐V8B安全座椅     NaN   \n",
       "4    1103   6 92512550  663131010       KUB可优比-企鹅床品        KUB-企鹅床品     NaN   \n",
       "\n",
       "  GoodsSpec Unit Price_Cost Price_Detail       ...       bCustom TaxItemCode  \\\n",
       "0       NaN    个        0.0          0.0       ...             0         NaN   \n",
       "1       NaN    台        0.0          0.0       ...             0         NaN   \n",
       "2       NaN    辆        0.0          0.0       ...             0         NaN   \n",
       "3       NaN    个        0.0          0.0       ...             0         NaN   \n",
       "4        粉色    辆        0.0          0.0       ...             0         NaN   \n",
       "\n",
       "  bBatch bShelfLife ShelfLife ShelfLifeType bStopStockIn StopStockInDay  \\\n",
       "0      0          0         0             月            0              0   \n",
       "1      0          0         0             月            0              0   \n",
       "2      0          0         0             月            0              0   \n",
       "3      0          0         0             月            0              0   \n",
       "4      0          0         0             月            0              0   \n",
       "\n",
       "  bStopStockOut StopStockOutDay  \n",
       "0             0               0  \n",
       "1             0               0  \n",
       "2             0               0  \n",
       "3             0               0  \n",
       "4             0               0  \n",
       "\n",
       "[5 rows x 76 columns]"
      ]
     },
     "execution_count": 6,
     "metadata": {},
     "output_type": "execute_result"
    }
   ],
   "source": [
    "goodslist.head()"
   ]
  },
  {
   "cell_type": "code",
   "execution_count": 7,
   "metadata": {},
   "outputs": [],
   "source": [
    "goodslist_short=goodslist[['GoodsNO','FixCostPrice']]"
   ]
  },
  {
   "cell_type": "code",
   "execution_count": 8,
   "metadata": {},
   "outputs": [
    {
     "data": {
      "text/html": [
       "<div>\n",
       "<style scoped>\n",
       "    .dataframe tbody tr th:only-of-type {\n",
       "        vertical-align: middle;\n",
       "    }\n",
       "\n",
       "    .dataframe tbody tr th {\n",
       "        vertical-align: top;\n",
       "    }\n",
       "\n",
       "    .dataframe thead th {\n",
       "        text-align: right;\n",
       "    }\n",
       "</style>\n",
       "<table border=\"1\" class=\"dataframe\">\n",
       "  <thead>\n",
       "    <tr style=\"text-align: right;\">\n",
       "      <th></th>\n",
       "      <th>GoodsNO</th>\n",
       "      <th>FixCostPrice</th>\n",
       "    </tr>\n",
       "  </thead>\n",
       "  <tbody>\n",
       "    <tr>\n",
       "      <th>0</th>\n",
       "      <td>501212406</td>\n",
       "      <td>1200.0</td>\n",
       "    </tr>\n",
       "    <tr>\n",
       "      <th>1</th>\n",
       "      <td>69251255</td>\n",
       "      <td>100.0</td>\n",
       "    </tr>\n",
       "    <tr>\n",
       "      <th>2</th>\n",
       "      <td>0017</td>\n",
       "      <td>560.0</td>\n",
       "    </tr>\n",
       "    <tr>\n",
       "      <th>3</th>\n",
       "      <td>69339596228</td>\n",
       "      <td>470.4</td>\n",
       "    </tr>\n",
       "    <tr>\n",
       "      <th>4</th>\n",
       "      <td>6 92512550</td>\n",
       "      <td>88.0</td>\n",
       "    </tr>\n",
       "  </tbody>\n",
       "</table>\n",
       "</div>"
      ],
      "text/plain": [
       "       GoodsNO FixCostPrice\n",
       "0    501212406       1200.0\n",
       "1     69251255        100.0\n",
       "2         0017        560.0\n",
       "3  69339596228        470.4\n",
       "4   6 92512550         88.0"
      ]
     },
     "execution_count": 8,
     "metadata": {},
     "output_type": "execute_result"
    }
   ],
   "source": [
    "goodslist_short.head()"
   ]
  },
  {
   "cell_type": "code",
   "execution_count": 9,
   "metadata": {},
   "outputs": [],
   "source": [
    "stockdata=pd.DataFrame(stockdata)"
   ]
  },
  {
   "cell_type": "code",
   "execution_count": 10,
   "metadata": {},
   "outputs": [],
   "source": [
    "stockdata.columns=['GoodsNO','GoodsName','Total_in','date','update_time','cal_time','stock_age']"
   ]
  },
  {
   "cell_type": "code",
   "execution_count": 11,
   "metadata": {},
   "outputs": [
    {
     "data": {
      "text/html": [
       "<div>\n",
       "<style scoped>\n",
       "    .dataframe tbody tr th:only-of-type {\n",
       "        vertical-align: middle;\n",
       "    }\n",
       "\n",
       "    .dataframe tbody tr th {\n",
       "        vertical-align: top;\n",
       "    }\n",
       "\n",
       "    .dataframe thead th {\n",
       "        text-align: right;\n",
       "    }\n",
       "</style>\n",
       "<table border=\"1\" class=\"dataframe\">\n",
       "  <thead>\n",
       "    <tr style=\"text-align: right;\">\n",
       "      <th></th>\n",
       "      <th>GoodsNO</th>\n",
       "      <th>GoodsName</th>\n",
       "      <th>Total_in</th>\n",
       "      <th>date</th>\n",
       "      <th>update_time</th>\n",
       "      <th>cal_time</th>\n",
       "      <th>stock_age</th>\n",
       "    </tr>\n",
       "  </thead>\n",
       "  <tbody>\n",
       "    <tr>\n",
       "      <th>0</th>\n",
       "      <td>00010</td>\n",
       "      <td>淘宝费用-不要选</td>\n",
       "      <td>10000</td>\n",
       "      <td>2017-10-31</td>\n",
       "      <td>NaT</td>\n",
       "      <td>2018-01-01</td>\n",
       "      <td>62</td>\n",
       "    </tr>\n",
       "    <tr>\n",
       "      <th>1</th>\n",
       "      <td>00443</td>\n",
       "      <td>FORBABY-P680婴儿车-白色车架</td>\n",
       "      <td>4</td>\n",
       "      <td>2017-10-31</td>\n",
       "      <td>NaT</td>\n",
       "      <td>2018-01-01</td>\n",
       "      <td>62</td>\n",
       "    </tr>\n",
       "    <tr>\n",
       "      <th>2</th>\n",
       "      <td>00445</td>\n",
       "      <td>FORBABY-P680婴儿车-紫色睡篮棉垫</td>\n",
       "      <td>117</td>\n",
       "      <td>2017-10-31</td>\n",
       "      <td>NaT</td>\n",
       "      <td>2018-01-01</td>\n",
       "      <td>62</td>\n",
       "    </tr>\n",
       "    <tr>\n",
       "      <th>3</th>\n",
       "      <td>00446</td>\n",
       "      <td>FORBABY-P680婴儿车-蓝色睡篮棉垫</td>\n",
       "      <td>24</td>\n",
       "      <td>2017-10-31</td>\n",
       "      <td>2019-01-08 20:41:35</td>\n",
       "      <td>2018-01-01</td>\n",
       "      <td>62</td>\n",
       "    </tr>\n",
       "    <tr>\n",
       "      <th>4</th>\n",
       "      <td>00447</td>\n",
       "      <td>FORBABY-P680婴儿车-蓝色遮阳棚</td>\n",
       "      <td>24</td>\n",
       "      <td>2017-10-31</td>\n",
       "      <td>2019-01-08 20:41:36</td>\n",
       "      <td>2018-01-01</td>\n",
       "      <td>62</td>\n",
       "    </tr>\n",
       "  </tbody>\n",
       "</table>\n",
       "</div>"
      ],
      "text/plain": [
       "  GoodsNO               GoodsName  Total_in        date         update_time  \\\n",
       "0   00010                淘宝费用-不要选     10000  2017-10-31                 NaT   \n",
       "1   00443    FORBABY-P680婴儿车-白色车架         4  2017-10-31                 NaT   \n",
       "2   00445  FORBABY-P680婴儿车-紫色睡篮棉垫       117  2017-10-31                 NaT   \n",
       "3   00446  FORBABY-P680婴儿车-蓝色睡篮棉垫        24  2017-10-31 2019-01-08 20:41:35   \n",
       "4   00447   FORBABY-P680婴儿车-蓝色遮阳棚        24  2017-10-31 2019-01-08 20:41:36   \n",
       "\n",
       "     cal_time  stock_age  \n",
       "0  2018-01-01         62  \n",
       "1  2018-01-01         62  \n",
       "2  2018-01-01         62  \n",
       "3  2018-01-01         62  \n",
       "4  2018-01-01         62  "
      ]
     },
     "execution_count": 11,
     "metadata": {},
     "output_type": "execute_result"
    }
   ],
   "source": [
    "stockdata.head()"
   ]
  },
  {
   "cell_type": "code",
   "execution_count": 12,
   "metadata": {},
   "outputs": [],
   "source": [
    "def merge(data_left,data_right,key):\n",
    "    left=pd.read_csv(data_left,header = 0,dtype = object,engine='python',encoding='utf-8')\n",
    "    right=pd.read_csv(data_right,header = 0,dtype = object,engine='python')\n",
    "    right=right.drop_duplicates(key)\n",
    "    data_merge=pd.merge(left,right,on=key,how='left')\n",
    "    return data_merge"
   ]
  },
  {
   "cell_type": "code",
   "execution_count": 13,
   "metadata": {},
   "outputs": [],
   "source": [
    "data_merge=pd.merge(stockdata,goodslist_short,on=['GoodsNO'],how='left')"
   ]
  },
  {
   "cell_type": "code",
   "execution_count": 14,
   "metadata": {},
   "outputs": [
    {
     "data": {
      "text/html": [
       "<div>\n",
       "<style scoped>\n",
       "    .dataframe tbody tr th:only-of-type {\n",
       "        vertical-align: middle;\n",
       "    }\n",
       "\n",
       "    .dataframe tbody tr th {\n",
       "        vertical-align: top;\n",
       "    }\n",
       "\n",
       "    .dataframe thead th {\n",
       "        text-align: right;\n",
       "    }\n",
       "</style>\n",
       "<table border=\"1\" class=\"dataframe\">\n",
       "  <thead>\n",
       "    <tr style=\"text-align: right;\">\n",
       "      <th></th>\n",
       "      <th>GoodsNO</th>\n",
       "      <th>GoodsName</th>\n",
       "      <th>Total_in</th>\n",
       "      <th>date</th>\n",
       "      <th>update_time</th>\n",
       "      <th>cal_time</th>\n",
       "      <th>stock_age</th>\n",
       "      <th>FixCostPrice</th>\n",
       "    </tr>\n",
       "  </thead>\n",
       "  <tbody>\n",
       "    <tr>\n",
       "      <th>0</th>\n",
       "      <td>00010</td>\n",
       "      <td>淘宝费用-不要选</td>\n",
       "      <td>10000</td>\n",
       "      <td>2017-10-31</td>\n",
       "      <td>NaT</td>\n",
       "      <td>2018-01-01</td>\n",
       "      <td>62</td>\n",
       "      <td>0.0</td>\n",
       "    </tr>\n",
       "    <tr>\n",
       "      <th>1</th>\n",
       "      <td>00443</td>\n",
       "      <td>FORBABY-P680婴儿车-白色车架</td>\n",
       "      <td>4</td>\n",
       "      <td>2017-10-31</td>\n",
       "      <td>NaT</td>\n",
       "      <td>2018-01-01</td>\n",
       "      <td>62</td>\n",
       "      <td>517.0</td>\n",
       "    </tr>\n",
       "    <tr>\n",
       "      <th>2</th>\n",
       "      <td>00445</td>\n",
       "      <td>FORBABY-P680婴儿车-紫色睡篮棉垫</td>\n",
       "      <td>117</td>\n",
       "      <td>2017-10-31</td>\n",
       "      <td>NaT</td>\n",
       "      <td>2018-01-01</td>\n",
       "      <td>62</td>\n",
       "      <td>15.0</td>\n",
       "    </tr>\n",
       "    <tr>\n",
       "      <th>3</th>\n",
       "      <td>00446</td>\n",
       "      <td>FORBABY-P680婴儿车-蓝色睡篮棉垫</td>\n",
       "      <td>24</td>\n",
       "      <td>2017-10-31</td>\n",
       "      <td>2019-01-08 20:41:35</td>\n",
       "      <td>2018-01-01</td>\n",
       "      <td>62</td>\n",
       "      <td>15.0</td>\n",
       "    </tr>\n",
       "    <tr>\n",
       "      <th>4</th>\n",
       "      <td>00447</td>\n",
       "      <td>FORBABY-P680婴儿车-蓝色遮阳棚</td>\n",
       "      <td>24</td>\n",
       "      <td>2017-10-31</td>\n",
       "      <td>2019-01-08 20:41:36</td>\n",
       "      <td>2018-01-01</td>\n",
       "      <td>62</td>\n",
       "      <td>21.0</td>\n",
       "    </tr>\n",
       "  </tbody>\n",
       "</table>\n",
       "</div>"
      ],
      "text/plain": [
       "  GoodsNO               GoodsName  Total_in        date         update_time  \\\n",
       "0   00010                淘宝费用-不要选     10000  2017-10-31                 NaT   \n",
       "1   00443    FORBABY-P680婴儿车-白色车架         4  2017-10-31                 NaT   \n",
       "2   00445  FORBABY-P680婴儿车-紫色睡篮棉垫       117  2017-10-31                 NaT   \n",
       "3   00446  FORBABY-P680婴儿车-蓝色睡篮棉垫        24  2017-10-31 2019-01-08 20:41:35   \n",
       "4   00447   FORBABY-P680婴儿车-蓝色遮阳棚        24  2017-10-31 2019-01-08 20:41:36   \n",
       "\n",
       "     cal_time  stock_age FixCostPrice  \n",
       "0  2018-01-01         62          0.0  \n",
       "1  2018-01-01         62        517.0  \n",
       "2  2018-01-01         62         15.0  \n",
       "3  2018-01-01         62         15.0  \n",
       "4  2018-01-01         62         21.0  "
      ]
     },
     "execution_count": 14,
     "metadata": {},
     "output_type": "execute_result"
    }
   ],
   "source": [
    "data_merge.head()"
   ]
  },
  {
   "cell_type": "code",
   "execution_count": 15,
   "metadata": {},
   "outputs": [],
   "source": [
    "data_merge['FixCostPrice']=data_merge['FixCostPrice'].apply(pd.to_numeric)"
   ]
  },
  {
   "cell_type": "code",
   "execution_count": 16,
   "metadata": {},
   "outputs": [],
   "source": [
    "data_merge['stockDelayCost']=data_merge['Total_in']*data_merge['FixCostPrice']*0.05/30"
   ]
  },
  {
   "cell_type": "code",
   "execution_count": 17,
   "metadata": {},
   "outputs": [
    {
     "data": {
      "text/html": [
       "<div>\n",
       "<style scoped>\n",
       "    .dataframe tbody tr th:only-of-type {\n",
       "        vertical-align: middle;\n",
       "    }\n",
       "\n",
       "    .dataframe tbody tr th {\n",
       "        vertical-align: top;\n",
       "    }\n",
       "\n",
       "    .dataframe thead th {\n",
       "        text-align: right;\n",
       "    }\n",
       "</style>\n",
       "<table border=\"1\" class=\"dataframe\">\n",
       "  <thead>\n",
       "    <tr style=\"text-align: right;\">\n",
       "      <th></th>\n",
       "      <th>GoodsNO</th>\n",
       "      <th>GoodsName</th>\n",
       "      <th>Total_in</th>\n",
       "      <th>date</th>\n",
       "      <th>update_time</th>\n",
       "      <th>cal_time</th>\n",
       "      <th>stock_age</th>\n",
       "      <th>FixCostPrice</th>\n",
       "      <th>stockDelayCost</th>\n",
       "    </tr>\n",
       "  </thead>\n",
       "  <tbody>\n",
       "    <tr>\n",
       "      <th>0</th>\n",
       "      <td>00010</td>\n",
       "      <td>淘宝费用-不要选</td>\n",
       "      <td>10000</td>\n",
       "      <td>2017-10-31</td>\n",
       "      <td>NaT</td>\n",
       "      <td>2018-01-01</td>\n",
       "      <td>62</td>\n",
       "      <td>0.0</td>\n",
       "      <td>0.000000</td>\n",
       "    </tr>\n",
       "    <tr>\n",
       "      <th>1</th>\n",
       "      <td>00443</td>\n",
       "      <td>FORBABY-P680婴儿车-白色车架</td>\n",
       "      <td>4</td>\n",
       "      <td>2017-10-31</td>\n",
       "      <td>NaT</td>\n",
       "      <td>2018-01-01</td>\n",
       "      <td>62</td>\n",
       "      <td>517.0</td>\n",
       "      <td>3.446667</td>\n",
       "    </tr>\n",
       "    <tr>\n",
       "      <th>2</th>\n",
       "      <td>00445</td>\n",
       "      <td>FORBABY-P680婴儿车-紫色睡篮棉垫</td>\n",
       "      <td>117</td>\n",
       "      <td>2017-10-31</td>\n",
       "      <td>NaT</td>\n",
       "      <td>2018-01-01</td>\n",
       "      <td>62</td>\n",
       "      <td>15.0</td>\n",
       "      <td>2.925000</td>\n",
       "    </tr>\n",
       "    <tr>\n",
       "      <th>3</th>\n",
       "      <td>00446</td>\n",
       "      <td>FORBABY-P680婴儿车-蓝色睡篮棉垫</td>\n",
       "      <td>24</td>\n",
       "      <td>2017-10-31</td>\n",
       "      <td>2019-01-08 20:41:35</td>\n",
       "      <td>2018-01-01</td>\n",
       "      <td>62</td>\n",
       "      <td>15.0</td>\n",
       "      <td>0.600000</td>\n",
       "    </tr>\n",
       "    <tr>\n",
       "      <th>4</th>\n",
       "      <td>00447</td>\n",
       "      <td>FORBABY-P680婴儿车-蓝色遮阳棚</td>\n",
       "      <td>24</td>\n",
       "      <td>2017-10-31</td>\n",
       "      <td>2019-01-08 20:41:36</td>\n",
       "      <td>2018-01-01</td>\n",
       "      <td>62</td>\n",
       "      <td>21.0</td>\n",
       "      <td>0.840000</td>\n",
       "    </tr>\n",
       "  </tbody>\n",
       "</table>\n",
       "</div>"
      ],
      "text/plain": [
       "  GoodsNO               GoodsName  Total_in        date         update_time  \\\n",
       "0   00010                淘宝费用-不要选     10000  2017-10-31                 NaT   \n",
       "1   00443    FORBABY-P680婴儿车-白色车架         4  2017-10-31                 NaT   \n",
       "2   00445  FORBABY-P680婴儿车-紫色睡篮棉垫       117  2017-10-31                 NaT   \n",
       "3   00446  FORBABY-P680婴儿车-蓝色睡篮棉垫        24  2017-10-31 2019-01-08 20:41:35   \n",
       "4   00447   FORBABY-P680婴儿车-蓝色遮阳棚        24  2017-10-31 2019-01-08 20:41:36   \n",
       "\n",
       "     cal_time  stock_age  FixCostPrice  stockDelayCost  \n",
       "0  2018-01-01         62           0.0        0.000000  \n",
       "1  2018-01-01         62         517.0        3.446667  \n",
       "2  2018-01-01         62          15.0        2.925000  \n",
       "3  2018-01-01         62          15.0        0.600000  \n",
       "4  2018-01-01         62          21.0        0.840000  "
      ]
     },
     "execution_count": 17,
     "metadata": {},
     "output_type": "execute_result"
    }
   ],
   "source": [
    "data_merge.head()"
   ]
  },
  {
   "cell_type": "code",
   "execution_count": 18,
   "metadata": {},
   "outputs": [
    {
     "data": {
      "text/plain": [
       "numpy.float64"
      ]
     },
     "execution_count": 18,
     "metadata": {},
     "output_type": "execute_result"
    }
   ],
   "source": [
    "type(data_merge['FixCostPrice'][0])"
   ]
  },
  {
   "cell_type": "code",
   "execution_count": 19,
   "metadata": {},
   "outputs": [],
   "source": [
    "data_merge['cal_time_month']=data_merge.cal_time.map(lambda x: x.strftime('%Y-%m'))"
   ]
  },
  {
   "cell_type": "code",
   "execution_count": 20,
   "metadata": {},
   "outputs": [
    {
     "data": {
      "text/html": [
       "<div>\n",
       "<style scoped>\n",
       "    .dataframe tbody tr th:only-of-type {\n",
       "        vertical-align: middle;\n",
       "    }\n",
       "\n",
       "    .dataframe tbody tr th {\n",
       "        vertical-align: top;\n",
       "    }\n",
       "\n",
       "    .dataframe thead th {\n",
       "        text-align: right;\n",
       "    }\n",
       "</style>\n",
       "<table border=\"1\" class=\"dataframe\">\n",
       "  <thead>\n",
       "    <tr style=\"text-align: right;\">\n",
       "      <th></th>\n",
       "      <th>GoodsNO</th>\n",
       "      <th>GoodsName</th>\n",
       "      <th>Total_in</th>\n",
       "      <th>date</th>\n",
       "      <th>update_time</th>\n",
       "      <th>cal_time</th>\n",
       "      <th>stock_age</th>\n",
       "      <th>FixCostPrice</th>\n",
       "      <th>stockDelayCost</th>\n",
       "      <th>cal_time_month</th>\n",
       "    </tr>\n",
       "  </thead>\n",
       "  <tbody>\n",
       "    <tr>\n",
       "      <th>0</th>\n",
       "      <td>00010</td>\n",
       "      <td>淘宝费用-不要选</td>\n",
       "      <td>10000</td>\n",
       "      <td>2017-10-31</td>\n",
       "      <td>NaT</td>\n",
       "      <td>2018-01-01</td>\n",
       "      <td>62</td>\n",
       "      <td>0.0</td>\n",
       "      <td>0.000000</td>\n",
       "      <td>2018-01</td>\n",
       "    </tr>\n",
       "    <tr>\n",
       "      <th>1</th>\n",
       "      <td>00443</td>\n",
       "      <td>FORBABY-P680婴儿车-白色车架</td>\n",
       "      <td>4</td>\n",
       "      <td>2017-10-31</td>\n",
       "      <td>NaT</td>\n",
       "      <td>2018-01-01</td>\n",
       "      <td>62</td>\n",
       "      <td>517.0</td>\n",
       "      <td>3.446667</td>\n",
       "      <td>2018-01</td>\n",
       "    </tr>\n",
       "    <tr>\n",
       "      <th>2</th>\n",
       "      <td>00445</td>\n",
       "      <td>FORBABY-P680婴儿车-紫色睡篮棉垫</td>\n",
       "      <td>117</td>\n",
       "      <td>2017-10-31</td>\n",
       "      <td>NaT</td>\n",
       "      <td>2018-01-01</td>\n",
       "      <td>62</td>\n",
       "      <td>15.0</td>\n",
       "      <td>2.925000</td>\n",
       "      <td>2018-01</td>\n",
       "    </tr>\n",
       "    <tr>\n",
       "      <th>3</th>\n",
       "      <td>00446</td>\n",
       "      <td>FORBABY-P680婴儿车-蓝色睡篮棉垫</td>\n",
       "      <td>24</td>\n",
       "      <td>2017-10-31</td>\n",
       "      <td>2019-01-08 20:41:35</td>\n",
       "      <td>2018-01-01</td>\n",
       "      <td>62</td>\n",
       "      <td>15.0</td>\n",
       "      <td>0.600000</td>\n",
       "      <td>2018-01</td>\n",
       "    </tr>\n",
       "    <tr>\n",
       "      <th>4</th>\n",
       "      <td>00447</td>\n",
       "      <td>FORBABY-P680婴儿车-蓝色遮阳棚</td>\n",
       "      <td>24</td>\n",
       "      <td>2017-10-31</td>\n",
       "      <td>2019-01-08 20:41:36</td>\n",
       "      <td>2018-01-01</td>\n",
       "      <td>62</td>\n",
       "      <td>21.0</td>\n",
       "      <td>0.840000</td>\n",
       "      <td>2018-01</td>\n",
       "    </tr>\n",
       "  </tbody>\n",
       "</table>\n",
       "</div>"
      ],
      "text/plain": [
       "  GoodsNO               GoodsName  Total_in        date         update_time  \\\n",
       "0   00010                淘宝费用-不要选     10000  2017-10-31                 NaT   \n",
       "1   00443    FORBABY-P680婴儿车-白色车架         4  2017-10-31                 NaT   \n",
       "2   00445  FORBABY-P680婴儿车-紫色睡篮棉垫       117  2017-10-31                 NaT   \n",
       "3   00446  FORBABY-P680婴儿车-蓝色睡篮棉垫        24  2017-10-31 2019-01-08 20:41:35   \n",
       "4   00447   FORBABY-P680婴儿车-蓝色遮阳棚        24  2017-10-31 2019-01-08 20:41:36   \n",
       "\n",
       "     cal_time  stock_age  FixCostPrice  stockDelayCost cal_time_month  \n",
       "0  2018-01-01         62           0.0        0.000000        2018-01  \n",
       "1  2018-01-01         62         517.0        3.446667        2018-01  \n",
       "2  2018-01-01         62          15.0        2.925000        2018-01  \n",
       "3  2018-01-01         62          15.0        0.600000        2018-01  \n",
       "4  2018-01-01         62          21.0        0.840000        2018-01  "
      ]
     },
     "execution_count": 20,
     "metadata": {},
     "output_type": "execute_result"
    }
   ],
   "source": [
    "data_merge.head()"
   ]
  },
  {
   "cell_type": "code",
   "execution_count": 21,
   "metadata": {},
   "outputs": [],
   "source": [
    "data_merge_groupby=data_merge.groupby(['GoodsNO','GoodsName','cal_time_month'],as_index=False)"
   ]
  },
  {
   "cell_type": "code",
   "execution_count": 22,
   "metadata": {},
   "outputs": [],
   "source": [
    "data_merge_groupby=data_merge_groupby.aggregate(np.sum)"
   ]
  },
  {
   "cell_type": "code",
   "execution_count": 23,
   "metadata": {},
   "outputs": [
    {
     "data": {
      "text/plain": [
       "False    41074\n",
       "Name: GoodsNO, dtype: int64"
      ]
     },
     "execution_count": 23,
     "metadata": {},
     "output_type": "execute_result"
    }
   ],
   "source": [
    "data_merge_groupby['GoodsNO'].isnull().value_counts()"
   ]
  },
  {
   "cell_type": "code",
   "execution_count": 24,
   "metadata": {},
   "outputs": [
    {
     "data": {
      "text/html": [
       "<div>\n",
       "<style scoped>\n",
       "    .dataframe tbody tr th:only-of-type {\n",
       "        vertical-align: middle;\n",
       "    }\n",
       "\n",
       "    .dataframe tbody tr th {\n",
       "        vertical-align: top;\n",
       "    }\n",
       "\n",
       "    .dataframe thead th {\n",
       "        text-align: right;\n",
       "    }\n",
       "</style>\n",
       "<table border=\"1\" class=\"dataframe\">\n",
       "  <thead>\n",
       "    <tr style=\"text-align: right;\">\n",
       "      <th></th>\n",
       "      <th>GoodsNO</th>\n",
       "      <th>GoodsName</th>\n",
       "      <th>cal_time_month</th>\n",
       "      <th>Total_in</th>\n",
       "      <th>stock_age</th>\n",
       "      <th>FixCostPrice</th>\n",
       "      <th>stockDelayCost</th>\n",
       "    </tr>\n",
       "  </thead>\n",
       "  <tbody>\n",
       "    <tr>\n",
       "      <th>0</th>\n",
       "      <td></td>\n",
       "      <td></td>\n",
       "      <td>2018-01</td>\n",
       "      <td>217442959</td>\n",
       "      <td>2387</td>\n",
       "      <td>31.0</td>\n",
       "      <td>362404.931667</td>\n",
       "    </tr>\n",
       "    <tr>\n",
       "      <th>1</th>\n",
       "      <td></td>\n",
       "      <td></td>\n",
       "      <td>2018-02</td>\n",
       "      <td>196400092</td>\n",
       "      <td>2982</td>\n",
       "      <td>28.0</td>\n",
       "      <td>327333.486667</td>\n",
       "    </tr>\n",
       "    <tr>\n",
       "      <th>2</th>\n",
       "      <td></td>\n",
       "      <td></td>\n",
       "      <td>2018-03</td>\n",
       "      <td>217442959</td>\n",
       "      <td>4216</td>\n",
       "      <td>31.0</td>\n",
       "      <td>362404.931667</td>\n",
       "    </tr>\n",
       "    <tr>\n",
       "      <th>3</th>\n",
       "      <td></td>\n",
       "      <td></td>\n",
       "      <td>2018-04</td>\n",
       "      <td>210428670</td>\n",
       "      <td>4995</td>\n",
       "      <td>30.0</td>\n",
       "      <td>350714.450000</td>\n",
       "    </tr>\n",
       "    <tr>\n",
       "      <th>4</th>\n",
       "      <td></td>\n",
       "      <td></td>\n",
       "      <td>2018-05</td>\n",
       "      <td>217442959</td>\n",
       "      <td>6107</td>\n",
       "      <td>31.0</td>\n",
       "      <td>362404.931667</td>\n",
       "    </tr>\n",
       "  </tbody>\n",
       "</table>\n",
       "</div>"
      ],
      "text/plain": [
       "  GoodsNO GoodsName cal_time_month   Total_in  stock_age  FixCostPrice  \\\n",
       "0                          2018-01  217442959       2387          31.0   \n",
       "1                          2018-02  196400092       2982          28.0   \n",
       "2                          2018-03  217442959       4216          31.0   \n",
       "3                          2018-04  210428670       4995          30.0   \n",
       "4                          2018-05  217442959       6107          31.0   \n",
       "\n",
       "   stockDelayCost  \n",
       "0   362404.931667  \n",
       "1   327333.486667  \n",
       "2   362404.931667  \n",
       "3   350714.450000  \n",
       "4   362404.931667  "
      ]
     },
     "execution_count": 24,
     "metadata": {},
     "output_type": "execute_result"
    }
   ],
   "source": [
    "data_merge_groupby.head()"
   ]
  },
  {
   "cell_type": "code",
   "execution_count": 25,
   "metadata": {},
   "outputs": [],
   "source": [
    "GoodsInfo =pd.read_csv('goodsinfo0117.csv',header = 0,dtype=object,engine='python')"
   ]
  },
  {
   "cell_type": "code",
   "execution_count": 26,
   "metadata": {},
   "outputs": [],
   "source": [
    "GoodsInfoShort=GoodsInfo[['GoodsNO','Company','Dept']]"
   ]
  },
  {
   "cell_type": "code",
   "execution_count": 27,
   "metadata": {},
   "outputs": [
    {
     "data": {
      "text/html": [
       "<div>\n",
       "<style scoped>\n",
       "    .dataframe tbody tr th:only-of-type {\n",
       "        vertical-align: middle;\n",
       "    }\n",
       "\n",
       "    .dataframe tbody tr th {\n",
       "        vertical-align: top;\n",
       "    }\n",
       "\n",
       "    .dataframe thead th {\n",
       "        text-align: right;\n",
       "    }\n",
       "</style>\n",
       "<table border=\"1\" class=\"dataframe\">\n",
       "  <thead>\n",
       "    <tr style=\"text-align: right;\">\n",
       "      <th></th>\n",
       "      <th>GoodsNO</th>\n",
       "      <th>Company</th>\n",
       "      <th>Dept</th>\n",
       "    </tr>\n",
       "  </thead>\n",
       "  <tbody>\n",
       "    <tr>\n",
       "      <th>0</th>\n",
       "      <td>00547</td>\n",
       "      <td>可优比母婴用品有限公司</td>\n",
       "      <td>KUB安防</td>\n",
       "    </tr>\n",
       "    <tr>\n",
       "      <th>1</th>\n",
       "      <td>105131</td>\n",
       "      <td>可优比母婴用品有限公司</td>\n",
       "      <td>KUB安防</td>\n",
       "    </tr>\n",
       "    <tr>\n",
       "      <th>2</th>\n",
       "      <td>105132</td>\n",
       "      <td>可优比母婴用品有限公司</td>\n",
       "      <td>KUB安防</td>\n",
       "    </tr>\n",
       "    <tr>\n",
       "      <th>3</th>\n",
       "      <td>105133</td>\n",
       "      <td>可优比母婴用品有限公司</td>\n",
       "      <td>KUB安防</td>\n",
       "    </tr>\n",
       "    <tr>\n",
       "      <th>4</th>\n",
       "      <td>105134</td>\n",
       "      <td>可优比母婴用品有限公司</td>\n",
       "      <td>KUB安防</td>\n",
       "    </tr>\n",
       "  </tbody>\n",
       "</table>\n",
       "</div>"
      ],
      "text/plain": [
       "  GoodsNO        Company   Dept\n",
       "0   00547    可优比母婴用品有限公司  KUB安防\n",
       "1  105131    可优比母婴用品有限公司  KUB安防\n",
       "2  105132    可优比母婴用品有限公司  KUB安防\n",
       "3  105133    可优比母婴用品有限公司  KUB安防\n",
       "4  105134    可优比母婴用品有限公司  KUB安防"
      ]
     },
     "execution_count": 27,
     "metadata": {},
     "output_type": "execute_result"
    }
   ],
   "source": [
    "GoodsInfoShort.head()"
   ]
  },
  {
   "cell_type": "code",
   "execution_count": 28,
   "metadata": {},
   "outputs": [
    {
     "data": {
      "text/plain": [
       "(16129, 3)"
      ]
     },
     "execution_count": 28,
     "metadata": {},
     "output_type": "execute_result"
    }
   ],
   "source": [
    "GoodsInfoShort.shape"
   ]
  },
  {
   "cell_type": "code",
   "execution_count": 29,
   "metadata": {},
   "outputs": [],
   "source": [
    "GoodsInfoShort=GoodsInfoShort.drop_duplicates([\"GoodsNO\"])"
   ]
  },
  {
   "cell_type": "code",
   "execution_count": 30,
   "metadata": {},
   "outputs": [
    {
     "data": {
      "text/plain": [
       "(16113, 3)"
      ]
     },
     "execution_count": 30,
     "metadata": {},
     "output_type": "execute_result"
    }
   ],
   "source": [
    "GoodsInfoShort.shape"
   ]
  },
  {
   "cell_type": "code",
   "execution_count": 40,
   "metadata": {},
   "outputs": [],
   "source": [
    "GoodsInfoShort.to_excel(\"1234.xlsx\",header=True,index=False)"
   ]
  },
  {
   "cell_type": "code",
   "execution_count": 31,
   "metadata": {},
   "outputs": [
    {
     "data": {
      "text/html": [
       "<div>\n",
       "<style scoped>\n",
       "    .dataframe tbody tr th:only-of-type {\n",
       "        vertical-align: middle;\n",
       "    }\n",
       "\n",
       "    .dataframe tbody tr th {\n",
       "        vertical-align: top;\n",
       "    }\n",
       "\n",
       "    .dataframe thead th {\n",
       "        text-align: right;\n",
       "    }\n",
       "</style>\n",
       "<table border=\"1\" class=\"dataframe\">\n",
       "  <thead>\n",
       "    <tr style=\"text-align: right;\">\n",
       "      <th></th>\n",
       "      <th>GoodsNO</th>\n",
       "      <th>Company</th>\n",
       "      <th>Dept</th>\n",
       "    </tr>\n",
       "  </thead>\n",
       "  <tbody>\n",
       "    <tr>\n",
       "      <th>0</th>\n",
       "      <td>00547</td>\n",
       "      <td>可优比母婴用品有限公司</td>\n",
       "      <td>KUB安防</td>\n",
       "    </tr>\n",
       "    <tr>\n",
       "      <th>1</th>\n",
       "      <td>105131</td>\n",
       "      <td>可优比母婴用品有限公司</td>\n",
       "      <td>KUB安防</td>\n",
       "    </tr>\n",
       "    <tr>\n",
       "      <th>2</th>\n",
       "      <td>105132</td>\n",
       "      <td>可优比母婴用品有限公司</td>\n",
       "      <td>KUB安防</td>\n",
       "    </tr>\n",
       "    <tr>\n",
       "      <th>3</th>\n",
       "      <td>105133</td>\n",
       "      <td>可优比母婴用品有限公司</td>\n",
       "      <td>KUB安防</td>\n",
       "    </tr>\n",
       "    <tr>\n",
       "      <th>4</th>\n",
       "      <td>105134</td>\n",
       "      <td>可优比母婴用品有限公司</td>\n",
       "      <td>KUB安防</td>\n",
       "    </tr>\n",
       "  </tbody>\n",
       "</table>\n",
       "</div>"
      ],
      "text/plain": [
       "  GoodsNO        Company   Dept\n",
       "0   00547    可优比母婴用品有限公司  KUB安防\n",
       "1  105131    可优比母婴用品有限公司  KUB安防\n",
       "2  105132    可优比母婴用品有限公司  KUB安防\n",
       "3  105133    可优比母婴用品有限公司  KUB安防\n",
       "4  105134    可优比母婴用品有限公司  KUB安防"
      ]
     },
     "execution_count": 31,
     "metadata": {},
     "output_type": "execute_result"
    }
   ],
   "source": [
    "GoodsInfoShort.head()"
   ]
  },
  {
   "cell_type": "code",
   "execution_count": 32,
   "metadata": {},
   "outputs": [],
   "source": [
    "data_merge_dept=pd.merge(data_merge_groupby,GoodsInfoShort,on=['GoodsNO'],how='left')"
   ]
  },
  {
   "cell_type": "code",
   "execution_count": 33,
   "metadata": {
    "scrolled": false
   },
   "outputs": [
    {
     "data": {
      "text/plain": [
       "(41074, 7)"
      ]
     },
     "execution_count": 33,
     "metadata": {},
     "output_type": "execute_result"
    }
   ],
   "source": [
    "data_merge_groupby.shape"
   ]
  },
  {
   "cell_type": "code",
   "execution_count": 34,
   "metadata": {},
   "outputs": [
    {
     "data": {
      "text/plain": [
       "(41074, 9)"
      ]
     },
     "execution_count": 34,
     "metadata": {},
     "output_type": "execute_result"
    }
   ],
   "source": [
    "data_merge_dept.shape"
   ]
  },
  {
   "cell_type": "code",
   "execution_count": 35,
   "metadata": {},
   "outputs": [
    {
     "data": {
      "text/html": [
       "<div>\n",
       "<style scoped>\n",
       "    .dataframe tbody tr th:only-of-type {\n",
       "        vertical-align: middle;\n",
       "    }\n",
       "\n",
       "    .dataframe tbody tr th {\n",
       "        vertical-align: top;\n",
       "    }\n",
       "\n",
       "    .dataframe thead th {\n",
       "        text-align: right;\n",
       "    }\n",
       "</style>\n",
       "<table border=\"1\" class=\"dataframe\">\n",
       "  <thead>\n",
       "    <tr style=\"text-align: right;\">\n",
       "      <th></th>\n",
       "      <th>GoodsNO</th>\n",
       "      <th>GoodsName</th>\n",
       "      <th>cal_time_month</th>\n",
       "      <th>Total_in</th>\n",
       "      <th>stock_age</th>\n",
       "      <th>FixCostPrice</th>\n",
       "      <th>stockDelayCost</th>\n",
       "      <th>Company</th>\n",
       "      <th>Dept</th>\n",
       "    </tr>\n",
       "  </thead>\n",
       "  <tbody>\n",
       "    <tr>\n",
       "      <th>41069</th>\n",
       "      <td>K04847501</td>\n",
       "      <td>KUB多层纱布方巾一条装</td>\n",
       "      <td>2018-12</td>\n",
       "      <td>6419</td>\n",
       "      <td>448</td>\n",
       "      <td>17.50</td>\n",
       "      <td>26.745833</td>\n",
       "      <td>可优比母婴用品有限公司</td>\n",
       "      <td>KUB睡眠</td>\n",
       "    </tr>\n",
       "    <tr>\n",
       "      <th>41070</th>\n",
       "      <td>K04849401</td>\n",
       "      <td>KUB可优比-欢聚日礼盒</td>\n",
       "      <td>2018-12</td>\n",
       "      <td>748</td>\n",
       "      <td>1096</td>\n",
       "      <td>753.28</td>\n",
       "      <td>58.693067</td>\n",
       "      <td>可优比母婴用品有限公司</td>\n",
       "      <td>KUB赠品</td>\n",
       "    </tr>\n",
       "    <tr>\n",
       "      <th>41071</th>\n",
       "      <td>YF101235-4</td>\n",
       "      <td>bahokids-BH-HTMX（藏青）</td>\n",
       "      <td>2018-10</td>\n",
       "      <td>66</td>\n",
       "      <td>1573</td>\n",
       "      <td>0.00</td>\n",
       "      <td>0.000000</td>\n",
       "      <td>NaN</td>\n",
       "      <td>NaN</td>\n",
       "    </tr>\n",
       "    <tr>\n",
       "      <th>41072</th>\n",
       "      <td>YF101235-4</td>\n",
       "      <td>bahokids-BH-HTMX（藏青）</td>\n",
       "      <td>2018-11</td>\n",
       "      <td>90</td>\n",
       "      <td>2925</td>\n",
       "      <td>0.00</td>\n",
       "      <td>0.000000</td>\n",
       "      <td>NaN</td>\n",
       "      <td>NaN</td>\n",
       "    </tr>\n",
       "    <tr>\n",
       "      <th>41073</th>\n",
       "      <td>YF101235-4</td>\n",
       "      <td>bahokids-BH-HTMX（藏青）</td>\n",
       "      <td>2018-12</td>\n",
       "      <td>93</td>\n",
       "      <td>3968</td>\n",
       "      <td>0.00</td>\n",
       "      <td>0.000000</td>\n",
       "      <td>NaN</td>\n",
       "      <td>NaN</td>\n",
       "    </tr>\n",
       "  </tbody>\n",
       "</table>\n",
       "</div>"
      ],
      "text/plain": [
       "          GoodsNO             GoodsName cal_time_month  Total_in  stock_age  \\\n",
       "41069   K04847501          KUB多层纱布方巾一条装        2018-12      6419        448   \n",
       "41070   K04849401          KUB可优比-欢聚日礼盒        2018-12       748       1096   \n",
       "41071  YF101235-4  bahokids-BH-HTMX（藏青）        2018-10        66       1573   \n",
       "41072  YF101235-4  bahokids-BH-HTMX（藏青）        2018-11        90       2925   \n",
       "41073  YF101235-4  bahokids-BH-HTMX（藏青）        2018-12        93       3968   \n",
       "\n",
       "       FixCostPrice  stockDelayCost        Company   Dept  \n",
       "41069         17.50       26.745833    可优比母婴用品有限公司  KUB睡眠  \n",
       "41070        753.28       58.693067    可优比母婴用品有限公司  KUB赠品  \n",
       "41071          0.00        0.000000            NaN    NaN  \n",
       "41072          0.00        0.000000            NaN    NaN  \n",
       "41073          0.00        0.000000            NaN    NaN  "
      ]
     },
     "execution_count": 35,
     "metadata": {},
     "output_type": "execute_result"
    }
   ],
   "source": [
    "data_merge_dept.tail()"
   ]
  },
  {
   "cell_type": "code",
   "execution_count": 36,
   "metadata": {},
   "outputs": [],
   "source": [
    "data_merge_dept_gb = data_merge_dept.groupby(['Company','Dept','cal_time_month'],as_index=False)"
   ]
  },
  {
   "cell_type": "code",
   "execution_count": 37,
   "metadata": {},
   "outputs": [],
   "source": [
    "data_merge_dept_gb=data_merge_dept_gb.aggregate(np.sum)\n",
    "data_merge_dept_gb=data_merge_dept_gb[['Company','Dept','cal_time_month','stockDelayCost']]"
   ]
  },
  {
   "cell_type": "code",
   "execution_count": 38,
   "metadata": {},
   "outputs": [
    {
     "data": {
      "text/html": [
       "<div>\n",
       "<style scoped>\n",
       "    .dataframe tbody tr th:only-of-type {\n",
       "        vertical-align: middle;\n",
       "    }\n",
       "\n",
       "    .dataframe tbody tr th {\n",
       "        vertical-align: top;\n",
       "    }\n",
       "\n",
       "    .dataframe thead th {\n",
       "        text-align: right;\n",
       "    }\n",
       "</style>\n",
       "<table border=\"1\" class=\"dataframe\">\n",
       "  <thead>\n",
       "    <tr style=\"text-align: right;\">\n",
       "      <th></th>\n",
       "      <th>Company</th>\n",
       "      <th>Dept</th>\n",
       "      <th>cal_time_month</th>\n",
       "      <th>stockDelayCost</th>\n",
       "    </tr>\n",
       "  </thead>\n",
       "  <tbody>\n",
       "    <tr>\n",
       "      <th>0</th>\n",
       "      <td>可优比母婴用品有限公司</td>\n",
       "      <td>KUB出行</td>\n",
       "      <td>2018-01</td>\n",
       "      <td>489362.383033</td>\n",
       "    </tr>\n",
       "    <tr>\n",
       "      <th>1</th>\n",
       "      <td>可优比母婴用品有限公司</td>\n",
       "      <td>KUB出行</td>\n",
       "      <td>2018-02</td>\n",
       "      <td>416794.940783</td>\n",
       "    </tr>\n",
       "    <tr>\n",
       "      <th>2</th>\n",
       "      <td>可优比母婴用品有限公司</td>\n",
       "      <td>KUB出行</td>\n",
       "      <td>2018-03</td>\n",
       "      <td>375969.306733</td>\n",
       "    </tr>\n",
       "    <tr>\n",
       "      <th>3</th>\n",
       "      <td>可优比母婴用品有限公司</td>\n",
       "      <td>KUB出行</td>\n",
       "      <td>2018-04</td>\n",
       "      <td>301347.400200</td>\n",
       "    </tr>\n",
       "    <tr>\n",
       "      <th>4</th>\n",
       "      <td>可优比母婴用品有限公司</td>\n",
       "      <td>KUB出行</td>\n",
       "      <td>2018-05</td>\n",
       "      <td>291718.850833</td>\n",
       "    </tr>\n",
       "  </tbody>\n",
       "</table>\n",
       "</div>"
      ],
      "text/plain": [
       "         Company   Dept cal_time_month  stockDelayCost\n",
       "0    可优比母婴用品有限公司  KUB出行        2018-01   489362.383033\n",
       "1    可优比母婴用品有限公司  KUB出行        2018-02   416794.940783\n",
       "2    可优比母婴用品有限公司  KUB出行        2018-03   375969.306733\n",
       "3    可优比母婴用品有限公司  KUB出行        2018-04   301347.400200\n",
       "4    可优比母婴用品有限公司  KUB出行        2018-05   291718.850833"
      ]
     },
     "execution_count": 38,
     "metadata": {},
     "output_type": "execute_result"
    }
   ],
   "source": [
    "data_merge_dept_gb.head()"
   ]
  },
  {
   "cell_type": "code",
   "execution_count": 39,
   "metadata": {},
   "outputs": [],
   "source": [
    "data_merge_dept_gb.to_excel(\"2018库存占用带小组.xlsx\",header=True,index=False)"
   ]
  },
  {
   "cell_type": "code",
   "execution_count": null,
   "metadata": {},
   "outputs": [],
   "source": []
  },
  {
   "cell_type": "code",
   "execution_count": null,
   "metadata": {},
   "outputs": [],
   "source": []
  }
 ],
 "metadata": {
  "kernelspec": {
   "display_name": "Python 3",
   "language": "python",
   "name": "python3"
  },
  "language_info": {
   "codemirror_mode": {
    "name": "ipython",
    "version": 3
   },
   "file_extension": ".py",
   "mimetype": "text/x-python",
   "name": "python",
   "nbconvert_exporter": "python",
   "pygments_lexer": "ipython3",
   "version": "3.6.4"
  }
 },
 "nbformat": 4,
 "nbformat_minor": 1
}
