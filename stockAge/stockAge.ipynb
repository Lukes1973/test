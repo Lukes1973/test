{
 "cells": [
  {
   "cell_type": "code",
   "execution_count": null,
   "metadata": {},
   "outputs": [],
   "source": [
    "#!!!!! 执行以下语句之前，切记，先确保库存stock_age_cal中的负数转换正数，然后添加至每日出库daily_stockout_sell,同时注意修改时间。\n",
    "# 确保daily_stockout_sell_0930里面时间大于等于2018-11-30"
   ]
  },
  {
   "cell_type": "code",
   "execution_count": 1,
   "metadata": {},
   "outputs": [],
   "source": [
    "import mysql.connector\n",
    "import pandas as pd\n",
    "import numpy as np\n",
    "from datetime import datetime,date,timedelta\n",
    "from dateutil.parser import parse"
   ]
  },
  {
   "cell_type": "code",
   "execution_count": 2,
   "metadata": {},
   "outputs": [],
   "source": [
    "# #数据库连接初始化设置\n",
    "# mydb = mysql.connector.connect(\n",
    "#     host=\"localhost\",\n",
    "#     user=\"root\",\n",
    "#     passwd=\"qaz!@wsx\",\n",
    "#     database=\"work\"\n",
    "# )\n",
    "# print(mydb)"
   ]
  },
  {
   "cell_type": "code",
   "execution_count": 3,
   "metadata": {},
   "outputs": [
    {
     "name": "stdout",
     "output_type": "stream",
     "text": [
      "<mysql.connector.connection.MySQLConnection object at 0x0000000008A9D2B0>\n"
     ]
    }
   ],
   "source": [
    "#数据库连接初始化\n",
    "mydb = mysql.connector.connect(\n",
    "    host=\"rm-bp178mt2593im687xjo.mysql.rds.aliyuncs.com\",\n",
    "    user=\"root\",\n",
    "    passwd=\"KLxs8888\",\n",
    "    database=\"wdgj\"\n",
    ")\n",
    "print(mydb)"
   ]
  },
  {
   "cell_type": "code",
   "execution_count": 4,
   "metadata": {},
   "outputs": [],
   "source": [
    "#SQL语句\n",
    "sqlStock='SELECT * FROM stock_age_cal'\n",
    "sqlSell ='SELECT * FROM daily_stockout_sell'"
   ]
  },
  {
   "cell_type": "code",
   "execution_count": 5,
   "metadata": {},
   "outputs": [],
   "source": [
    "#库存数据获取\n",
    "mycursor=mydb.cursor()\n",
    "mycursor.execute(sqlStock)\n",
    "stockdata=mycursor.fetchall()"
   ]
  },
  {
   "cell_type": "code",
   "execution_count": 6,
   "metadata": {
    "scrolled": true
   },
   "outputs": [],
   "source": [
    "#将数据转化为DaraFrame\n",
    "stockdata=pd.DataFrame(stockdata)\n",
    "stockdata.columns=['GoodsNO','GoodsName','Total_in','date']\n",
    "stockdata=stockdata[['GoodsNO','GoodsName','Total_in','date']]"
   ]
  },
  {
   "cell_type": "code",
   "execution_count": 7,
   "metadata": {},
   "outputs": [
    {
     "data": {
      "text/html": [
       "<div>\n",
       "<style scoped>\n",
       "    .dataframe tbody tr th:only-of-type {\n",
       "        vertical-align: middle;\n",
       "    }\n",
       "\n",
       "    .dataframe tbody tr th {\n",
       "        vertical-align: top;\n",
       "    }\n",
       "\n",
       "    .dataframe thead th {\n",
       "        text-align: right;\n",
       "    }\n",
       "</style>\n",
       "<table border=\"1\" class=\"dataframe\">\n",
       "  <thead>\n",
       "    <tr style=\"text-align: right;\">\n",
       "      <th></th>\n",
       "      <th>GoodsNO</th>\n",
       "      <th>GoodsName</th>\n",
       "      <th>Total_in</th>\n",
       "      <th>date</th>\n",
       "    </tr>\n",
       "  </thead>\n",
       "  <tbody>\n",
       "    <tr>\n",
       "      <th>0</th>\n",
       "      <td>00329</td>\n",
       "      <td>爱斯博儿-考伊斯BCMP6006成人配件</td>\n",
       "      <td>1</td>\n",
       "      <td>2018-09-30</td>\n",
       "    </tr>\n",
       "    <tr>\n",
       "      <th>1</th>\n",
       "      <td>00342</td>\n",
       "      <td>Ttbaby贝仕达-雅拉牧场毛毯</td>\n",
       "      <td>1</td>\n",
       "      <td>2018-09-30</td>\n",
       "    </tr>\n",
       "    <tr>\n",
       "      <th>2</th>\n",
       "      <td>00439</td>\n",
       "      <td>蒂比-都灵婴儿车雨罩</td>\n",
       "      <td>0</td>\n",
       "      <td>2018-09-30</td>\n",
       "    </tr>\n",
       "    <tr>\n",
       "      <th>3</th>\n",
       "      <td>00442</td>\n",
       "      <td>FORBABY-P680婴儿车-金色车架</td>\n",
       "      <td>0</td>\n",
       "      <td>2018-09-30</td>\n",
       "    </tr>\n",
       "    <tr>\n",
       "      <th>4</th>\n",
       "      <td>00444</td>\n",
       "      <td>FORBABY-P680婴儿车-紫色遮阳棚</td>\n",
       "      <td>24</td>\n",
       "      <td>2018-09-30</td>\n",
       "    </tr>\n",
       "  </tbody>\n",
       "</table>\n",
       "</div>"
      ],
      "text/plain": [
       "  GoodsNO              GoodsName  Total_in        date\n",
       "0   00329   爱斯博儿-考伊斯BCMP6006成人配件         1  2018-09-30\n",
       "1   00342       Ttbaby贝仕达-雅拉牧场毛毯         1  2018-09-30\n",
       "2   00439             蒂比-都灵婴儿车雨罩         0  2018-09-30\n",
       "3   00442   FORBABY-P680婴儿车-金色车架         0  2018-09-30\n",
       "4   00444  FORBABY-P680婴儿车-紫色遮阳棚        24  2018-09-30"
      ]
     },
     "execution_count": 7,
     "metadata": {},
     "output_type": "execute_result"
    }
   ],
   "source": [
    "stockdata.head()"
   ]
  },
  {
   "cell_type": "code",
   "execution_count": 8,
   "metadata": {},
   "outputs": [],
   "source": [
    "stockdata =stockdata.fillna(np.nan)"
   ]
  },
  {
   "cell_type": "code",
   "execution_count": 9,
   "metadata": {},
   "outputs": [
    {
     "data": {
      "text/plain": [
       "GoodsNO      0\n",
       "GoodsName    0\n",
       "Total_in     0\n",
       "date         0\n",
       "dtype: int64"
      ]
     },
     "execution_count": 9,
     "metadata": {},
     "output_type": "execute_result"
    }
   ],
   "source": [
    "stockdata.isnull().sum()"
   ]
  },
  {
   "cell_type": "code",
   "execution_count": 10,
   "metadata": {},
   "outputs": [],
   "source": [
    "stockdata['Total_in']=stockdata['Total_in'].fillna(0)"
   ]
  },
  {
   "cell_type": "code",
   "execution_count": 11,
   "metadata": {},
   "outputs": [
    {
     "data": {
      "text/plain": [
       "(138660, 4)"
      ]
     },
     "execution_count": 11,
     "metadata": {},
     "output_type": "execute_result"
    }
   ],
   "source": [
    "stockdata.shape"
   ]
  },
  {
   "cell_type": "code",
   "execution_count": 12,
   "metadata": {},
   "outputs": [],
   "source": [
    "#删除小于等于0的数值\n",
    "index = stockdata[stockdata['Total_in']<=0].index\n",
    "stockdata=stockdata.drop(index=index,axis=0)"
   ]
  },
  {
   "cell_type": "code",
   "execution_count": 13,
   "metadata": {},
   "outputs": [
    {
     "data": {
      "text/plain": [
       "(130899, 4)"
      ]
     },
     "execution_count": 13,
     "metadata": {},
     "output_type": "execute_result"
    }
   ],
   "source": [
    "stockdata.shape"
   ]
  },
  {
   "cell_type": "code",
   "execution_count": 14,
   "metadata": {},
   "outputs": [],
   "source": [
    "#按SKU分类汇总\n",
    "stockdata_groupby = stockdata.groupby(['GoodsNO','GoodsName','date'],as_index=False)\n",
    "stockdata_groupby=stockdata_groupby.aggregate(np.sum)"
   ]
  },
  {
   "cell_type": "code",
   "execution_count": 15,
   "metadata": {},
   "outputs": [],
   "source": [
    "stockdata_groupby['cal_time']=''"
   ]
  },
  {
   "cell_type": "code",
   "execution_count": 16,
   "metadata": {},
   "outputs": [
    {
     "data": {
      "text/html": [
       "<div>\n",
       "<style scoped>\n",
       "    .dataframe tbody tr th:only-of-type {\n",
       "        vertical-align: middle;\n",
       "    }\n",
       "\n",
       "    .dataframe tbody tr th {\n",
       "        vertical-align: top;\n",
       "    }\n",
       "\n",
       "    .dataframe thead th {\n",
       "        text-align: right;\n",
       "    }\n",
       "</style>\n",
       "<table border=\"1\" class=\"dataframe\">\n",
       "  <thead>\n",
       "    <tr style=\"text-align: right;\">\n",
       "      <th></th>\n",
       "      <th>GoodsNO</th>\n",
       "      <th>GoodsName</th>\n",
       "      <th>date</th>\n",
       "      <th>Total_in</th>\n",
       "      <th>cal_time</th>\n",
       "    </tr>\n",
       "  </thead>\n",
       "  <tbody>\n",
       "    <tr>\n",
       "      <th>0</th>\n",
       "      <td>.100135</td>\n",
       "      <td>蒂爱-折叠浴桶专属浴网</td>\n",
       "      <td>2019-01-23</td>\n",
       "      <td>1</td>\n",
       "      <td></td>\n",
       "    </tr>\n",
       "    <tr>\n",
       "      <th>1</th>\n",
       "      <td>00329</td>\n",
       "      <td>爱斯博儿-考伊斯BCMP6006成人配件</td>\n",
       "      <td>2018-09-30</td>\n",
       "      <td>1</td>\n",
       "      <td></td>\n",
       "    </tr>\n",
       "    <tr>\n",
       "      <th>2</th>\n",
       "      <td>00342</td>\n",
       "      <td>Ttbaby贝仕达-雅拉牧场毛毯</td>\n",
       "      <td>2018-09-30</td>\n",
       "      <td>1</td>\n",
       "      <td></td>\n",
       "    </tr>\n",
       "    <tr>\n",
       "      <th>3</th>\n",
       "      <td>00442</td>\n",
       "      <td>FORBABY-P680婴儿车-金色车架</td>\n",
       "      <td>2018-10-05</td>\n",
       "      <td>9</td>\n",
       "      <td></td>\n",
       "    </tr>\n",
       "    <tr>\n",
       "      <th>4</th>\n",
       "      <td>00444</td>\n",
       "      <td>FORBABY-P680婴儿车-紫色遮阳棚</td>\n",
       "      <td>2018-09-30</td>\n",
       "      <td>24</td>\n",
       "      <td></td>\n",
       "    </tr>\n",
       "  </tbody>\n",
       "</table>\n",
       "</div>"
      ],
      "text/plain": [
       "   GoodsNO              GoodsName        date  Total_in cal_time\n",
       "0  .100135            蒂爱-折叠浴桶专属浴网  2019-01-23         1         \n",
       "1    00329   爱斯博儿-考伊斯BCMP6006成人配件  2018-09-30         1         \n",
       "2    00342       Ttbaby贝仕达-雅拉牧场毛毯  2018-09-30         1         \n",
       "3    00442   FORBABY-P680婴儿车-金色车架  2018-10-05         9         \n",
       "4    00444  FORBABY-P680婴儿车-紫色遮阳棚  2018-09-30        24         "
      ]
     },
     "execution_count": 16,
     "metadata": {},
     "output_type": "execute_result"
    }
   ],
   "source": [
    "stockdata_groupby.head()"
   ]
  },
  {
   "cell_type": "code",
   "execution_count": 17,
   "metadata": {},
   "outputs": [
    {
     "data": {
      "text/plain": [
       "(127018, 5)"
      ]
     },
     "execution_count": 17,
     "metadata": {},
     "output_type": "execute_result"
    }
   ],
   "source": [
    "stockdata_groupby.shape"
   ]
  },
  {
   "cell_type": "code",
   "execution_count": 18,
   "metadata": {},
   "outputs": [],
   "source": [
    "#清除库存为0的数据\n",
    "index = stockdata_groupby[stockdata_groupby['Total_in']==0].index\n",
    "stockdata_groupby=stockdata_groupby.drop(index=index,axis=0)"
   ]
  },
  {
   "cell_type": "code",
   "execution_count": 19,
   "metadata": {},
   "outputs": [
    {
     "data": {
      "text/plain": [
       "(127018, 5)"
      ]
     },
     "execution_count": 19,
     "metadata": {},
     "output_type": "execute_result"
    }
   ],
   "source": [
    "stockdata_groupby.shape"
   ]
  },
  {
   "cell_type": "code",
   "execution_count": 20,
   "metadata": {},
   "outputs": [
    {
     "data": {
      "text/html": [
       "<div>\n",
       "<style scoped>\n",
       "    .dataframe tbody tr th:only-of-type {\n",
       "        vertical-align: middle;\n",
       "    }\n",
       "\n",
       "    .dataframe tbody tr th {\n",
       "        vertical-align: top;\n",
       "    }\n",
       "\n",
       "    .dataframe thead th {\n",
       "        text-align: right;\n",
       "    }\n",
       "</style>\n",
       "<table border=\"1\" class=\"dataframe\">\n",
       "  <thead>\n",
       "    <tr style=\"text-align: right;\">\n",
       "      <th></th>\n",
       "      <th>GoodsNO</th>\n",
       "      <th>GoodsName</th>\n",
       "      <th>date</th>\n",
       "      <th>Total_in</th>\n",
       "      <th>cal_time</th>\n",
       "    </tr>\n",
       "  </thead>\n",
       "  <tbody>\n",
       "    <tr>\n",
       "      <th>0</th>\n",
       "      <td>.100135</td>\n",
       "      <td>蒂爱-折叠浴桶专属浴网</td>\n",
       "      <td>2019-01-23</td>\n",
       "      <td>1</td>\n",
       "      <td></td>\n",
       "    </tr>\n",
       "    <tr>\n",
       "      <th>1</th>\n",
       "      <td>00329</td>\n",
       "      <td>爱斯博儿-考伊斯BCMP6006成人配件</td>\n",
       "      <td>2018-09-30</td>\n",
       "      <td>1</td>\n",
       "      <td></td>\n",
       "    </tr>\n",
       "    <tr>\n",
       "      <th>2</th>\n",
       "      <td>00342</td>\n",
       "      <td>Ttbaby贝仕达-雅拉牧场毛毯</td>\n",
       "      <td>2018-09-30</td>\n",
       "      <td>1</td>\n",
       "      <td></td>\n",
       "    </tr>\n",
       "    <tr>\n",
       "      <th>3</th>\n",
       "      <td>00442</td>\n",
       "      <td>FORBABY-P680婴儿车-金色车架</td>\n",
       "      <td>2018-10-05</td>\n",
       "      <td>9</td>\n",
       "      <td></td>\n",
       "    </tr>\n",
       "    <tr>\n",
       "      <th>4</th>\n",
       "      <td>00444</td>\n",
       "      <td>FORBABY-P680婴儿车-紫色遮阳棚</td>\n",
       "      <td>2018-09-30</td>\n",
       "      <td>24</td>\n",
       "      <td></td>\n",
       "    </tr>\n",
       "  </tbody>\n",
       "</table>\n",
       "</div>"
      ],
      "text/plain": [
       "   GoodsNO              GoodsName        date  Total_in cal_time\n",
       "0  .100135            蒂爱-折叠浴桶专属浴网  2019-01-23         1         \n",
       "1    00329   爱斯博儿-考伊斯BCMP6006成人配件  2018-09-30         1         \n",
       "2    00342       Ttbaby贝仕达-雅拉牧场毛毯  2018-09-30         1         \n",
       "3    00442   FORBABY-P680婴儿车-金色车架  2018-10-05         9         \n",
       "4    00444  FORBABY-P680婴儿车-紫色遮阳棚  2018-09-30        24         "
      ]
     },
     "execution_count": 20,
     "metadata": {},
     "output_type": "execute_result"
    }
   ],
   "source": [
    "stockdata_groupby.head()"
   ]
  },
  {
   "cell_type": "code",
   "execution_count": 21,
   "metadata": {},
   "outputs": [],
   "source": [
    "#获取每日销量数据\n",
    "mycursor=mydb.cursor()\n",
    "mycursor.execute(sqlSell)\n",
    "stocksell=mycursor.fetchall()"
   ]
  },
  {
   "cell_type": "code",
   "execution_count": 22,
   "metadata": {},
   "outputs": [],
   "source": [
    "stocksell=pd.DataFrame(stocksell)\n",
    "stocksell.columns=['SKU','name','total','date']\n",
    "stocksell=stocksell[['SKU','name','total','date']]"
   ]
  },
  {
   "cell_type": "code",
   "execution_count": 23,
   "metadata": {},
   "outputs": [
    {
     "data": {
      "text/html": [
       "<div>\n",
       "<style scoped>\n",
       "    .dataframe tbody tr th:only-of-type {\n",
       "        vertical-align: middle;\n",
       "    }\n",
       "\n",
       "    .dataframe tbody tr th {\n",
       "        vertical-align: top;\n",
       "    }\n",
       "\n",
       "    .dataframe thead th {\n",
       "        text-align: right;\n",
       "    }\n",
       "</style>\n",
       "<table border=\"1\" class=\"dataframe\">\n",
       "  <thead>\n",
       "    <tr style=\"text-align: right;\">\n",
       "      <th></th>\n",
       "      <th>SKU</th>\n",
       "      <th>name</th>\n",
       "      <th>total</th>\n",
       "      <th>date</th>\n",
       "    </tr>\n",
       "  </thead>\n",
       "  <tbody>\n",
       "    <tr>\n",
       "      <th>0</th>\n",
       "      <td>00329</td>\n",
       "      <td>爱斯博儿-考伊斯BCMP6006成人配件</td>\n",
       "      <td>1</td>\n",
       "      <td>2018-11-30</td>\n",
       "    </tr>\n",
       "    <tr>\n",
       "      <th>1</th>\n",
       "      <td>00499</td>\n",
       "      <td>蒂爱-克雷斯顿成人配件（肖恩）</td>\n",
       "      <td>5</td>\n",
       "      <td>2018-11-30</td>\n",
       "    </tr>\n",
       "    <tr>\n",
       "      <th>2</th>\n",
       "      <td>00499</td>\n",
       "      <td>蒂爱-克雷斯顿成人配件（肖恩）</td>\n",
       "      <td>1</td>\n",
       "      <td>2018-12-14</td>\n",
       "    </tr>\n",
       "    <tr>\n",
       "      <th>3</th>\n",
       "      <td>00518</td>\n",
       "      <td>蒂爱-3D摩丝经典版床垫（7cm）120*65</td>\n",
       "      <td>18</td>\n",
       "      <td>2018-11-30</td>\n",
       "    </tr>\n",
       "    <tr>\n",
       "      <th>4</th>\n",
       "      <td>00518</td>\n",
       "      <td>蒂爱-3D摩丝经典版床垫（7cm）120*65</td>\n",
       "      <td>1</td>\n",
       "      <td>2018-12-12</td>\n",
       "    </tr>\n",
       "  </tbody>\n",
       "</table>\n",
       "</div>"
      ],
      "text/plain": [
       "     SKU                     name  total        date\n",
       "0  00329     爱斯博儿-考伊斯BCMP6006成人配件      1  2018-11-30\n",
       "1  00499          蒂爱-克雷斯顿成人配件（肖恩）      5  2018-11-30\n",
       "2  00499          蒂爱-克雷斯顿成人配件（肖恩）      1  2018-12-14\n",
       "3  00518  蒂爱-3D摩丝经典版床垫（7cm）120*65     18  2018-11-30\n",
       "4  00518  蒂爱-3D摩丝经典版床垫（7cm）120*65      1  2018-12-12"
      ]
     },
     "execution_count": 23,
     "metadata": {},
     "output_type": "execute_result"
    }
   ],
   "source": [
    "stocksell.head()"
   ]
  },
  {
   "cell_type": "code",
   "execution_count": 24,
   "metadata": {},
   "outputs": [],
   "source": [
    "stocksell =stocksell.fillna(np.nan)"
   ]
  },
  {
   "cell_type": "code",
   "execution_count": 25,
   "metadata": {},
   "outputs": [
    {
     "data": {
      "text/plain": [
       "SKU      0\n",
       "name     0\n",
       "total    0\n",
       "date     0\n",
       "dtype: int64"
      ]
     },
     "execution_count": 25,
     "metadata": {},
     "output_type": "execute_result"
    }
   ],
   "source": [
    "stocksell.isnull().sum()"
   ]
  },
  {
   "cell_type": "code",
   "execution_count": 26,
   "metadata": {},
   "outputs": [
    {
     "data": {
      "text/plain": [
       "(167638, 4)"
      ]
     },
     "execution_count": 26,
     "metadata": {},
     "output_type": "execute_result"
    }
   ],
   "source": [
    "stocksell.shape"
   ]
  },
  {
   "cell_type": "code",
   "execution_count": 27,
   "metadata": {},
   "outputs": [],
   "source": [
    "stocksell_groupby = stocksell.groupby(['SKU','name','date'],as_index=False)"
   ]
  },
  {
   "cell_type": "code",
   "execution_count": 28,
   "metadata": {},
   "outputs": [
    {
     "data": {
      "text/plain": [
       "<pandas.core.groupby.DataFrameGroupBy object at 0x000000000E02DDD8>"
      ]
     },
     "execution_count": 28,
     "metadata": {},
     "output_type": "execute_result"
    }
   ],
   "source": [
    "stocksell_groupby"
   ]
  },
  {
   "cell_type": "code",
   "execution_count": 29,
   "metadata": {},
   "outputs": [],
   "source": [
    "stocksell_groupby=stocksell_groupby.aggregate(np.sum)"
   ]
  },
  {
   "cell_type": "code",
   "execution_count": 30,
   "metadata": {},
   "outputs": [
    {
     "data": {
      "text/plain": [
       "(165781, 4)"
      ]
     },
     "execution_count": 30,
     "metadata": {},
     "output_type": "execute_result"
    }
   ],
   "source": [
    "stocksell_groupby.shape"
   ]
  },
  {
   "cell_type": "code",
   "execution_count": 31,
   "metadata": {},
   "outputs": [],
   "source": [
    "index = stocksell_groupby[stocksell_groupby['date']<parse('2017-12-31').date()].index\n",
    "stocksell_groupby=stocksell_groupby.drop(index=index,axis=0)"
   ]
  },
  {
   "cell_type": "code",
   "execution_count": 32,
   "metadata": {},
   "outputs": [
    {
     "data": {
      "text/html": [
       "<div>\n",
       "<style scoped>\n",
       "    .dataframe tbody tr th:only-of-type {\n",
       "        vertical-align: middle;\n",
       "    }\n",
       "\n",
       "    .dataframe tbody tr th {\n",
       "        vertical-align: top;\n",
       "    }\n",
       "\n",
       "    .dataframe thead th {\n",
       "        text-align: right;\n",
       "    }\n",
       "</style>\n",
       "<table border=\"1\" class=\"dataframe\">\n",
       "  <thead>\n",
       "    <tr style=\"text-align: right;\">\n",
       "      <th></th>\n",
       "      <th>SKU</th>\n",
       "      <th>name</th>\n",
       "      <th>date</th>\n",
       "      <th>total</th>\n",
       "    </tr>\n",
       "  </thead>\n",
       "  <tbody>\n",
       "    <tr>\n",
       "      <th>0</th>\n",
       "      <td>00329</td>\n",
       "      <td>爱斯博儿-考伊斯BCMP6006成人配件</td>\n",
       "      <td>2018-11-30</td>\n",
       "      <td>1</td>\n",
       "    </tr>\n",
       "    <tr>\n",
       "      <th>1</th>\n",
       "      <td>00499</td>\n",
       "      <td>蒂爱-克雷斯顿成人配件（肖恩）</td>\n",
       "      <td>2018-11-30</td>\n",
       "      <td>5</td>\n",
       "    </tr>\n",
       "    <tr>\n",
       "      <th>2</th>\n",
       "      <td>00499</td>\n",
       "      <td>蒂爱-克雷斯顿成人配件（肖恩）</td>\n",
       "      <td>2018-12-08</td>\n",
       "      <td>2</td>\n",
       "    </tr>\n",
       "    <tr>\n",
       "      <th>3</th>\n",
       "      <td>00499</td>\n",
       "      <td>蒂爱-克雷斯顿成人配件（肖恩）</td>\n",
       "      <td>2018-12-14</td>\n",
       "      <td>1</td>\n",
       "    </tr>\n",
       "    <tr>\n",
       "      <th>4</th>\n",
       "      <td>00518</td>\n",
       "      <td>蒂爱-3D摩丝经典版床垫（7cm）120*65</td>\n",
       "      <td>2018-11-30</td>\n",
       "      <td>18</td>\n",
       "    </tr>\n",
       "  </tbody>\n",
       "</table>\n",
       "</div>"
      ],
      "text/plain": [
       "     SKU                     name        date  total\n",
       "0  00329     爱斯博儿-考伊斯BCMP6006成人配件  2018-11-30      1\n",
       "1  00499          蒂爱-克雷斯顿成人配件（肖恩）  2018-11-30      5\n",
       "2  00499          蒂爱-克雷斯顿成人配件（肖恩）  2018-12-08      2\n",
       "3  00499          蒂爱-克雷斯顿成人配件（肖恩）  2018-12-14      1\n",
       "4  00518  蒂爱-3D摩丝经典版床垫（7cm）120*65  2018-11-30     18"
      ]
     },
     "execution_count": 32,
     "metadata": {},
     "output_type": "execute_result"
    }
   ],
   "source": [
    "stocksell_groupby.head()"
   ]
  },
  {
   "cell_type": "code",
   "execution_count": 33,
   "metadata": {},
   "outputs": [],
   "source": [
    "#按天分类\n",
    "stocksell_groupby_date = stocksell_groupby.groupby(['date'],as_index=False)"
   ]
  },
  {
   "cell_type": "code",
   "execution_count": 34,
   "metadata": {},
   "outputs": [
    {
     "data": {
      "text/plain": [
       "<pandas.core.groupby.DataFrameGroupBy object at 0x0000000013B4A550>"
      ]
     },
     "execution_count": 34,
     "metadata": {},
     "output_type": "execute_result"
    }
   ],
   "source": [
    "stocksell_groupby_date"
   ]
  },
  {
   "cell_type": "code",
   "execution_count": 35,
   "metadata": {},
   "outputs": [
    {
     "data": {
      "text/html": [
       "<div>\n",
       "<style scoped>\n",
       "    .dataframe tbody tr th:only-of-type {\n",
       "        vertical-align: middle;\n",
       "    }\n",
       "\n",
       "    .dataframe tbody tr th {\n",
       "        vertical-align: top;\n",
       "    }\n",
       "\n",
       "    .dataframe thead th {\n",
       "        text-align: right;\n",
       "    }\n",
       "</style>\n",
       "<table border=\"1\" class=\"dataframe\">\n",
       "  <thead>\n",
       "    <tr style=\"text-align: right;\">\n",
       "      <th></th>\n",
       "      <th>SKU</th>\n",
       "      <th>name</th>\n",
       "      <th>date</th>\n",
       "      <th>total</th>\n",
       "    </tr>\n",
       "  </thead>\n",
       "  <tbody>\n",
       "    <tr>\n",
       "      <th>0</th>\n",
       "      <td>00329</td>\n",
       "      <td>爱斯博儿-考伊斯BCMP6006成人配件</td>\n",
       "      <td>2018-11-30</td>\n",
       "      <td>1</td>\n",
       "    </tr>\n",
       "    <tr>\n",
       "      <th>1</th>\n",
       "      <td>00499</td>\n",
       "      <td>蒂爱-克雷斯顿成人配件（肖恩）</td>\n",
       "      <td>2018-11-30</td>\n",
       "      <td>5</td>\n",
       "    </tr>\n",
       "    <tr>\n",
       "      <th>4</th>\n",
       "      <td>00518</td>\n",
       "      <td>蒂爱-3D摩丝经典版床垫（7cm）120*65</td>\n",
       "      <td>2018-11-30</td>\n",
       "      <td>18</td>\n",
       "    </tr>\n",
       "    <tr>\n",
       "      <th>20</th>\n",
       "      <td>00519</td>\n",
       "      <td>蒂爱-3D摩丝经典版床垫（7cm）120*60</td>\n",
       "      <td>2018-11-30</td>\n",
       "      <td>27</td>\n",
       "    </tr>\n",
       "    <tr>\n",
       "      <th>40</th>\n",
       "      <td>00521</td>\n",
       "      <td>蒂爱-3D摩丝经典版床垫（7cm）110*65</td>\n",
       "      <td>2018-11-30</td>\n",
       "      <td>1</td>\n",
       "    </tr>\n",
       "  </tbody>\n",
       "</table>\n",
       "</div>"
      ],
      "text/plain": [
       "      SKU                     name        date  total\n",
       "0   00329     爱斯博儿-考伊斯BCMP6006成人配件  2018-11-30      1\n",
       "1   00499          蒂爱-克雷斯顿成人配件（肖恩）  2018-11-30      5\n",
       "4   00518  蒂爱-3D摩丝经典版床垫（7cm）120*65  2018-11-30     18\n",
       "20  00519  蒂爱-3D摩丝经典版床垫（7cm）120*60  2018-11-30     27\n",
       "40  00521  蒂爱-3D摩丝经典版床垫（7cm）110*65  2018-11-30      1"
      ]
     },
     "execution_count": 35,
     "metadata": {},
     "output_type": "execute_result"
    }
   ],
   "source": [
    "#按天获取对应数据\n",
    "stocksell_groupby_date.get_group('2018-11-30').head()"
   ]
  },
  {
   "cell_type": "code",
   "execution_count": 36,
   "metadata": {
    "scrolled": true
   },
   "outputs": [],
   "source": [
    "# stockdata_groupby"
   ]
  },
  {
   "cell_type": "code",
   "execution_count": 37,
   "metadata": {},
   "outputs": [],
   "source": [
    "#获取特定天的SKU，对应出库，构造SKU：Total字典\n",
    "def get_sku_code(date):\n",
    "    try:\n",
    "        df=stocksell_groupby_date.get_group(date)\n",
    "    except:\n",
    "        df=[]\n",
    "    l=len(df)\n",
    "    dict_new={}\n",
    "    for i in range(l):\n",
    "        dict_new[df['SKU'].iloc[i]]=df['total'].iloc[i]\n",
    "    return dict_new"
   ]
  },
  {
   "cell_type": "code",
   "execution_count": 38,
   "metadata": {},
   "outputs": [],
   "source": [
    "#计算库存变化，按照先进先出原则\n",
    "def sku_stock_delete(time,stock_change):\n",
    "    sell_dict=get_sku_code(time)#获取特定某一天的SKU:Total\n",
    "    total=0\n",
    "    a=0\n",
    "    print(len(sell_dict))\n",
    "    for key in sell_dict:\n",
    "        total+=1\n",
    "#         print(total)\n",
    "        sell=sell_dict[key]\n",
    "        #获取满足条件的对应所在行的index\n",
    "        stock_index=stock_change[(stock_change['date']<=parse(time).date())&(stock_change['GoodsNO']==key)\\\n",
    "                                     &(stock_change['Total_in']>0)].sort_values(by ='date',ascending=True)['Total_in'].index\n",
    "        #遍历每个index，按条件扣减对应的库存\n",
    "        for i in stock_index:\n",
    "            stock=stock_change['Total_in'].loc[i]\n",
    "            if sell>=stock:\n",
    "                stock_change['Total_in'].loc[i]=0\n",
    "                sell=sell-stock\n",
    "#                 stock_change['stock_time'].loc[i]=time\n",
    "            else:\n",
    "                stock_change['Total_in'].loc[i]=stock-sell\n",
    "                sell=0\n",
    "#                 stock_change['stock_time'].loc[i]=time\n",
    "                break\n",
    "        a=a+sell\n",
    "    print(total)\n",
    "    index_0 = stock_change[stock_change['Total_in']==0].index\n",
    "    stock_change=stock_change.drop(index=index_0,axis=0)\n",
    "    return stock_change,a"
   ]
  },
  {
   "cell_type": "code",
   "execution_count": 39,
   "metadata": {},
   "outputs": [],
   "source": [
    "#重新创建一个DataFrame，复制一份stockdata_groupby,用来确保在调用函数的过程中不改变stockdata_groupby\n",
    "stock_change_data=pd.DataFrame()\n",
    "stock_change_data=pd.concat([stock_change_data,stockdata_groupby])"
   ]
  },
  {
   "cell_type": "code",
   "execution_count": 40,
   "metadata": {},
   "outputs": [],
   "source": [
    "#构造存放计算后每天的库存数据表格\n",
    "stock_age_cal=pd.DataFrame()\n",
    "t=0"
   ]
  },
  {
   "cell_type": "code",
   "execution_count": 41,
   "metadata": {
    "scrolled": true
   },
   "outputs": [
    {
     "name": "stdout",
     "output_type": "stream",
     "text": [
      "2018-11-30\n",
      "6718\n"
     ]
    },
    {
     "name": "stderr",
     "output_type": "stream",
     "text": [
      "D:\\ProgramData\\Anaconda3\\lib\\site-packages\\pandas\\core\\indexing.py:194: SettingWithCopyWarning: \n",
      "A value is trying to be set on a copy of a slice from a DataFrame\n",
      "\n",
      "See the caveats in the documentation: http://pandas.pydata.org/pandas-docs/stable/indexing.html#indexing-view-versus-copy\n",
      "  self._setitem_with_indexer(indexer, value)\n"
     ]
    },
    {
     "name": "stdout",
     "output_type": "stream",
     "text": [
      "6718\n",
      "2018-12-01\n",
      "2063\n",
      "2063\n",
      "2018-12-02\n",
      "1832\n",
      "1832\n",
      "2018-12-03\n",
      "2004\n",
      "2004\n",
      "2018-12-04\n",
      "2207\n",
      "2207\n",
      "2018-12-05\n",
      "2014\n",
      "2014\n",
      "2018-12-06\n",
      "2077\n",
      "2077\n",
      "2018-12-07\n",
      "273\n",
      "273\n",
      "2018-12-08\n",
      "2637\n",
      "2637\n",
      "2018-12-09\n",
      "878\n",
      "878\n",
      "2018-12-10\n",
      "1189\n",
      "1189\n",
      "2018-12-11\n",
      "859\n",
      "859\n",
      "2018-12-12\n",
      "3355\n",
      "3355\n",
      "2018-12-13\n",
      "3429\n",
      "3429\n",
      "2018-12-14\n",
      "3225\n",
      "3225\n",
      "2018-12-15\n",
      "3040\n",
      "3040\n",
      "2018-12-16\n",
      "3283\n",
      "3283\n",
      "2018-12-17\n",
      "1632\n",
      "1632\n",
      "2018-12-18\n",
      "1520\n",
      "1520\n",
      "2018-12-19\n",
      "2914\n",
      "2914\n",
      "2018-12-20\n",
      "2618\n",
      "2618\n",
      "2018-12-21\n",
      "2598\n",
      "2598\n",
      "2018-12-22\n",
      "2217\n",
      "2217\n",
      "2018-12-23\n",
      "1900\n",
      "1900\n",
      "2018-12-24\n",
      "2063\n",
      "2063\n",
      "2018-12-25\n",
      "2053\n",
      "2053\n",
      "2018-12-26\n",
      "2014\n",
      "2014\n",
      "2018-12-27\n",
      "1971\n",
      "1971\n",
      "2018-12-28\n",
      "2104\n",
      "2104\n",
      "2018-12-29\n",
      "2016\n",
      "2016\n",
      "2018-12-30\n",
      "911\n",
      "911\n",
      "2018-12-31\n",
      "2548\n",
      "2548\n",
      "2019-01-01\n",
      "1914\n",
      "1914\n",
      "2019-01-02\n",
      "2175\n",
      "2175\n",
      "2019-01-03\n",
      "1975\n",
      "1975\n",
      "2019-01-04\n",
      "2041\n",
      "2041\n",
      "2019-01-05\n",
      "1986\n",
      "1986\n",
      "2019-01-06\n",
      "2063\n",
      "2063\n",
      "2019-01-07\n",
      "2174\n",
      "2174\n",
      "2019-01-08\n",
      "2221\n",
      "2221\n",
      "2019-01-09\n",
      "2013\n",
      "2013\n",
      "2019-01-10\n",
      "1689\n",
      "1689\n",
      "2019-01-11\n",
      "980\n",
      "980\n",
      "2019-01-12\n",
      "799\n",
      "799\n",
      "2019-01-13\n",
      "3166\n",
      "3166\n",
      "2019-01-14\n",
      "3225\n",
      "3225\n",
      "2019-01-15\n",
      "2660\n",
      "2660\n",
      "2019-01-16\n",
      "2696\n",
      "2696\n",
      "2019-01-17\n",
      "2713\n",
      "2713\n",
      "2019-01-18\n",
      "2822\n",
      "2822\n",
      "2019-01-19\n",
      "2316\n",
      "2316\n",
      "2019-01-20\n",
      "2260\n",
      "2260\n",
      "2019-01-21\n",
      "2410\n",
      "2410\n",
      "2019-01-22\n",
      "2355\n",
      "2355\n",
      "2019-01-23\n",
      "2349\n",
      "2349\n",
      "2019-01-24\n",
      "2168\n",
      "2168\n",
      "2019-01-25\n",
      "1950\n",
      "1950\n",
      "2019-01-26\n",
      "1420\n",
      "1420\n",
      "2019-01-27\n",
      "1334\n",
      "1334\n",
      "2019-01-28\n",
      "0\n",
      "0\n",
      "2019-01-29\n",
      "0\n",
      "0\n",
      "2019-01-30\n",
      "0\n",
      "0\n",
      "2019-01-31\n",
      "0\n",
      "0\n",
      "2019-02-01\n",
      "0\n",
      "0\n",
      "2019-02-02\n",
      "0\n",
      "0\n",
      "2019-02-03\n",
      "0\n",
      "0\n",
      "2019-02-04\n",
      "0\n",
      "0\n",
      "2019-02-05\n",
      "0\n",
      "0\n",
      "2019-02-06\n",
      "0\n",
      "0\n",
      "2019-02-07\n",
      "0\n",
      "0\n",
      "2019-02-08\n",
      "0\n",
      "0\n",
      "2019-02-09\n",
      "0\n",
      "0\n",
      "2019-02-10\n",
      "0\n",
      "0\n",
      "2019-02-11\n",
      "165\n",
      "165\n",
      "2019-02-12\n",
      "2262\n",
      "2262\n",
      "2019-02-13\n",
      "2480\n",
      "2480\n",
      "2019-02-14\n",
      "2669\n",
      "2669\n",
      "2019-02-15\n",
      "2401\n",
      "2401\n",
      "2019-02-16\n",
      "2354\n",
      "2354\n",
      "2019-02-17\n",
      "1999\n",
      "1999\n",
      "2019-02-18\n",
      "2228\n",
      "2228\n",
      "2019-02-19\n",
      "2138\n",
      "2138\n",
      "2019-02-20\n",
      "2037\n",
      "2037\n",
      "2019-02-21\n",
      "2139\n",
      "2139\n",
      "2019-02-22\n",
      "1983\n",
      "1983\n",
      "2019-02-23\n",
      "1998\n",
      "1998\n",
      "2019-02-24\n",
      "1688\n",
      "1688\n",
      "2019-02-25\n",
      "1031\n",
      "1031\n",
      "2019-02-26\n",
      "2332\n",
      "2332\n",
      "2019-02-27\n",
      "2471\n",
      "2471\n",
      "2019-02-28\n",
      "1370\n",
      "1370\n",
      "2.451111111111111\n"
     ]
    }
   ],
   "source": [
    "starttime = datetime.now()\n",
    "startdate=date(2018,11,30)\n",
    "for i in range(91):\n",
    "    start=startdate + timedelta(i)\n",
    "    print(start)\n",
    "    stock_change=sku_stock_delete(str(start),stock_change_data)#调用函数计算库存占用\n",
    "    stock_change[0]['cal_time']=start#标记库存占用计算日期\n",
    "    stock_age_cal=pd.concat([stock_age_cal,stock_change[0][stock_change[0]['date']<=start-timedelta(60)]])#筛选60天前的数据\n",
    "    t+=stock_change[1]\n",
    "endtime=datetime.now()\n",
    "print ((endtime - starttime).seconds/60/60)"
   ]
  },
  {
   "cell_type": "code",
   "execution_count": 42,
   "metadata": {},
   "outputs": [],
   "source": [
    "stock_age_cal.to_csv('stock_age_cal.csv',header=True,index=False)"
   ]
  },
  {
   "cell_type": "code",
   "execution_count": 43,
   "metadata": {},
   "outputs": [],
   "source": [
    "stock_change_data.to_csv('stock_change_data.csv',header=True,index=False)"
   ]
  },
  {
   "cell_type": "code",
   "execution_count": 44,
   "metadata": {},
   "outputs": [],
   "source": [
    "stock_age_cal=pd.read_csv('stock_age_cal.csv',header = 0)"
   ]
  },
  {
   "cell_type": "code",
   "execution_count": 45,
   "metadata": {},
   "outputs": [
    {
     "data": {
      "text/html": [
       "<div>\n",
       "<style scoped>\n",
       "    .dataframe tbody tr th:only-of-type {\n",
       "        vertical-align: middle;\n",
       "    }\n",
       "\n",
       "    .dataframe tbody tr th {\n",
       "        vertical-align: top;\n",
       "    }\n",
       "\n",
       "    .dataframe thead th {\n",
       "        text-align: right;\n",
       "    }\n",
       "</style>\n",
       "<table border=\"1\" class=\"dataframe\">\n",
       "  <thead>\n",
       "    <tr style=\"text-align: right;\">\n",
       "      <th></th>\n",
       "      <th>GoodsNO</th>\n",
       "      <th>GoodsName</th>\n",
       "      <th>date</th>\n",
       "      <th>Total_in</th>\n",
       "      <th>cal_time</th>\n",
       "    </tr>\n",
       "  </thead>\n",
       "  <tbody>\n",
       "    <tr>\n",
       "      <th>0</th>\n",
       "      <td>00342</td>\n",
       "      <td>Ttbaby贝仕达-雅拉牧场毛毯</td>\n",
       "      <td>2018-09-30</td>\n",
       "      <td>1</td>\n",
       "      <td>2018-11-30</td>\n",
       "    </tr>\n",
       "    <tr>\n",
       "      <th>1</th>\n",
       "      <td>00444</td>\n",
       "      <td>FORBABY-P680婴儿车-紫色遮阳棚</td>\n",
       "      <td>2018-09-30</td>\n",
       "      <td>24</td>\n",
       "      <td>2018-11-30</td>\n",
       "    </tr>\n",
       "    <tr>\n",
       "      <th>2</th>\n",
       "      <td>00499</td>\n",
       "      <td>蒂爱-克雷斯顿成人配件（肖恩）</td>\n",
       "      <td>2018-09-30</td>\n",
       "      <td>169</td>\n",
       "      <td>2018-11-30</td>\n",
       "    </tr>\n",
       "    <tr>\n",
       "      <th>3</th>\n",
       "      <td>00518</td>\n",
       "      <td>蒂爱-3D摩丝经典版床垫（7cm）120*65</td>\n",
       "      <td>2018-09-30</td>\n",
       "      <td>271</td>\n",
       "      <td>2018-11-30</td>\n",
       "    </tr>\n",
       "    <tr>\n",
       "      <th>4</th>\n",
       "      <td>00519</td>\n",
       "      <td>蒂爱-3D摩丝经典版床垫（7cm）120*60</td>\n",
       "      <td>2018-09-30</td>\n",
       "      <td>196</td>\n",
       "      <td>2018-11-30</td>\n",
       "    </tr>\n",
       "  </tbody>\n",
       "</table>\n",
       "</div>"
      ],
      "text/plain": [
       "  GoodsNO                GoodsName        date  Total_in    cal_time\n",
       "0   00342         Ttbaby贝仕达-雅拉牧场毛毯  2018-09-30         1  2018-11-30\n",
       "1   00444    FORBABY-P680婴儿车-紫色遮阳棚  2018-09-30        24  2018-11-30\n",
       "2   00499          蒂爱-克雷斯顿成人配件（肖恩）  2018-09-30       169  2018-11-30\n",
       "3   00518  蒂爱-3D摩丝经典版床垫（7cm）120*65  2018-09-30       271  2018-11-30\n",
       "4   00519  蒂爱-3D摩丝经典版床垫（7cm）120*60  2018-09-30       196  2018-11-30"
      ]
     },
     "execution_count": 45,
     "metadata": {},
     "output_type": "execute_result"
    }
   ],
   "source": [
    "stock_age_cal.head()"
   ]
  },
  {
   "cell_type": "code",
   "execution_count": 46,
   "metadata": {},
   "outputs": [],
   "source": [
    "#构造新的表格复制一份stock_age_cal\n",
    "stock_age_cal_copy=pd.DataFrame()\n",
    "stock_age_cal_copy=pd.concat([stock_age_cal_copy,stock_age_cal])"
   ]
  },
  {
   "cell_type": "code",
   "execution_count": null,
   "metadata": {},
   "outputs": [],
   "source": [
    "# stock_age_cal.head()"
   ]
  },
  {
   "cell_type": "code",
   "execution_count": null,
   "metadata": {},
   "outputs": [],
   "source": [
    "# stock_age_cal1=stock_age_cal1[stock_age_cal1['cal_time']<'2018-02-11']"
   ]
  },
  {
   "cell_type": "code",
   "execution_count": null,
   "metadata": {},
   "outputs": [],
   "source": [
    "# stock_age_cal_copy=pd.concat([stock_age_cal1,stock_age_cal])"
   ]
  },
  {
   "cell_type": "code",
   "execution_count": null,
   "metadata": {},
   "outputs": [],
   "source": [
    "# stock_age_cal_copy=stock_age_cal_copy[stock_age_cal_copy['cal_time']<='2018-12-31']"
   ]
  },
  {
   "cell_type": "code",
   "execution_count": null,
   "metadata": {},
   "outputs": [],
   "source": [
    "# stock_age_cal_copy.to_csv('stock_age_cal12.csv',header=True,index=False)"
   ]
  },
  {
   "cell_type": "code",
   "execution_count": 47,
   "metadata": {},
   "outputs": [],
   "source": [
    "stock_age_cal_copy['date']=pd.to_datetime(stock_age_cal_copy['date'])\n",
    "stock_age_cal_copy['cal_time']=pd.to_datetime(stock_age_cal_copy['cal_time'])"
   ]
  },
  {
   "cell_type": "code",
   "execution_count": 48,
   "metadata": {},
   "outputs": [],
   "source": [
    "stock_age_cal_copy['stockAge']=stock_age_cal_copy['cal_time']-stock_age_cal_copy['date']"
   ]
  },
  {
   "cell_type": "code",
   "execution_count": 49,
   "metadata": {},
   "outputs": [
    {
     "data": {
      "text/html": [
       "<div>\n",
       "<style scoped>\n",
       "    .dataframe tbody tr th:only-of-type {\n",
       "        vertical-align: middle;\n",
       "    }\n",
       "\n",
       "    .dataframe tbody tr th {\n",
       "        vertical-align: top;\n",
       "    }\n",
       "\n",
       "    .dataframe thead th {\n",
       "        text-align: right;\n",
       "    }\n",
       "</style>\n",
       "<table border=\"1\" class=\"dataframe\">\n",
       "  <thead>\n",
       "    <tr style=\"text-align: right;\">\n",
       "      <th></th>\n",
       "      <th>GoodsNO</th>\n",
       "      <th>GoodsName</th>\n",
       "      <th>date</th>\n",
       "      <th>Total_in</th>\n",
       "      <th>cal_time</th>\n",
       "      <th>stockAge</th>\n",
       "    </tr>\n",
       "  </thead>\n",
       "  <tbody>\n",
       "    <tr>\n",
       "      <th>0</th>\n",
       "      <td>00342</td>\n",
       "      <td>Ttbaby贝仕达-雅拉牧场毛毯</td>\n",
       "      <td>2018-09-30</td>\n",
       "      <td>1</td>\n",
       "      <td>2018-11-30</td>\n",
       "      <td>61 days</td>\n",
       "    </tr>\n",
       "    <tr>\n",
       "      <th>1</th>\n",
       "      <td>00444</td>\n",
       "      <td>FORBABY-P680婴儿车-紫色遮阳棚</td>\n",
       "      <td>2018-09-30</td>\n",
       "      <td>24</td>\n",
       "      <td>2018-11-30</td>\n",
       "      <td>61 days</td>\n",
       "    </tr>\n",
       "    <tr>\n",
       "      <th>2</th>\n",
       "      <td>00499</td>\n",
       "      <td>蒂爱-克雷斯顿成人配件（肖恩）</td>\n",
       "      <td>2018-09-30</td>\n",
       "      <td>169</td>\n",
       "      <td>2018-11-30</td>\n",
       "      <td>61 days</td>\n",
       "    </tr>\n",
       "    <tr>\n",
       "      <th>3</th>\n",
       "      <td>00518</td>\n",
       "      <td>蒂爱-3D摩丝经典版床垫（7cm）120*65</td>\n",
       "      <td>2018-09-30</td>\n",
       "      <td>271</td>\n",
       "      <td>2018-11-30</td>\n",
       "      <td>61 days</td>\n",
       "    </tr>\n",
       "    <tr>\n",
       "      <th>4</th>\n",
       "      <td>00519</td>\n",
       "      <td>蒂爱-3D摩丝经典版床垫（7cm）120*60</td>\n",
       "      <td>2018-09-30</td>\n",
       "      <td>196</td>\n",
       "      <td>2018-11-30</td>\n",
       "      <td>61 days</td>\n",
       "    </tr>\n",
       "  </tbody>\n",
       "</table>\n",
       "</div>"
      ],
      "text/plain": [
       "  GoodsNO                GoodsName       date  Total_in   cal_time stockAge\n",
       "0   00342         Ttbaby贝仕达-雅拉牧场毛毯 2018-09-30         1 2018-11-30  61 days\n",
       "1   00444    FORBABY-P680婴儿车-紫色遮阳棚 2018-09-30        24 2018-11-30  61 days\n",
       "2   00499          蒂爱-克雷斯顿成人配件（肖恩） 2018-09-30       169 2018-11-30  61 days\n",
       "3   00518  蒂爱-3D摩丝经典版床垫（7cm）120*65 2018-09-30       271 2018-11-30  61 days\n",
       "4   00519  蒂爱-3D摩丝经典版床垫（7cm）120*60 2018-09-30       196 2018-11-30  61 days"
      ]
     },
     "execution_count": 49,
     "metadata": {},
     "output_type": "execute_result"
    }
   ],
   "source": [
    "stock_age_cal_copy.head()"
   ]
  },
  {
   "cell_type": "code",
   "execution_count": 50,
   "metadata": {},
   "outputs": [],
   "source": [
    "#选择库龄大于60天的SKU\n",
    "stock_age_cal_copy_60=stock_age_cal_copy[(stock_age_cal_copy['stockAge']>=timedelta(60))&(stock_age_cal_copy['cal_time']>'2018-11-30')]"
   ]
  },
  {
   "cell_type": "code",
   "execution_count": 51,
   "metadata": {
    "scrolled": true
   },
   "outputs": [
    {
     "data": {
      "text/html": [
       "<div>\n",
       "<style scoped>\n",
       "    .dataframe tbody tr th:only-of-type {\n",
       "        vertical-align: middle;\n",
       "    }\n",
       "\n",
       "    .dataframe tbody tr th {\n",
       "        vertical-align: top;\n",
       "    }\n",
       "\n",
       "    .dataframe thead th {\n",
       "        text-align: right;\n",
       "    }\n",
       "</style>\n",
       "<table border=\"1\" class=\"dataframe\">\n",
       "  <thead>\n",
       "    <tr style=\"text-align: right;\">\n",
       "      <th></th>\n",
       "      <th>GoodsNO</th>\n",
       "      <th>GoodsName</th>\n",
       "      <th>date</th>\n",
       "      <th>Total_in</th>\n",
       "      <th>cal_time</th>\n",
       "      <th>stockAge</th>\n",
       "    </tr>\n",
       "  </thead>\n",
       "  <tbody>\n",
       "    <tr>\n",
       "      <th>6453</th>\n",
       "      <td>00342</td>\n",
       "      <td>Ttbaby贝仕达-雅拉牧场毛毯</td>\n",
       "      <td>2018-09-30</td>\n",
       "      <td>1</td>\n",
       "      <td>2018-12-01</td>\n",
       "      <td>62 days</td>\n",
       "    </tr>\n",
       "    <tr>\n",
       "      <th>6454</th>\n",
       "      <td>00444</td>\n",
       "      <td>FORBABY-P680婴儿车-紫色遮阳棚</td>\n",
       "      <td>2018-09-30</td>\n",
       "      <td>24</td>\n",
       "      <td>2018-12-01</td>\n",
       "      <td>62 days</td>\n",
       "    </tr>\n",
       "    <tr>\n",
       "      <th>6455</th>\n",
       "      <td>00499</td>\n",
       "      <td>蒂爱-克雷斯顿成人配件（肖恩）</td>\n",
       "      <td>2018-09-30</td>\n",
       "      <td>169</td>\n",
       "      <td>2018-12-01</td>\n",
       "      <td>62 days</td>\n",
       "    </tr>\n",
       "    <tr>\n",
       "      <th>6456</th>\n",
       "      <td>00518</td>\n",
       "      <td>蒂爱-3D摩丝经典版床垫（7cm）120*65</td>\n",
       "      <td>2018-09-30</td>\n",
       "      <td>271</td>\n",
       "      <td>2018-12-01</td>\n",
       "      <td>62 days</td>\n",
       "    </tr>\n",
       "    <tr>\n",
       "      <th>6457</th>\n",
       "      <td>00519</td>\n",
       "      <td>蒂爱-3D摩丝经典版床垫（7cm）120*60</td>\n",
       "      <td>2018-09-30</td>\n",
       "      <td>195</td>\n",
       "      <td>2018-12-01</td>\n",
       "      <td>62 days</td>\n",
       "    </tr>\n",
       "  </tbody>\n",
       "</table>\n",
       "</div>"
      ],
      "text/plain": [
       "     GoodsNO                GoodsName       date  Total_in   cal_time stockAge\n",
       "6453   00342         Ttbaby贝仕达-雅拉牧场毛毯 2018-09-30         1 2018-12-01  62 days\n",
       "6454   00444    FORBABY-P680婴儿车-紫色遮阳棚 2018-09-30        24 2018-12-01  62 days\n",
       "6455   00499          蒂爱-克雷斯顿成人配件（肖恩） 2018-09-30       169 2018-12-01  62 days\n",
       "6456   00518  蒂爱-3D摩丝经典版床垫（7cm）120*65 2018-09-30       271 2018-12-01  62 days\n",
       "6457   00519  蒂爱-3D摩丝经典版床垫（7cm）120*60 2018-09-30       195 2018-12-01  62 days"
      ]
     },
     "execution_count": 51,
     "metadata": {},
     "output_type": "execute_result"
    }
   ],
   "source": [
    "stock_age_cal_copy_60.head()"
   ]
  },
  {
   "cell_type": "code",
   "execution_count": 52,
   "metadata": {},
   "outputs": [],
   "source": [
    "# #获取商品固定价格\n",
    "# goodslist=pd.read_csv('C:\\\\Users\\\\Administrator\\\\PycharmProjects\\\\test\\\\g_goods_goodslist.csv',\\\n",
    "#                       header = 0,dtype=object,engine='python',encoding='utf-8')\n",
    "# goodslist_short=goodslist[['GoodsNO','FixCostPrice']]\n",
    "# goodslist_short=goodslist_short.drop_duplicates([\"GoodsNO\"]) #SKU去重"
   ]
  },
  {
   "cell_type": "code",
   "execution_count": 53,
   "metadata": {},
   "outputs": [],
   "source": [
    "mydb = mysql.connector.connect(\n",
    "    host=\"rm-bp178mt2593im687xjo.mysql.rds.aliyuncs.com\",\n",
    "    user=\"root\",\n",
    "    passwd=\"KLxs8888\",\n",
    "    database=\"wdgj\"\n",
    ")"
   ]
  },
  {
   "cell_type": "code",
   "execution_count": 54,
   "metadata": {},
   "outputs": [],
   "source": [
    "sql_goodslist='SELECT GoodsNO,FixCostPrice FROM g_goods_goodslist'\n",
    "mycursor=mydb.cursor()\n",
    "mycursor.execute(sql_goodslist)\n",
    "goodslist=mycursor.fetchall()"
   ]
  },
  {
   "cell_type": "code",
   "execution_count": 55,
   "metadata": {},
   "outputs": [],
   "source": [
    "goodslist = pd.DataFrame(goodslist)"
   ]
  },
  {
   "cell_type": "code",
   "execution_count": 56,
   "metadata": {},
   "outputs": [],
   "source": [
    "goodslist.columns=['GoodsNO','FixCostPrice']"
   ]
  },
  {
   "cell_type": "code",
   "execution_count": 57,
   "metadata": {},
   "outputs": [],
   "source": [
    "goodslist = pd.DataFrame(goodslist)\n",
    "goodslist_short=goodslist[['GoodsNO','FixCostPrice']]\n",
    "goodslist_short=goodslist_short.drop_duplicates([\"GoodsNO\"])"
   ]
  },
  {
   "cell_type": "code",
   "execution_count": 58,
   "metadata": {},
   "outputs": [],
   "source": [
    "#匹配库存和商品列表\n",
    "data_merge=pd.merge(stock_age_cal_copy_60,goodslist_short,on=['GoodsNO'],how='left')\n",
    "data_merge['FixCostPrice']=data_merge['FixCostPrice'].apply(pd.to_numeric) # 将FixCostPrice转换成数值类型"
   ]
  },
  {
   "cell_type": "code",
   "execution_count": 59,
   "metadata": {},
   "outputs": [],
   "source": [
    "data_merge=data_merge.fillna(np.nan)"
   ]
  },
  {
   "cell_type": "code",
   "execution_count": 60,
   "metadata": {},
   "outputs": [
    {
     "data": {
      "text/plain": [
       "GoodsNO           0\n",
       "GoodsName         0\n",
       "date              0\n",
       "Total_in          0\n",
       "cal_time          0\n",
       "stockAge          0\n",
       "FixCostPrice    486\n",
       "dtype: int64"
      ]
     },
     "execution_count": 60,
     "metadata": {},
     "output_type": "execute_result"
    }
   ],
   "source": [
    "data_merge.isnull().sum()"
   ]
  },
  {
   "cell_type": "code",
   "execution_count": 61,
   "metadata": {},
   "outputs": [],
   "source": [
    "data_merge['FixCostPrice']=data_merge['FixCostPrice'].fillna(0)"
   ]
  },
  {
   "cell_type": "code",
   "execution_count": 62,
   "metadata": {},
   "outputs": [],
   "source": [
    "#计算每个SKU的库存占用费\n",
    "data_merge['stockDelayCost']=data_merge['Total_in']*data_merge['FixCostPrice']*0.05/30"
   ]
  },
  {
   "cell_type": "code",
   "execution_count": 63,
   "metadata": {},
   "outputs": [],
   "source": [
    "data_merge=data_merge[(data_merge['stockAge']>=timedelta(60))&(data_merge['cal_time']>'2018-12-31')]"
   ]
  },
  {
   "cell_type": "code",
   "execution_count": 64,
   "metadata": {},
   "outputs": [],
   "source": [
    "data_merge.to_excel('data_merge.xlsx',header=True,index=False)"
   ]
  },
  {
   "cell_type": "code",
   "execution_count": 65,
   "metadata": {},
   "outputs": [],
   "source": [
    "data_merge['cal_time_month']=data_merge.cal_time.map(lambda x: x.strftime('%Y-%m')) # 取月份数据"
   ]
  },
  {
   "cell_type": "code",
   "execution_count": 66,
   "metadata": {},
   "outputs": [],
   "source": [
    "#分SKU，月份汇总\n",
    "data_merge_groupby=data_merge.groupby(['GoodsNO','GoodsName','cal_time_month'],as_index=False)\n",
    "data_merge_groupby=data_merge_groupby.aggregate(np.sum)"
   ]
  },
  {
   "cell_type": "code",
   "execution_count": 67,
   "metadata": {},
   "outputs": [
    {
     "data": {
      "text/html": [
       "<div>\n",
       "<style scoped>\n",
       "    .dataframe tbody tr th:only-of-type {\n",
       "        vertical-align: middle;\n",
       "    }\n",
       "\n",
       "    .dataframe tbody tr th {\n",
       "        vertical-align: top;\n",
       "    }\n",
       "\n",
       "    .dataframe thead th {\n",
       "        text-align: right;\n",
       "    }\n",
       "</style>\n",
       "<table border=\"1\" class=\"dataframe\">\n",
       "  <thead>\n",
       "    <tr style=\"text-align: right;\">\n",
       "      <th></th>\n",
       "      <th>GoodsNO</th>\n",
       "      <th>GoodsName</th>\n",
       "      <th>cal_time_month</th>\n",
       "      <th>Total_in</th>\n",
       "      <th>FixCostPrice</th>\n",
       "      <th>stockDelayCost</th>\n",
       "    </tr>\n",
       "  </thead>\n",
       "  <tbody>\n",
       "    <tr>\n",
       "      <th>0</th>\n",
       "      <td>00342</td>\n",
       "      <td>Ttbaby贝仕达-雅拉牧场毛毯</td>\n",
       "      <td>2019-01</td>\n",
       "      <td>31</td>\n",
       "      <td>1302.0</td>\n",
       "      <td>2.170</td>\n",
       "    </tr>\n",
       "    <tr>\n",
       "      <th>1</th>\n",
       "      <td>00342</td>\n",
       "      <td>Ttbaby贝仕达-雅拉牧场毛毯</td>\n",
       "      <td>2019-02</td>\n",
       "      <td>28</td>\n",
       "      <td>1176.0</td>\n",
       "      <td>1.960</td>\n",
       "    </tr>\n",
       "    <tr>\n",
       "      <th>2</th>\n",
       "      <td>00442</td>\n",
       "      <td>FORBABY-P680婴儿车-金色车架</td>\n",
       "      <td>2019-01</td>\n",
       "      <td>279</td>\n",
       "      <td>14911.0</td>\n",
       "      <td>223.665</td>\n",
       "    </tr>\n",
       "    <tr>\n",
       "      <th>3</th>\n",
       "      <td>00442</td>\n",
       "      <td>FORBABY-P680婴儿车-金色车架</td>\n",
       "      <td>2019-02</td>\n",
       "      <td>252</td>\n",
       "      <td>13468.0</td>\n",
       "      <td>202.020</td>\n",
       "    </tr>\n",
       "    <tr>\n",
       "      <th>4</th>\n",
       "      <td>00444</td>\n",
       "      <td>FORBABY-P680婴儿车-紫色遮阳棚</td>\n",
       "      <td>2019-01</td>\n",
       "      <td>744</td>\n",
       "      <td>651.0</td>\n",
       "      <td>26.040</td>\n",
       "    </tr>\n",
       "  </tbody>\n",
       "</table>\n",
       "</div>"
      ],
      "text/plain": [
       "  GoodsNO              GoodsName cal_time_month  Total_in  FixCostPrice  \\\n",
       "0   00342       Ttbaby贝仕达-雅拉牧场毛毯        2019-01        31        1302.0   \n",
       "1   00342       Ttbaby贝仕达-雅拉牧场毛毯        2019-02        28        1176.0   \n",
       "2   00442   FORBABY-P680婴儿车-金色车架        2019-01       279       14911.0   \n",
       "3   00442   FORBABY-P680婴儿车-金色车架        2019-02       252       13468.0   \n",
       "4   00444  FORBABY-P680婴儿车-紫色遮阳棚        2019-01       744         651.0   \n",
       "\n",
       "   stockDelayCost  \n",
       "0           2.170  \n",
       "1           1.960  \n",
       "2         223.665  \n",
       "3         202.020  \n",
       "4          26.040  "
      ]
     },
     "execution_count": 67,
     "metadata": {},
     "output_type": "execute_result"
    }
   ],
   "source": [
    "data_merge_groupby.head()"
   ]
  },
  {
   "cell_type": "code",
   "execution_count": 68,
   "metadata": {},
   "outputs": [],
   "source": [
    "#获取小组信息并去重\n",
    "GoodsInfo =pd.read_csv('C:\\\\Users\\\\Administrator\\\\PycharmProjects\\\\test\\\\goodsinfo0305.csv',header = 0,engine='python')\n",
    "GoodsInfo.columns=['GoodsNO','GoodsName','barCode','Company','Dept','tamllTax','Group','Holder','GradeTwo','GradeThird','GradeForth','SPU']\n",
    "GoodsInfoShort=GoodsInfo[['GoodsNO','Company','Dept']]\n",
    "GoodsInfoShort=GoodsInfoShort.drop_duplicates(['GoodsNO'])"
   ]
  },
  {
   "cell_type": "code",
   "execution_count": 69,
   "metadata": {},
   "outputs": [],
   "source": [
    "#匹配部门\n",
    "data_merge_dept=pd.merge(data_merge_groupby,GoodsInfoShort,on=['GoodsNO'],how='left')"
   ]
  },
  {
   "cell_type": "code",
   "execution_count": 70,
   "metadata": {},
   "outputs": [
    {
     "data": {
      "text/plain": [
       "Index(['GoodsNO', 'GoodsName', 'cal_time_month', 'Total_in', 'FixCostPrice',\n",
       "       'stockDelayCost', 'Company', 'Dept'],\n",
       "      dtype='object')"
      ]
     },
     "execution_count": 70,
     "metadata": {},
     "output_type": "execute_result"
    }
   ],
   "source": [
    "data_merge_dept.columns"
   ]
  },
  {
   "cell_type": "code",
   "execution_count": 71,
   "metadata": {},
   "outputs": [
    {
     "data": {
      "text/plain": [
       "GoodsNO             0\n",
       "GoodsName           0\n",
       "cal_time_month      0\n",
       "Total_in            0\n",
       "FixCostPrice        0\n",
       "stockDelayCost      0\n",
       "Company           143\n",
       "Dept              143\n",
       "dtype: int64"
      ]
     },
     "execution_count": 71,
     "metadata": {},
     "output_type": "execute_result"
    }
   ],
   "source": [
    "data_merge_dept=data_merge_dept.fillna(np.nan)\n",
    "data_merge_dept.isnull().sum()"
   ]
  },
  {
   "cell_type": "code",
   "execution_count": 72,
   "metadata": {},
   "outputs": [
    {
     "data": {
      "text/plain": [
       "Index(['GoodsNO', 'GoodsName', 'cal_time_month', 'Total_in', 'FixCostPrice',\n",
       "       'stockDelayCost'],\n",
       "      dtype='object')"
      ]
     },
     "execution_count": 72,
     "metadata": {},
     "output_type": "execute_result"
    }
   ],
   "source": [
    "data_merge_groupby.columns"
   ]
  },
  {
   "cell_type": "code",
   "execution_count": 73,
   "metadata": {},
   "outputs": [],
   "source": [
    "data_merge_dept=data_merge_dept[['GoodsNO', 'GoodsName', 'cal_time_month', 'Total_in', 'stockDelayCost','Company', 'Dept']]"
   ]
  },
  {
   "cell_type": "code",
   "execution_count": 74,
   "metadata": {},
   "outputs": [],
   "source": [
    "data_merge_dept.to_excel('data_merge_dept.xlsx',header=True,index=False)"
   ]
  },
  {
   "cell_type": "code",
   "execution_count": 75,
   "metadata": {},
   "outputs": [],
   "source": [
    "#按月，公司，部门汇总\n",
    "data_merge_dept_gb = data_merge_dept.groupby(['Company','Dept','cal_time_month'],as_index=False)\n",
    "data_merge_dept_gb=data_merge_dept_gb.aggregate(np.sum)\n",
    "data_merge_dept_gb=data_merge_dept_gb[['Company','Dept','cal_time_month','stockDelayCost']]"
   ]
  },
  {
   "cell_type": "code",
   "execution_count": 76,
   "metadata": {},
   "outputs": [
    {
     "data": {
      "text/html": [
       "<div>\n",
       "<style scoped>\n",
       "    .dataframe tbody tr th:only-of-type {\n",
       "        vertical-align: middle;\n",
       "    }\n",
       "\n",
       "    .dataframe tbody tr th {\n",
       "        vertical-align: top;\n",
       "    }\n",
       "\n",
       "    .dataframe thead th {\n",
       "        text-align: right;\n",
       "    }\n",
       "</style>\n",
       "<table border=\"1\" class=\"dataframe\">\n",
       "  <thead>\n",
       "    <tr style=\"text-align: right;\">\n",
       "      <th></th>\n",
       "      <th>Company</th>\n",
       "      <th>Dept</th>\n",
       "      <th>cal_time_month</th>\n",
       "      <th>stockDelayCost</th>\n",
       "    </tr>\n",
       "  </thead>\n",
       "  <tbody>\n",
       "    <tr>\n",
       "      <th>0</th>\n",
       "      <td>可优比母婴用品有限公司</td>\n",
       "      <td>KUB出行</td>\n",
       "      <td>2019-01</td>\n",
       "      <td>278878.608427</td>\n",
       "    </tr>\n",
       "    <tr>\n",
       "      <th>1</th>\n",
       "      <td>可优比母婴用品有限公司</td>\n",
       "      <td>KUB出行</td>\n",
       "      <td>2019-02</td>\n",
       "      <td>274349.585267</td>\n",
       "    </tr>\n",
       "    <tr>\n",
       "      <th>2</th>\n",
       "      <td>可优比母婴用品有限公司</td>\n",
       "      <td>KUB包材</td>\n",
       "      <td>2019-01</td>\n",
       "      <td>38685.986413</td>\n",
       "    </tr>\n",
       "    <tr>\n",
       "      <th>3</th>\n",
       "      <td>可优比母婴用品有限公司</td>\n",
       "      <td>KUB包材</td>\n",
       "      <td>2019-02</td>\n",
       "      <td>50950.050425</td>\n",
       "    </tr>\n",
       "    <tr>\n",
       "      <th>4</th>\n",
       "      <td>可优比母婴用品有限公司</td>\n",
       "      <td>KUB喂辅</td>\n",
       "      <td>2019-01</td>\n",
       "      <td>503729.020616</td>\n",
       "    </tr>\n",
       "  </tbody>\n",
       "</table>\n",
       "</div>"
      ],
      "text/plain": [
       "       Company   Dept cal_time_month  stockDelayCost\n",
       "0  可优比母婴用品有限公司  KUB出行        2019-01   278878.608427\n",
       "1  可优比母婴用品有限公司  KUB出行        2019-02   274349.585267\n",
       "2  可优比母婴用品有限公司  KUB包材        2019-01    38685.986413\n",
       "3  可优比母婴用品有限公司  KUB包材        2019-02    50950.050425\n",
       "4  可优比母婴用品有限公司  KUB喂辅        2019-01   503729.020616"
      ]
     },
     "execution_count": 76,
     "metadata": {},
     "output_type": "execute_result"
    }
   ],
   "source": [
    "data_merge_dept_gb.head()"
   ]
  },
  {
   "cell_type": "code",
   "execution_count": 77,
   "metadata": {},
   "outputs": [],
   "source": [
    "data_merge_dept_gb.to_excel(\"2019库存占用带小组6.xlsx\",header=True,index=False)"
   ]
  },
  {
   "cell_type": "code",
   "execution_count": null,
   "metadata": {},
   "outputs": [],
   "source": [
    "# stocksell_groupby[stocksell_groupby['date']<=parse('2018-12-31').date()].sort_values(by ='date',ascending=True).head()"
   ]
  },
  {
   "cell_type": "code",
   "execution_count": 78,
   "metadata": {},
   "outputs": [
    {
     "data": {
      "text/plain": [
       "226172455"
      ]
     },
     "execution_count": 78,
     "metadata": {},
     "output_type": "execute_result"
    }
   ],
   "source": [
    "#校核检验结果\n",
    "result=stockdata_groupby[stockdata_groupby['date']<=parse('2019-02-28').date()].groupby(['date'],as_index=False)\n",
    "result=result.aggregate(np.sum)#初始库存总数\n",
    "result1=stock_change_data[stock_change_data['date']<=parse('2019-02-28').date()].groupby(['date'],as_index=False)\n",
    "result1=result1.aggregate(np.sum)#最终库存总数\n",
    "result2=stocksell_groupby[stocksell_groupby['date']<=parse('2019-02-28').date()].groupby(['date'],as_index=False)\n",
    "result2=result2.aggregate(np.sum)#出库总数\n",
    "result.Total_in.sum()"
   ]
  },
  {
   "cell_type": "code",
   "execution_count": 79,
   "metadata": {},
   "outputs": [
    {
     "data": {
      "text/plain": [
       "0"
      ]
     },
     "execution_count": 79,
     "metadata": {},
     "output_type": "execute_result"
    }
   ],
   "source": [
    "#检验是否计算正确，为零则表示准确无误\n",
    "result1.Total_in.sum()-(result.Total_in.sum()-result2.total.sum()+t)"
   ]
  },
  {
   "cell_type": "code",
   "execution_count": null,
   "metadata": {},
   "outputs": [],
   "source": [
    "result1.Total_in.sum()"
   ]
  },
  {
   "cell_type": "code",
   "execution_count": null,
   "metadata": {},
   "outputs": [],
   "source": [
    "result2.total.sum()"
   ]
  },
  {
   "cell_type": "code",
   "execution_count": null,
   "metadata": {},
   "outputs": [],
   "source": [
    "t"
   ]
  },
  {
   "cell_type": "code",
   "execution_count": null,
   "metadata": {},
   "outputs": [],
   "source": [
    "startdate=date(2018,11,30)\n",
    "for i in range(91):\n",
    "    start=startdate + timedelta(i)\n",
    "    print(start)"
   ]
  },
  {
   "cell_type": "code",
   "execution_count": null,
   "metadata": {},
   "outputs": [],
   "source": []
  }
 ],
 "metadata": {
  "kernelspec": {
   "display_name": "Python 3",
   "language": "python",
   "name": "python3"
  },
  "language_info": {
   "codemirror_mode": {
    "name": "ipython",
    "version": 3
   },
   "file_extension": ".py",
   "mimetype": "text/x-python",
   "name": "python",
   "nbconvert_exporter": "python",
   "pygments_lexer": "ipython3",
   "version": "3.6.4"
  }
 },
 "nbformat": 4,
 "nbformat_minor": 2
}
