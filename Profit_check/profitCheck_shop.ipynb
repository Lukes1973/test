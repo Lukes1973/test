{
 "cells": [
  {
   "cell_type": "code",
   "execution_count": 1,
   "metadata": {},
   "outputs": [],
   "source": [
    "#导入相关的库\n",
    "import mysql.connector\n",
    "import pandas as pd\n",
    "import numpy as np\n",
    "from datetime import datetime,date,timedelta\n",
    "from dateutil.parser import parse"
   ]
  },
  {
   "cell_type": "code",
   "execution_count": 2,
   "metadata": {},
   "outputs": [
    {
     "name": "stdout",
     "output_type": "stream",
     "text": [
      "<mysql.connector.connection.MySQLConnection object at 0x0000000008E7C2B0>\n"
     ]
    }
   ],
   "source": [
    "#数据库连接初始化\n",
    "mydb = mysql.connector.connect(\n",
    "    host=\"rm-bp178mt2593im687xjo.mysql.rds.aliyuncs.com\",\n",
    "    user=\"root\",\n",
    "    passwd=\"KLxs8888\",\n",
    "    database=\"wdgj\"\n",
    ")\n",
    "print(mydb)"
   ]
  },
  {
   "cell_type": "code",
   "execution_count": 3,
   "metadata": {},
   "outputs": [],
   "source": [
    "# #数据库连接初始化\n",
    "# mydb = mysql.connector.connect(\n",
    "#     host=\"localhost\",\n",
    "#     user=\"root\",\n",
    "#     passwd=\"qaz!@wsx\",\n",
    "#     database=\"work\"\n",
    "# )\n",
    "# print(mydb)"
   ]
  },
  {
   "cell_type": "code",
   "execution_count": 4,
   "metadata": {},
   "outputs": [],
   "source": [
    "#定义SQL语句\n",
    "profitCheck='SELECT * FROM profit_check_sku_shop_copy'\n",
    "returnDetail ='SELECT * FROM return_sku_shop_copy'"
   ]
  },
  {
   "cell_type": "code",
   "execution_count": 5,
   "metadata": {},
   "outputs": [
    {
     "data": {
      "text/plain": [
       "True"
      ]
     },
     "execution_count": 5,
     "metadata": {},
     "output_type": "execute_result"
    }
   ],
   "source": [
    "\n",
    "#打开游标，获取数据\n",
    "mycursor=mydb.cursor()\n",
    "mycursor.execute(profitCheck)\n",
    "profitCheck1901=mycursor.fetchall()\n",
    "mycursor.close()"
   ]
  },
  {
   "cell_type": "code",
   "execution_count": 6,
   "metadata": {},
   "outputs": [
    {
     "data": {
      "text/plain": [
       "True"
      ]
     },
     "execution_count": 6,
     "metadata": {},
     "output_type": "execute_result"
    }
   ],
   "source": [
    "#打开游标，获取数据\n",
    "mycursor=mydb.cursor()\n",
    "mycursor.execute(returnDetail)\n",
    "returnSku1901=mycursor.fetchall()\n",
    "mycursor.close()"
   ]
  },
  {
   "cell_type": "code",
   "execution_count": 7,
   "metadata": {},
   "outputs": [],
   "source": [
    "#数据格式转化成为pandas\n",
    "profitCheck1901=pd.DataFrame(profitCheck1901)\n",
    "returnSku1901=pd.DataFrame(returnSku1901)"
   ]
  },
  {
   "cell_type": "code",
   "execution_count": 8,
   "metadata": {},
   "outputs": [],
   "source": [
    "profitCheck1901.columns=['Date','GoodsNO','BarCode','GoodsName','GoodsCount','Income','Cost','FavourableTotal'\\\n",
    "                        ,'Postage','PostageTotal','OperationCost','shopname']\n",
    "returnSku1901.columns=['Date','GoodsNO','GoodsName','ReturnTotal','GoodsCount','returnCost','shopname']"
   ]
  },
  {
   "cell_type": "code",
   "execution_count": 9,
   "metadata": {},
   "outputs": [
    {
     "data": {
      "text/html": [
       "<div>\n",
       "<style scoped>\n",
       "    .dataframe tbody tr th:only-of-type {\n",
       "        vertical-align: middle;\n",
       "    }\n",
       "\n",
       "    .dataframe tbody tr th {\n",
       "        vertical-align: top;\n",
       "    }\n",
       "\n",
       "    .dataframe thead th {\n",
       "        text-align: right;\n",
       "    }\n",
       "</style>\n",
       "<table border=\"1\" class=\"dataframe\">\n",
       "  <thead>\n",
       "    <tr style=\"text-align: right;\">\n",
       "      <th></th>\n",
       "      <th>Date</th>\n",
       "      <th>GoodsNO</th>\n",
       "      <th>GoodsName</th>\n",
       "      <th>ReturnTotal</th>\n",
       "      <th>GoodsCount</th>\n",
       "      <th>returnCost</th>\n",
       "      <th>shopname</th>\n",
       "    </tr>\n",
       "  </thead>\n",
       "  <tbody>\n",
       "    <tr>\n",
       "      <th>0</th>\n",
       "      <td>2019-03</td>\n",
       "      <td>00755</td>\n",
       "      <td>KUB可优比-升级款青少年床垫定做</td>\n",
       "      <td>505.20</td>\n",
       "      <td>1.0000</td>\n",
       "      <td>180.00000000</td>\n",
       "      <td>可优比旗舰店</td>\n",
       "    </tr>\n",
       "    <tr>\n",
       "      <th>1</th>\n",
       "      <td>2019-03</td>\n",
       "      <td>00807</td>\n",
       "      <td>米歌-F50豪华婴儿推车（马卡龙蜜粉蓝）</td>\n",
       "      <td>2018.10</td>\n",
       "      <td>5.0000</td>\n",
       "      <td>2401.00000000</td>\n",
       "      <td>欣懿宝贝-米歌</td>\n",
       "    </tr>\n",
       "    <tr>\n",
       "      <th>2</th>\n",
       "      <td>2019-03</td>\n",
       "      <td>01051</td>\n",
       "      <td>KUB可优比-梦维斯2015四季款婴儿床垫110*60</td>\n",
       "      <td>261.00</td>\n",
       "      <td>1.0000</td>\n",
       "      <td>112.90000000</td>\n",
       "      <td>京东可优比母婴旗舰店</td>\n",
       "    </tr>\n",
       "    <tr>\n",
       "      <th>3</th>\n",
       "      <td>2019-03</td>\n",
       "      <td>01051</td>\n",
       "      <td>KUB可优比-梦维斯2015四季款婴儿床垫110*60</td>\n",
       "      <td>1191.52</td>\n",
       "      <td>5.0000</td>\n",
       "      <td>564.50000000</td>\n",
       "      <td>可优比旗舰店</td>\n",
       "    </tr>\n",
       "    <tr>\n",
       "      <th>4</th>\n",
       "      <td>2019-03</td>\n",
       "      <td>01053</td>\n",
       "      <td>KUB可优比-梦维斯2015四季款婴儿床垫120*60</td>\n",
       "      <td>1921.02</td>\n",
       "      <td>7.0000</td>\n",
       "      <td>841.40000000</td>\n",
       "      <td>可优比旗舰店</td>\n",
       "    </tr>\n",
       "  </tbody>\n",
       "</table>\n",
       "</div>"
      ],
      "text/plain": [
       "      Date GoodsNO                    GoodsName ReturnTotal GoodsCount  \\\n",
       "0  2019-03   00755            KUB可优比-升级款青少年床垫定做      505.20     1.0000   \n",
       "1  2019-03   00807         米歌-F50豪华婴儿推车（马卡龙蜜粉蓝）     2018.10     5.0000   \n",
       "2  2019-03   01051  KUB可优比-梦维斯2015四季款婴儿床垫110*60      261.00     1.0000   \n",
       "3  2019-03   01051  KUB可优比-梦维斯2015四季款婴儿床垫110*60     1191.52     5.0000   \n",
       "4  2019-03   01053  KUB可优比-梦维斯2015四季款婴儿床垫120*60     1921.02     7.0000   \n",
       "\n",
       "      returnCost    shopname  \n",
       "0   180.00000000      可优比旗舰店  \n",
       "1  2401.00000000     欣懿宝贝-米歌  \n",
       "2   112.90000000  京东可优比母婴旗舰店  \n",
       "3   564.50000000      可优比旗舰店  \n",
       "4   841.40000000      可优比旗舰店  "
      ]
     },
     "execution_count": 9,
     "metadata": {},
     "output_type": "execute_result"
    }
   ],
   "source": [
    "returnSku1901.head()"
   ]
  },
  {
   "cell_type": "code",
   "execution_count": 10,
   "metadata": {},
   "outputs": [
    {
     "data": {
      "text/plain": [
       "27815.629999999997"
      ]
     },
     "execution_count": 10,
     "metadata": {},
     "output_type": "execute_result"
    }
   ],
   "source": [
    "returnSku1901[\"GoodsCount\"]=returnSku1901[\"GoodsCount\"].astype(float)\n",
    "result2=returnSku1901.groupby(['Date'],as_index=False)\n",
    "result2=result2.aggregate(np.sum)#出库总数\n",
    "result2.GoodsCount.sum()"
   ]
  },
  {
   "cell_type": "code",
   "execution_count": 11,
   "metadata": {},
   "outputs": [
    {
     "data": {
      "text/html": [
       "<div>\n",
       "<style scoped>\n",
       "    .dataframe tbody tr th:only-of-type {\n",
       "        vertical-align: middle;\n",
       "    }\n",
       "\n",
       "    .dataframe tbody tr th {\n",
       "        vertical-align: top;\n",
       "    }\n",
       "\n",
       "    .dataframe thead th {\n",
       "        text-align: right;\n",
       "    }\n",
       "</style>\n",
       "<table border=\"1\" class=\"dataframe\">\n",
       "  <thead>\n",
       "    <tr style=\"text-align: right;\">\n",
       "      <th></th>\n",
       "      <th>Date</th>\n",
       "      <th>GoodsNO</th>\n",
       "      <th>BarCode</th>\n",
       "      <th>GoodsName</th>\n",
       "      <th>GoodsCount</th>\n",
       "      <th>Income</th>\n",
       "      <th>Cost</th>\n",
       "      <th>FavourableTotal</th>\n",
       "      <th>Postage</th>\n",
       "      <th>PostageTotal</th>\n",
       "      <th>OperationCost</th>\n",
       "      <th>shopname</th>\n",
       "    </tr>\n",
       "  </thead>\n",
       "  <tbody>\n",
       "    <tr>\n",
       "      <th>0</th>\n",
       "      <td>2019-03</td>\n",
       "      <td>K04865301</td>\n",
       "      <td>6971971889076</td>\n",
       "      <td>KUB可优比-艾迪斯婴儿床-旗舰版猪年生肖-120*65</td>\n",
       "      <td>1592.0</td>\n",
       "      <td>1420067.80</td>\n",
       "      <td>818606.40</td>\n",
       "      <td>173332.92</td>\n",
       "      <td>0.00</td>\n",
       "      <td>7469.00</td>\n",
       "      <td>4767.00</td>\n",
       "      <td>可优比旗舰店</td>\n",
       "    </tr>\n",
       "    <tr>\n",
       "      <th>1</th>\n",
       "      <td>2019-03</td>\n",
       "      <td>C.TC.01.01.000059</td>\n",
       "      <td>6925125592633</td>\n",
       "      <td>KUB可优比-艾迪斯婴儿床-新款白马FD826-120*65</td>\n",
       "      <td>1547.0</td>\n",
       "      <td>1370466.85</td>\n",
       "      <td>795467.40</td>\n",
       "      <td>164401.71</td>\n",
       "      <td>0.00</td>\n",
       "      <td>2516.00</td>\n",
       "      <td>4629.00</td>\n",
       "      <td>可优比旗舰店</td>\n",
       "    </tr>\n",
       "    <tr>\n",
       "      <th>2</th>\n",
       "      <td>2019-03</td>\n",
       "      <td>C.XH.13.01.000008</td>\n",
       "      <td>6925125569666</td>\n",
       "      <td>KUB可优比-干湿棉柔巾</td>\n",
       "      <td>59503.0</td>\n",
       "      <td>601105.03</td>\n",
       "      <td>281330.18</td>\n",
       "      <td>130561.43</td>\n",
       "      <td>4657.27</td>\n",
       "      <td>254.67</td>\n",
       "      <td>14169.63</td>\n",
       "      <td>可优比旗舰店</td>\n",
       "    </tr>\n",
       "    <tr>\n",
       "      <th>3</th>\n",
       "      <td>2019-03</td>\n",
       "      <td>D04838303</td>\n",
       "      <td>6971235895195</td>\n",
       "      <td>蒂爱-宝宝折叠浴盆-蓝紫色</td>\n",
       "      <td>5298.0</td>\n",
       "      <td>1014437.41</td>\n",
       "      <td>476820.00</td>\n",
       "      <td>105684.61</td>\n",
       "      <td>43.60</td>\n",
       "      <td>60.00</td>\n",
       "      <td>15846.00</td>\n",
       "      <td>蒂爱旗舰店</td>\n",
       "    </tr>\n",
       "    <tr>\n",
       "      <th>4</th>\n",
       "      <td>2019-03</td>\n",
       "      <td>C.XH.12.01.000018</td>\n",
       "      <td>6925125595610</td>\n",
       "      <td>KUB可优比-铂金装加厚柔湿巾12包/箱</td>\n",
       "      <td>1591.0</td>\n",
       "      <td>301102.00</td>\n",
       "      <td>137462.40</td>\n",
       "      <td>104616.60</td>\n",
       "      <td>12765.60</td>\n",
       "      <td>0.00</td>\n",
       "      <td>4757.90</td>\n",
       "      <td>可优比旗舰店</td>\n",
       "    </tr>\n",
       "  </tbody>\n",
       "</table>\n",
       "</div>"
      ],
      "text/plain": [
       "      Date            GoodsNO        BarCode                       GoodsName  \\\n",
       "0  2019-03          K04865301  6971971889076    KUB可优比-艾迪斯婴儿床-旗舰版猪年生肖-120*65   \n",
       "1  2019-03  C.TC.01.01.000059  6925125592633  KUB可优比-艾迪斯婴儿床-新款白马FD826-120*65   \n",
       "2  2019-03  C.XH.13.01.000008  6925125569666                    KUB可优比-干湿棉柔巾   \n",
       "3  2019-03          D04838303  6971235895195                   蒂爱-宝宝折叠浴盆-蓝紫色   \n",
       "4  2019-03  C.XH.12.01.000018  6925125595610            KUB可优比-铂金装加厚柔湿巾12包/箱   \n",
       "\n",
       "  GoodsCount      Income       Cost FavourableTotal   Postage PostageTotal  \\\n",
       "0     1592.0  1420067.80  818606.40       173332.92      0.00      7469.00   \n",
       "1     1547.0  1370466.85  795467.40       164401.71      0.00      2516.00   \n",
       "2    59503.0   601105.03  281330.18       130561.43   4657.27       254.67   \n",
       "3     5298.0  1014437.41  476820.00       105684.61     43.60        60.00   \n",
       "4     1591.0   301102.00  137462.40       104616.60  12765.60         0.00   \n",
       "\n",
       "  OperationCost shopname  \n",
       "0       4767.00   可优比旗舰店  \n",
       "1       4629.00   可优比旗舰店  \n",
       "2      14169.63   可优比旗舰店  \n",
       "3      15846.00    蒂爱旗舰店  \n",
       "4       4757.90   可优比旗舰店  "
      ]
     },
     "execution_count": 11,
     "metadata": {},
     "output_type": "execute_result"
    }
   ],
   "source": [
    "profitCheck1901.head()"
   ]
  },
  {
   "cell_type": "code",
   "execution_count": 12,
   "metadata": {},
   "outputs": [],
   "source": [
    "returnSku1901[\"GoodsCount\"]=returnSku1901[\"GoodsCount\"].astype(float)"
   ]
  },
  {
   "cell_type": "code",
   "execution_count": 13,
   "metadata": {},
   "outputs": [],
   "source": [
    "#合并出库明细和退货明细\n",
    "data_merge = pd.merge(profitCheck1901,returnSku1901,on=['Date','GoodsNO','shopname'],how='left')"
   ]
  },
  {
   "cell_type": "code",
   "execution_count": 14,
   "metadata": {},
   "outputs": [
    {
     "data": {
      "text/plain": [
       "27419.63"
      ]
     },
     "execution_count": 14,
     "metadata": {},
     "output_type": "execute_result"
    }
   ],
   "source": [
    "returnSku1901[\"GoodsCount\"]=returnSku1901[\"GoodsCount\"].astype(float)\n",
    "data_merge1=data_merge.groupby(['Date'],as_index=False)\n",
    "data_merge1=data_merge1.aggregate(np.sum)#出库总数\n",
    "data_merge1.GoodsCount_y.sum()"
   ]
  },
  {
   "cell_type": "code",
   "execution_count": 15,
   "metadata": {},
   "outputs": [],
   "source": [
    "# data_merge.to_excel(\"data_merge_right.xlsx\",header=True)"
   ]
  },
  {
   "cell_type": "code",
   "execution_count": 16,
   "metadata": {},
   "outputs": [
    {
     "data": {
      "text/html": [
       "<div>\n",
       "<style scoped>\n",
       "    .dataframe tbody tr th:only-of-type {\n",
       "        vertical-align: middle;\n",
       "    }\n",
       "\n",
       "    .dataframe tbody tr th {\n",
       "        vertical-align: top;\n",
       "    }\n",
       "\n",
       "    .dataframe thead th {\n",
       "        text-align: right;\n",
       "    }\n",
       "</style>\n",
       "<table border=\"1\" class=\"dataframe\">\n",
       "  <thead>\n",
       "    <tr style=\"text-align: right;\">\n",
       "      <th></th>\n",
       "      <th>Date</th>\n",
       "      <th>GoodsNO</th>\n",
       "      <th>BarCode</th>\n",
       "      <th>GoodsName_x</th>\n",
       "      <th>GoodsCount_x</th>\n",
       "      <th>Income</th>\n",
       "      <th>Cost</th>\n",
       "      <th>FavourableTotal</th>\n",
       "      <th>Postage</th>\n",
       "      <th>PostageTotal</th>\n",
       "      <th>OperationCost</th>\n",
       "      <th>shopname</th>\n",
       "      <th>GoodsName_y</th>\n",
       "      <th>ReturnTotal</th>\n",
       "      <th>GoodsCount_y</th>\n",
       "      <th>returnCost</th>\n",
       "    </tr>\n",
       "  </thead>\n",
       "  <tbody>\n",
       "    <tr>\n",
       "      <th>0</th>\n",
       "      <td>2019-03</td>\n",
       "      <td>K04865301</td>\n",
       "      <td>6971971889076</td>\n",
       "      <td>KUB可优比-艾迪斯婴儿床-旗舰版猪年生肖-120*65</td>\n",
       "      <td>1592.0</td>\n",
       "      <td>1420067.80</td>\n",
       "      <td>818606.40</td>\n",
       "      <td>173332.92</td>\n",
       "      <td>0.00</td>\n",
       "      <td>7469.00</td>\n",
       "      <td>4767.00</td>\n",
       "      <td>可优比旗舰店</td>\n",
       "      <td>KUB可优比-艾迪斯婴儿床-旗舰版猪年生肖-120*65</td>\n",
       "      <td>19667.19</td>\n",
       "      <td>23.0</td>\n",
       "      <td>11826.60000000</td>\n",
       "    </tr>\n",
       "    <tr>\n",
       "      <th>1</th>\n",
       "      <td>2019-03</td>\n",
       "      <td>C.TC.01.01.000059</td>\n",
       "      <td>6925125592633</td>\n",
       "      <td>KUB可优比-艾迪斯婴儿床-新款白马FD826-120*65</td>\n",
       "      <td>1547.0</td>\n",
       "      <td>1370466.85</td>\n",
       "      <td>795467.40</td>\n",
       "      <td>164401.71</td>\n",
       "      <td>0.00</td>\n",
       "      <td>2516.00</td>\n",
       "      <td>4629.00</td>\n",
       "      <td>可优比旗舰店</td>\n",
       "      <td>KUB可优比-艾迪斯婴儿床-新款白马FD826-120*65</td>\n",
       "      <td>31336.53</td>\n",
       "      <td>37.0</td>\n",
       "      <td>19025.40000000</td>\n",
       "    </tr>\n",
       "    <tr>\n",
       "      <th>2</th>\n",
       "      <td>2019-03</td>\n",
       "      <td>C.XH.13.01.000008</td>\n",
       "      <td>6925125569666</td>\n",
       "      <td>KUB可优比-干湿棉柔巾</td>\n",
       "      <td>59503.0</td>\n",
       "      <td>601105.03</td>\n",
       "      <td>281330.18</td>\n",
       "      <td>130561.43</td>\n",
       "      <td>4657.27</td>\n",
       "      <td>254.67</td>\n",
       "      <td>14169.63</td>\n",
       "      <td>可优比旗舰店</td>\n",
       "      <td>KUB可优比-干湿棉柔巾</td>\n",
       "      <td>3886.39</td>\n",
       "      <td>419.0</td>\n",
       "      <td>1981.03200000</td>\n",
       "    </tr>\n",
       "    <tr>\n",
       "      <th>3</th>\n",
       "      <td>2019-03</td>\n",
       "      <td>D04838303</td>\n",
       "      <td>6971235895195</td>\n",
       "      <td>蒂爱-宝宝折叠浴盆-蓝紫色</td>\n",
       "      <td>5298.0</td>\n",
       "      <td>1014437.41</td>\n",
       "      <td>476820.00</td>\n",
       "      <td>105684.61</td>\n",
       "      <td>43.60</td>\n",
       "      <td>60.00</td>\n",
       "      <td>15846.00</td>\n",
       "      <td>蒂爱旗舰店</td>\n",
       "      <td>蒂爱-宝宝折叠浴盆-蓝紫色</td>\n",
       "      <td>7784.83</td>\n",
       "      <td>41.0</td>\n",
       "      <td>3690.00000000</td>\n",
       "    </tr>\n",
       "    <tr>\n",
       "      <th>4</th>\n",
       "      <td>2019-03</td>\n",
       "      <td>C.XH.12.01.000018</td>\n",
       "      <td>6925125595610</td>\n",
       "      <td>KUB可优比-铂金装加厚柔湿巾12包/箱</td>\n",
       "      <td>1591.0</td>\n",
       "      <td>301102.00</td>\n",
       "      <td>137462.40</td>\n",
       "      <td>104616.60</td>\n",
       "      <td>12765.60</td>\n",
       "      <td>0.00</td>\n",
       "      <td>4757.90</td>\n",
       "      <td>可优比旗舰店</td>\n",
       "      <td>KUB可优比-铂金装加厚柔湿巾12包/箱</td>\n",
       "      <td>464.54</td>\n",
       "      <td>3.0</td>\n",
       "      <td>259.20000000</td>\n",
       "    </tr>\n",
       "  </tbody>\n",
       "</table>\n",
       "</div>"
      ],
      "text/plain": [
       "      Date            GoodsNO        BarCode                     GoodsName_x  \\\n",
       "0  2019-03          K04865301  6971971889076    KUB可优比-艾迪斯婴儿床-旗舰版猪年生肖-120*65   \n",
       "1  2019-03  C.TC.01.01.000059  6925125592633  KUB可优比-艾迪斯婴儿床-新款白马FD826-120*65   \n",
       "2  2019-03  C.XH.13.01.000008  6925125569666                    KUB可优比-干湿棉柔巾   \n",
       "3  2019-03          D04838303  6971235895195                   蒂爱-宝宝折叠浴盆-蓝紫色   \n",
       "4  2019-03  C.XH.12.01.000018  6925125595610            KUB可优比-铂金装加厚柔湿巾12包/箱   \n",
       "\n",
       "  GoodsCount_x      Income       Cost FavourableTotal   Postage PostageTotal  \\\n",
       "0       1592.0  1420067.80  818606.40       173332.92      0.00      7469.00   \n",
       "1       1547.0  1370466.85  795467.40       164401.71      0.00      2516.00   \n",
       "2      59503.0   601105.03  281330.18       130561.43   4657.27       254.67   \n",
       "3       5298.0  1014437.41  476820.00       105684.61     43.60        60.00   \n",
       "4       1591.0   301102.00  137462.40       104616.60  12765.60         0.00   \n",
       "\n",
       "  OperationCost shopname                     GoodsName_y ReturnTotal  \\\n",
       "0       4767.00   可优比旗舰店    KUB可优比-艾迪斯婴儿床-旗舰版猪年生肖-120*65    19667.19   \n",
       "1       4629.00   可优比旗舰店  KUB可优比-艾迪斯婴儿床-新款白马FD826-120*65    31336.53   \n",
       "2      14169.63   可优比旗舰店                    KUB可优比-干湿棉柔巾     3886.39   \n",
       "3      15846.00    蒂爱旗舰店                   蒂爱-宝宝折叠浴盆-蓝紫色     7784.83   \n",
       "4       4757.90   可优比旗舰店            KUB可优比-铂金装加厚柔湿巾12包/箱      464.54   \n",
       "\n",
       "   GoodsCount_y      returnCost  \n",
       "0          23.0  11826.60000000  \n",
       "1          37.0  19025.40000000  \n",
       "2         419.0   1981.03200000  \n",
       "3          41.0   3690.00000000  \n",
       "4           3.0    259.20000000  "
      ]
     },
     "execution_count": 16,
     "metadata": {},
     "output_type": "execute_result"
    }
   ],
   "source": [
    "data_merge.head()"
   ]
  },
  {
   "cell_type": "code",
   "execution_count": 17,
   "metadata": {},
   "outputs": [],
   "source": [
    "#data_merge.to_excel(\"data_merge.xlsx\",header=True,index=False)"
   ]
  },
  {
   "cell_type": "code",
   "execution_count": 18,
   "metadata": {},
   "outputs": [
    {
     "data": {
      "text/html": [
       "<div>\n",
       "<style scoped>\n",
       "    .dataframe tbody tr th:only-of-type {\n",
       "        vertical-align: middle;\n",
       "    }\n",
       "\n",
       "    .dataframe tbody tr th {\n",
       "        vertical-align: top;\n",
       "    }\n",
       "\n",
       "    .dataframe thead th {\n",
       "        text-align: right;\n",
       "    }\n",
       "</style>\n",
       "<table border=\"1\" class=\"dataframe\">\n",
       "  <thead>\n",
       "    <tr style=\"text-align: right;\">\n",
       "      <th></th>\n",
       "      <th>Date</th>\n",
       "      <th>GoodsNO</th>\n",
       "      <th>BarCode</th>\n",
       "      <th>GoodsName_x</th>\n",
       "      <th>GoodsCount_x</th>\n",
       "      <th>Income</th>\n",
       "      <th>Cost</th>\n",
       "      <th>FavourableTotal</th>\n",
       "      <th>Postage</th>\n",
       "      <th>PostageTotal</th>\n",
       "      <th>OperationCost</th>\n",
       "      <th>shopname</th>\n",
       "      <th>GoodsName_y</th>\n",
       "      <th>ReturnTotal</th>\n",
       "      <th>GoodsCount_y</th>\n",
       "      <th>returnCost</th>\n",
       "    </tr>\n",
       "  </thead>\n",
       "  <tbody>\n",
       "    <tr>\n",
       "      <th>0</th>\n",
       "      <td>2019-03</td>\n",
       "      <td>K04865301</td>\n",
       "      <td>6971971889076</td>\n",
       "      <td>KUB可优比-艾迪斯婴儿床-旗舰版猪年生肖-120*65</td>\n",
       "      <td>1592.0</td>\n",
       "      <td>1420067.80</td>\n",
       "      <td>818606.40</td>\n",
       "      <td>173332.92</td>\n",
       "      <td>0.00</td>\n",
       "      <td>7469.00</td>\n",
       "      <td>4767.00</td>\n",
       "      <td>可优比旗舰店</td>\n",
       "      <td>KUB可优比-艾迪斯婴儿床-旗舰版猪年生肖-120*65</td>\n",
       "      <td>19667.19</td>\n",
       "      <td>23.0</td>\n",
       "      <td>11826.60000000</td>\n",
       "    </tr>\n",
       "    <tr>\n",
       "      <th>1</th>\n",
       "      <td>2019-03</td>\n",
       "      <td>C.TC.01.01.000059</td>\n",
       "      <td>6925125592633</td>\n",
       "      <td>KUB可优比-艾迪斯婴儿床-新款白马FD826-120*65</td>\n",
       "      <td>1547.0</td>\n",
       "      <td>1370466.85</td>\n",
       "      <td>795467.40</td>\n",
       "      <td>164401.71</td>\n",
       "      <td>0.00</td>\n",
       "      <td>2516.00</td>\n",
       "      <td>4629.00</td>\n",
       "      <td>可优比旗舰店</td>\n",
       "      <td>KUB可优比-艾迪斯婴儿床-新款白马FD826-120*65</td>\n",
       "      <td>31336.53</td>\n",
       "      <td>37.0</td>\n",
       "      <td>19025.40000000</td>\n",
       "    </tr>\n",
       "    <tr>\n",
       "      <th>2</th>\n",
       "      <td>2019-03</td>\n",
       "      <td>C.XH.13.01.000008</td>\n",
       "      <td>6925125569666</td>\n",
       "      <td>KUB可优比-干湿棉柔巾</td>\n",
       "      <td>59503.0</td>\n",
       "      <td>601105.03</td>\n",
       "      <td>281330.18</td>\n",
       "      <td>130561.43</td>\n",
       "      <td>4657.27</td>\n",
       "      <td>254.67</td>\n",
       "      <td>14169.63</td>\n",
       "      <td>可优比旗舰店</td>\n",
       "      <td>KUB可优比-干湿棉柔巾</td>\n",
       "      <td>3886.39</td>\n",
       "      <td>419.0</td>\n",
       "      <td>1981.03200000</td>\n",
       "    </tr>\n",
       "    <tr>\n",
       "      <th>3</th>\n",
       "      <td>2019-03</td>\n",
       "      <td>D04838303</td>\n",
       "      <td>6971235895195</td>\n",
       "      <td>蒂爱-宝宝折叠浴盆-蓝紫色</td>\n",
       "      <td>5298.0</td>\n",
       "      <td>1014437.41</td>\n",
       "      <td>476820.00</td>\n",
       "      <td>105684.61</td>\n",
       "      <td>43.60</td>\n",
       "      <td>60.00</td>\n",
       "      <td>15846.00</td>\n",
       "      <td>蒂爱旗舰店</td>\n",
       "      <td>蒂爱-宝宝折叠浴盆-蓝紫色</td>\n",
       "      <td>7784.83</td>\n",
       "      <td>41.0</td>\n",
       "      <td>3690.00000000</td>\n",
       "    </tr>\n",
       "    <tr>\n",
       "      <th>4</th>\n",
       "      <td>2019-03</td>\n",
       "      <td>C.XH.12.01.000018</td>\n",
       "      <td>6925125595610</td>\n",
       "      <td>KUB可优比-铂金装加厚柔湿巾12包/箱</td>\n",
       "      <td>1591.0</td>\n",
       "      <td>301102.00</td>\n",
       "      <td>137462.40</td>\n",
       "      <td>104616.60</td>\n",
       "      <td>12765.60</td>\n",
       "      <td>0.00</td>\n",
       "      <td>4757.90</td>\n",
       "      <td>可优比旗舰店</td>\n",
       "      <td>KUB可优比-铂金装加厚柔湿巾12包/箱</td>\n",
       "      <td>464.54</td>\n",
       "      <td>3.0</td>\n",
       "      <td>259.20000000</td>\n",
       "    </tr>\n",
       "  </tbody>\n",
       "</table>\n",
       "</div>"
      ],
      "text/plain": [
       "      Date            GoodsNO        BarCode                     GoodsName_x  \\\n",
       "0  2019-03          K04865301  6971971889076    KUB可优比-艾迪斯婴儿床-旗舰版猪年生肖-120*65   \n",
       "1  2019-03  C.TC.01.01.000059  6925125592633  KUB可优比-艾迪斯婴儿床-新款白马FD826-120*65   \n",
       "2  2019-03  C.XH.13.01.000008  6925125569666                    KUB可优比-干湿棉柔巾   \n",
       "3  2019-03          D04838303  6971235895195                   蒂爱-宝宝折叠浴盆-蓝紫色   \n",
       "4  2019-03  C.XH.12.01.000018  6925125595610            KUB可优比-铂金装加厚柔湿巾12包/箱   \n",
       "\n",
       "  GoodsCount_x      Income       Cost FavourableTotal   Postage PostageTotal  \\\n",
       "0       1592.0  1420067.80  818606.40       173332.92      0.00      7469.00   \n",
       "1       1547.0  1370466.85  795467.40       164401.71      0.00      2516.00   \n",
       "2      59503.0   601105.03  281330.18       130561.43   4657.27       254.67   \n",
       "3       5298.0  1014437.41  476820.00       105684.61     43.60        60.00   \n",
       "4       1591.0   301102.00  137462.40       104616.60  12765.60         0.00   \n",
       "\n",
       "  OperationCost shopname                     GoodsName_y ReturnTotal  \\\n",
       "0       4767.00   可优比旗舰店    KUB可优比-艾迪斯婴儿床-旗舰版猪年生肖-120*65    19667.19   \n",
       "1       4629.00   可优比旗舰店  KUB可优比-艾迪斯婴儿床-新款白马FD826-120*65    31336.53   \n",
       "2      14169.63   可优比旗舰店                    KUB可优比-干湿棉柔巾     3886.39   \n",
       "3      15846.00    蒂爱旗舰店                   蒂爱-宝宝折叠浴盆-蓝紫色     7784.83   \n",
       "4       4757.90   可优比旗舰店            KUB可优比-铂金装加厚柔湿巾12包/箱      464.54   \n",
       "\n",
       "   GoodsCount_y      returnCost  \n",
       "0          23.0  11826.60000000  \n",
       "1          37.0  19025.40000000  \n",
       "2         419.0   1981.03200000  \n",
       "3          41.0   3690.00000000  \n",
       "4           3.0    259.20000000  "
      ]
     },
     "execution_count": 18,
     "metadata": {},
     "output_type": "execute_result"
    }
   ],
   "source": [
    "data_merge.head()"
   ]
  },
  {
   "cell_type": "code",
   "execution_count": 19,
   "metadata": {},
   "outputs": [],
   "source": [
    "del data_merge['GoodsName_y']"
   ]
  },
  {
   "cell_type": "code",
   "execution_count": 20,
   "metadata": {},
   "outputs": [],
   "source": [
    "#获取商品小组对应情况\n",
    "GoodsInfo =pd.read_csv('C:\\\\Users\\\\Administrator\\\\PycharmProjects\\\\test\\\\goodsinfo0305.csv',header = 0,engine='python')\n",
    "GoodsInfo.columns=['GoodsNO','GoodsName','barCode','Company','Dept','TmallTax','GroupName','Holder','GradeTwo','GradeThird','GradeForth','SPU']"
   ]
  },
  {
   "cell_type": "code",
   "execution_count": 21,
   "metadata": {},
   "outputs": [],
   "source": [
    "#删除重复以及不必要列\n",
    "GoodsInfoShort=GoodsInfo[['GoodsNO','Company','Dept','GroupName','TmallTax','Holder','GradeTwo','GradeThird','GradeForth','SPU']]"
   ]
  },
  {
   "cell_type": "code",
   "execution_count": 22,
   "metadata": {},
   "outputs": [
    {
     "data": {
      "text/plain": [
       "(17337, 10)"
      ]
     },
     "execution_count": 22,
     "metadata": {},
     "output_type": "execute_result"
    }
   ],
   "source": [
    "GoodsInfoShort.shape"
   ]
  },
  {
   "cell_type": "code",
   "execution_count": 23,
   "metadata": {},
   "outputs": [],
   "source": [
    "#以SKU编码为唯一辨识，去重\n",
    "GoodsInfoShort=GoodsInfoShort.drop_duplicates([\"GoodsNO\"])"
   ]
  },
  {
   "cell_type": "code",
   "execution_count": 24,
   "metadata": {},
   "outputs": [
    {
     "data": {
      "text/plain": [
       "(17203, 10)"
      ]
     },
     "execution_count": 24,
     "metadata": {},
     "output_type": "execute_result"
    }
   ],
   "source": [
    "GoodsInfoShort.shape"
   ]
  },
  {
   "cell_type": "code",
   "execution_count": 25,
   "metadata": {},
   "outputs": [
    {
     "data": {
      "text/html": [
       "<div>\n",
       "<style scoped>\n",
       "    .dataframe tbody tr th:only-of-type {\n",
       "        vertical-align: middle;\n",
       "    }\n",
       "\n",
       "    .dataframe tbody tr th {\n",
       "        vertical-align: top;\n",
       "    }\n",
       "\n",
       "    .dataframe thead th {\n",
       "        text-align: right;\n",
       "    }\n",
       "</style>\n",
       "<table border=\"1\" class=\"dataframe\">\n",
       "  <thead>\n",
       "    <tr style=\"text-align: right;\">\n",
       "      <th></th>\n",
       "      <th>GoodsNO</th>\n",
       "      <th>Company</th>\n",
       "      <th>Dept</th>\n",
       "      <th>GroupName</th>\n",
       "      <th>TmallTax</th>\n",
       "      <th>Holder</th>\n",
       "      <th>GradeTwo</th>\n",
       "      <th>GradeThird</th>\n",
       "      <th>GradeForth</th>\n",
       "      <th>SPU</th>\n",
       "    </tr>\n",
       "  </thead>\n",
       "  <tbody>\n",
       "    <tr>\n",
       "      <th>0</th>\n",
       "      <td>K04855901</td>\n",
       "      <td>可优比母婴用品有限公司</td>\n",
       "      <td>KUB穿戴</td>\n",
       "      <td>礼盒配饰组</td>\n",
       "      <td>0.05</td>\n",
       "      <td>谢涛涛</td>\n",
       "      <td>婴童配饰</td>\n",
       "      <td>婴童饰品</td>\n",
       "      <td>领结</td>\n",
       "      <td>K050231</td>\n",
       "    </tr>\n",
       "    <tr>\n",
       "      <th>1</th>\n",
       "      <td>K04855902</td>\n",
       "      <td>可优比母婴用品有限公司</td>\n",
       "      <td>KUB穿戴</td>\n",
       "      <td>礼盒配饰组</td>\n",
       "      <td>0.05</td>\n",
       "      <td>谢涛涛</td>\n",
       "      <td>婴童配饰</td>\n",
       "      <td>婴童饰品</td>\n",
       "      <td>领结</td>\n",
       "      <td>K050231</td>\n",
       "    </tr>\n",
       "    <tr>\n",
       "      <th>2</th>\n",
       "      <td>K04852202</td>\n",
       "      <td>可优比母婴用品有限公司</td>\n",
       "      <td>KUB穿戴</td>\n",
       "      <td>内服组</td>\n",
       "      <td>0.05</td>\n",
       "      <td>王江峰</td>\n",
       "      <td>婴童外衣</td>\n",
       "      <td>外套/夹克/大衣</td>\n",
       "      <td>其它外套</td>\n",
       "      <td>K050209</td>\n",
       "    </tr>\n",
       "    <tr>\n",
       "      <th>3</th>\n",
       "      <td>K04852201</td>\n",
       "      <td>可优比母婴用品有限公司</td>\n",
       "      <td>KUB穿戴</td>\n",
       "      <td>内服组</td>\n",
       "      <td>0.05</td>\n",
       "      <td>王江峰</td>\n",
       "      <td>婴童外衣</td>\n",
       "      <td>外套/夹克/大衣</td>\n",
       "      <td>其它外套</td>\n",
       "      <td>K050209</td>\n",
       "    </tr>\n",
       "    <tr>\n",
       "      <th>4</th>\n",
       "      <td>K04852205</td>\n",
       "      <td>可优比母婴用品有限公司</td>\n",
       "      <td>KUB穿戴</td>\n",
       "      <td>内服组</td>\n",
       "      <td>0.05</td>\n",
       "      <td>王江峰</td>\n",
       "      <td>婴童外衣</td>\n",
       "      <td>外套/夹克/大衣</td>\n",
       "      <td>其它外套</td>\n",
       "      <td>K050209</td>\n",
       "    </tr>\n",
       "  </tbody>\n",
       "</table>\n",
       "</div>"
      ],
      "text/plain": [
       "     GoodsNO      Company   Dept GroupName  TmallTax Holder GradeTwo  \\\n",
       "0  K04855901  可优比母婴用品有限公司  KUB穿戴     礼盒配饰组      0.05    谢涛涛     婴童配饰   \n",
       "1  K04855902  可优比母婴用品有限公司  KUB穿戴     礼盒配饰组      0.05    谢涛涛     婴童配饰   \n",
       "2  K04852202  可优比母婴用品有限公司  KUB穿戴       内服组      0.05    王江峰     婴童外衣   \n",
       "3  K04852201  可优比母婴用品有限公司  KUB穿戴       内服组      0.05    王江峰     婴童外衣   \n",
       "4  K04852205  可优比母婴用品有限公司  KUB穿戴       内服组      0.05    王江峰     婴童外衣   \n",
       "\n",
       "  GradeThird GradeForth      SPU  \n",
       "0       婴童饰品         领结  K050231  \n",
       "1       婴童饰品         领结  K050231  \n",
       "2   外套/夹克/大衣       其它外套  K050209  \n",
       "3   外套/夹克/大衣       其它外套  K050209  \n",
       "4   外套/夹克/大衣       其它外套  K050209  "
      ]
     },
     "execution_count": 25,
     "metadata": {},
     "output_type": "execute_result"
    }
   ],
   "source": [
    "GoodsInfoShort.head()"
   ]
  },
  {
   "cell_type": "code",
   "execution_count": 26,
   "metadata": {},
   "outputs": [],
   "source": [
    "#匹配销售数据和对应小组信息\n",
    "data_merge_dept=pd.merge(data_merge,GoodsInfoShort,on=['GoodsNO'],how='left')"
   ]
  },
  {
   "cell_type": "code",
   "execution_count": 27,
   "metadata": {},
   "outputs": [],
   "source": [
    "# data_merge_dept = pd.read_csv('C:\\\\Users\\\\Administrator\\\\Desktop\\\\sell_return_dept.csv')"
   ]
  },
  {
   "cell_type": "code",
   "execution_count": 28,
   "metadata": {
    "scrolled": true
   },
   "outputs": [
    {
     "data": {
      "text/html": [
       "<div>\n",
       "<style scoped>\n",
       "    .dataframe tbody tr th:only-of-type {\n",
       "        vertical-align: middle;\n",
       "    }\n",
       "\n",
       "    .dataframe tbody tr th {\n",
       "        vertical-align: top;\n",
       "    }\n",
       "\n",
       "    .dataframe thead th {\n",
       "        text-align: right;\n",
       "    }\n",
       "</style>\n",
       "<table border=\"1\" class=\"dataframe\">\n",
       "  <thead>\n",
       "    <tr style=\"text-align: right;\">\n",
       "      <th></th>\n",
       "      <th>Date</th>\n",
       "      <th>GoodsNO</th>\n",
       "      <th>BarCode</th>\n",
       "      <th>GoodsName_x</th>\n",
       "      <th>GoodsCount_x</th>\n",
       "      <th>Income</th>\n",
       "      <th>Cost</th>\n",
       "      <th>FavourableTotal</th>\n",
       "      <th>Postage</th>\n",
       "      <th>PostageTotal</th>\n",
       "      <th>...</th>\n",
       "      <th>returnCost</th>\n",
       "      <th>Company</th>\n",
       "      <th>Dept</th>\n",
       "      <th>GroupName</th>\n",
       "      <th>TmallTax</th>\n",
       "      <th>Holder</th>\n",
       "      <th>GradeTwo</th>\n",
       "      <th>GradeThird</th>\n",
       "      <th>GradeForth</th>\n",
       "      <th>SPU</th>\n",
       "    </tr>\n",
       "  </thead>\n",
       "  <tbody>\n",
       "    <tr>\n",
       "      <th>0</th>\n",
       "      <td>2019-03</td>\n",
       "      <td>K04865301</td>\n",
       "      <td>6971971889076</td>\n",
       "      <td>KUB可优比-艾迪斯婴儿床-旗舰版猪年生肖-120*65</td>\n",
       "      <td>1592.0</td>\n",
       "      <td>1420067.80</td>\n",
       "      <td>818606.40</td>\n",
       "      <td>173332.92</td>\n",
       "      <td>0.00</td>\n",
       "      <td>7469.00</td>\n",
       "      <td>...</td>\n",
       "      <td>11826.60000000</td>\n",
       "      <td>可优比母婴用品有限公司</td>\n",
       "      <td>KUB睡眠</td>\n",
       "      <td>睡床小组</td>\n",
       "      <td>0.05</td>\n",
       "      <td>林嘉欣</td>\n",
       "      <td>婴童卧室家具</td>\n",
       "      <td>婴童床</td>\n",
       "      <td>实木床</td>\n",
       "      <td>SL8511</td>\n",
       "    </tr>\n",
       "    <tr>\n",
       "      <th>1</th>\n",
       "      <td>2019-03</td>\n",
       "      <td>C.TC.01.01.000059</td>\n",
       "      <td>6925125592633</td>\n",
       "      <td>KUB可优比-艾迪斯婴儿床-新款白马FD826-120*65</td>\n",
       "      <td>1547.0</td>\n",
       "      <td>1370466.85</td>\n",
       "      <td>795467.40</td>\n",
       "      <td>164401.71</td>\n",
       "      <td>0.00</td>\n",
       "      <td>2516.00</td>\n",
       "      <td>...</td>\n",
       "      <td>19025.40000000</td>\n",
       "      <td>可优比母婴用品有限公司</td>\n",
       "      <td>KUB睡眠</td>\n",
       "      <td>睡床小组</td>\n",
       "      <td>0.05</td>\n",
       "      <td>林嘉欣</td>\n",
       "      <td>婴童卧室家具</td>\n",
       "      <td>婴童床</td>\n",
       "      <td>实木床</td>\n",
       "      <td>SL8512</td>\n",
       "    </tr>\n",
       "    <tr>\n",
       "      <th>2</th>\n",
       "      <td>2019-03</td>\n",
       "      <td>C.XH.13.01.000008</td>\n",
       "      <td>6925125569666</td>\n",
       "      <td>KUB可优比-干湿棉柔巾</td>\n",
       "      <td>59503.0</td>\n",
       "      <td>601105.03</td>\n",
       "      <td>281330.18</td>\n",
       "      <td>130561.43</td>\n",
       "      <td>4657.27</td>\n",
       "      <td>254.67</td>\n",
       "      <td>...</td>\n",
       "      <td>1981.03200000</td>\n",
       "      <td>可优比母婴用品有限公司</td>\n",
       "      <td>KUB用品</td>\n",
       "      <td>大快消</td>\n",
       "      <td>0.02</td>\n",
       "      <td>王琳玉</td>\n",
       "      <td>快消类</td>\n",
       "      <td>干湿巾类</td>\n",
       "      <td>手口专用巾</td>\n",
       "      <td>YP047</td>\n",
       "    </tr>\n",
       "    <tr>\n",
       "      <th>3</th>\n",
       "      <td>2019-03</td>\n",
       "      <td>D04838303</td>\n",
       "      <td>6971235895195</td>\n",
       "      <td>蒂爱-宝宝折叠浴盆-蓝紫色</td>\n",
       "      <td>5298.0</td>\n",
       "      <td>1014437.41</td>\n",
       "      <td>476820.00</td>\n",
       "      <td>105684.61</td>\n",
       "      <td>43.60</td>\n",
       "      <td>60.00</td>\n",
       "      <td>...</td>\n",
       "      <td>3690.00000000</td>\n",
       "      <td>杭州蒂爱母婴用品有限公司</td>\n",
       "      <td>蒂爱洗护</td>\n",
       "      <td>NaN</td>\n",
       "      <td>0.02</td>\n",
       "      <td>NaN</td>\n",
       "      <td>NaN</td>\n",
       "      <td>NaN</td>\n",
       "      <td>NaN</td>\n",
       "      <td>NaN</td>\n",
       "    </tr>\n",
       "    <tr>\n",
       "      <th>4</th>\n",
       "      <td>2019-03</td>\n",
       "      <td>C.XH.12.01.000018</td>\n",
       "      <td>6925125595610</td>\n",
       "      <td>KUB可优比-铂金装加厚柔湿巾12包/箱</td>\n",
       "      <td>1591.0</td>\n",
       "      <td>301102.00</td>\n",
       "      <td>137462.40</td>\n",
       "      <td>104616.60</td>\n",
       "      <td>12765.60</td>\n",
       "      <td>0.00</td>\n",
       "      <td>...</td>\n",
       "      <td>259.20000000</td>\n",
       "      <td>可优比母婴用品有限公司</td>\n",
       "      <td>KUB用品</td>\n",
       "      <td>大快消</td>\n",
       "      <td>0.02</td>\n",
       "      <td>王琳玉</td>\n",
       "      <td>快消类</td>\n",
       "      <td>干湿巾类</td>\n",
       "      <td>手口专用巾</td>\n",
       "      <td>YP</td>\n",
       "    </tr>\n",
       "  </tbody>\n",
       "</table>\n",
       "<p>5 rows × 24 columns</p>\n",
       "</div>"
      ],
      "text/plain": [
       "      Date            GoodsNO        BarCode                     GoodsName_x  \\\n",
       "0  2019-03          K04865301  6971971889076    KUB可优比-艾迪斯婴儿床-旗舰版猪年生肖-120*65   \n",
       "1  2019-03  C.TC.01.01.000059  6925125592633  KUB可优比-艾迪斯婴儿床-新款白马FD826-120*65   \n",
       "2  2019-03  C.XH.13.01.000008  6925125569666                    KUB可优比-干湿棉柔巾   \n",
       "3  2019-03          D04838303  6971235895195                   蒂爱-宝宝折叠浴盆-蓝紫色   \n",
       "4  2019-03  C.XH.12.01.000018  6925125595610            KUB可优比-铂金装加厚柔湿巾12包/箱   \n",
       "\n",
       "  GoodsCount_x      Income       Cost FavourableTotal   Postage PostageTotal  \\\n",
       "0       1592.0  1420067.80  818606.40       173332.92      0.00      7469.00   \n",
       "1       1547.0  1370466.85  795467.40       164401.71      0.00      2516.00   \n",
       "2      59503.0   601105.03  281330.18       130561.43   4657.27       254.67   \n",
       "3       5298.0  1014437.41  476820.00       105684.61     43.60        60.00   \n",
       "4       1591.0   301102.00  137462.40       104616.60  12765.60         0.00   \n",
       "\n",
       "    ...        returnCost       Company   Dept  GroupName TmallTax Holder  \\\n",
       "0   ...    11826.60000000   可优比母婴用品有限公司  KUB睡眠       睡床小组     0.05    林嘉欣   \n",
       "1   ...    19025.40000000   可优比母婴用品有限公司  KUB睡眠       睡床小组     0.05    林嘉欣   \n",
       "2   ...     1981.03200000   可优比母婴用品有限公司  KUB用品        大快消     0.02    王琳玉   \n",
       "3   ...     3690.00000000  杭州蒂爱母婴用品有限公司   蒂爱洗护        NaN     0.02    NaN   \n",
       "4   ...      259.20000000   可优比母婴用品有限公司  KUB用品        大快消     0.02    王琳玉   \n",
       "\n",
       "  GradeTwo GradeThird  GradeForth     SPU  \n",
       "0   婴童卧室家具        婴童床         实木床  SL8511  \n",
       "1   婴童卧室家具        婴童床         实木床  SL8512  \n",
       "2      快消类       干湿巾类       手口专用巾   YP047  \n",
       "3      NaN        NaN         NaN     NaN  \n",
       "4      快消类       干湿巾类       手口专用巾      YP  \n",
       "\n",
       "[5 rows x 24 columns]"
      ]
     },
     "execution_count": 28,
     "metadata": {},
     "output_type": "execute_result"
    }
   ],
   "source": [
    "data_merge_dept.head()"
   ]
  },
  {
   "cell_type": "code",
   "execution_count": 29,
   "metadata": {},
   "outputs": [
    {
     "data": {
      "text/plain": [
       "Index(['Date', 'GoodsNO', 'BarCode', 'GoodsName_x', 'GoodsCount_x', 'Income',\n",
       "       'Cost', 'FavourableTotal', 'Postage', 'PostageTotal', 'OperationCost',\n",
       "       'shopname', 'ReturnTotal', 'GoodsCount_y', 'returnCost', 'Company',\n",
       "       'Dept', 'GroupName', 'TmallTax', 'Holder', 'GradeTwo', 'GradeThird',\n",
       "       'GradeForth', 'SPU'],\n",
       "      dtype='object')"
      ]
     },
     "execution_count": 29,
     "metadata": {},
     "output_type": "execute_result"
    }
   ],
   "source": [
    "data_merge_dept.columns"
   ]
  },
  {
   "cell_type": "code",
   "execution_count": 30,
   "metadata": {},
   "outputs": [],
   "source": [
    "# kub=pd.read_csv('C:\\\\Users\\\\Administrator\\\\Desktop\\\\商品SKU事业部\\\\0124\\\\kub0125.csv',engine='python')\n",
    "# kub=kub[['GoodsNO','Dept','GroupName']]\n",
    "# kub=kub.drop_duplicates([\"GoodsNO\"])\n",
    "# kub.columns=['SKU','Dept','GroupName']\n",
    "# data_merge_dept_gp=pd.merge(data_merge_dept,kub,on=['SKU'],how='left')\n",
    "# data_merge_dept_gp.to_excel('data_group_new0125.xlsx',header=True,index=False)"
   ]
  },
  {
   "cell_type": "code",
   "execution_count": 31,
   "metadata": {},
   "outputs": [],
   "source": [
    "#修改合并后的列名\n",
    "data_merge_dept.columns=['Date', 'SKU', 'BarCode', 'Name', 'SellCount', 'SellIncome',\n",
    "       'SellCost', 'FavourableTotal', 'Postage', 'PostageTotal', 'OperationCost','ShopName',\n",
    "       'ReturnTotal', 'ReturnCount', 'ReturnCost', 'Company', 'Dept',\n",
    "       'GroupName','TmallTax','Holder','GradeTwo','GradeThird','GradeForth','SPU']"
   ]
  },
  {
   "cell_type": "code",
   "execution_count": 32,
   "metadata": {
    "scrolled": true
   },
   "outputs": [
    {
     "data": {
      "text/html": [
       "<div>\n",
       "<style scoped>\n",
       "    .dataframe tbody tr th:only-of-type {\n",
       "        vertical-align: middle;\n",
       "    }\n",
       "\n",
       "    .dataframe tbody tr th {\n",
       "        vertical-align: top;\n",
       "    }\n",
       "\n",
       "    .dataframe thead th {\n",
       "        text-align: right;\n",
       "    }\n",
       "</style>\n",
       "<table border=\"1\" class=\"dataframe\">\n",
       "  <thead>\n",
       "    <tr style=\"text-align: right;\">\n",
       "      <th></th>\n",
       "      <th>Date</th>\n",
       "      <th>SKU</th>\n",
       "      <th>BarCode</th>\n",
       "      <th>Name</th>\n",
       "      <th>SellCount</th>\n",
       "      <th>SellIncome</th>\n",
       "      <th>SellCost</th>\n",
       "      <th>FavourableTotal</th>\n",
       "      <th>Postage</th>\n",
       "      <th>PostageTotal</th>\n",
       "      <th>...</th>\n",
       "      <th>ReturnCost</th>\n",
       "      <th>Company</th>\n",
       "      <th>Dept</th>\n",
       "      <th>GroupName</th>\n",
       "      <th>TmallTax</th>\n",
       "      <th>Holder</th>\n",
       "      <th>GradeTwo</th>\n",
       "      <th>GradeThird</th>\n",
       "      <th>GradeForth</th>\n",
       "      <th>SPU</th>\n",
       "    </tr>\n",
       "  </thead>\n",
       "  <tbody>\n",
       "    <tr>\n",
       "      <th>0</th>\n",
       "      <td>2019-03</td>\n",
       "      <td>K04865301</td>\n",
       "      <td>6971971889076</td>\n",
       "      <td>KUB可优比-艾迪斯婴儿床-旗舰版猪年生肖-120*65</td>\n",
       "      <td>1592.0</td>\n",
       "      <td>1420067.80</td>\n",
       "      <td>818606.40</td>\n",
       "      <td>173332.92</td>\n",
       "      <td>0.00</td>\n",
       "      <td>7469.00</td>\n",
       "      <td>...</td>\n",
       "      <td>11826.60000000</td>\n",
       "      <td>可优比母婴用品有限公司</td>\n",
       "      <td>KUB睡眠</td>\n",
       "      <td>睡床小组</td>\n",
       "      <td>0.05</td>\n",
       "      <td>林嘉欣</td>\n",
       "      <td>婴童卧室家具</td>\n",
       "      <td>婴童床</td>\n",
       "      <td>实木床</td>\n",
       "      <td>SL8511</td>\n",
       "    </tr>\n",
       "    <tr>\n",
       "      <th>1</th>\n",
       "      <td>2019-03</td>\n",
       "      <td>C.TC.01.01.000059</td>\n",
       "      <td>6925125592633</td>\n",
       "      <td>KUB可优比-艾迪斯婴儿床-新款白马FD826-120*65</td>\n",
       "      <td>1547.0</td>\n",
       "      <td>1370466.85</td>\n",
       "      <td>795467.40</td>\n",
       "      <td>164401.71</td>\n",
       "      <td>0.00</td>\n",
       "      <td>2516.00</td>\n",
       "      <td>...</td>\n",
       "      <td>19025.40000000</td>\n",
       "      <td>可优比母婴用品有限公司</td>\n",
       "      <td>KUB睡眠</td>\n",
       "      <td>睡床小组</td>\n",
       "      <td>0.05</td>\n",
       "      <td>林嘉欣</td>\n",
       "      <td>婴童卧室家具</td>\n",
       "      <td>婴童床</td>\n",
       "      <td>实木床</td>\n",
       "      <td>SL8512</td>\n",
       "    </tr>\n",
       "    <tr>\n",
       "      <th>2</th>\n",
       "      <td>2019-03</td>\n",
       "      <td>C.XH.13.01.000008</td>\n",
       "      <td>6925125569666</td>\n",
       "      <td>KUB可优比-干湿棉柔巾</td>\n",
       "      <td>59503.0</td>\n",
       "      <td>601105.03</td>\n",
       "      <td>281330.18</td>\n",
       "      <td>130561.43</td>\n",
       "      <td>4657.27</td>\n",
       "      <td>254.67</td>\n",
       "      <td>...</td>\n",
       "      <td>1981.03200000</td>\n",
       "      <td>可优比母婴用品有限公司</td>\n",
       "      <td>KUB用品</td>\n",
       "      <td>大快消</td>\n",
       "      <td>0.02</td>\n",
       "      <td>王琳玉</td>\n",
       "      <td>快消类</td>\n",
       "      <td>干湿巾类</td>\n",
       "      <td>手口专用巾</td>\n",
       "      <td>YP047</td>\n",
       "    </tr>\n",
       "    <tr>\n",
       "      <th>3</th>\n",
       "      <td>2019-03</td>\n",
       "      <td>D04838303</td>\n",
       "      <td>6971235895195</td>\n",
       "      <td>蒂爱-宝宝折叠浴盆-蓝紫色</td>\n",
       "      <td>5298.0</td>\n",
       "      <td>1014437.41</td>\n",
       "      <td>476820.00</td>\n",
       "      <td>105684.61</td>\n",
       "      <td>43.60</td>\n",
       "      <td>60.00</td>\n",
       "      <td>...</td>\n",
       "      <td>3690.00000000</td>\n",
       "      <td>杭州蒂爱母婴用品有限公司</td>\n",
       "      <td>蒂爱洗护</td>\n",
       "      <td>NaN</td>\n",
       "      <td>0.02</td>\n",
       "      <td>NaN</td>\n",
       "      <td>NaN</td>\n",
       "      <td>NaN</td>\n",
       "      <td>NaN</td>\n",
       "      <td>NaN</td>\n",
       "    </tr>\n",
       "    <tr>\n",
       "      <th>4</th>\n",
       "      <td>2019-03</td>\n",
       "      <td>C.XH.12.01.000018</td>\n",
       "      <td>6925125595610</td>\n",
       "      <td>KUB可优比-铂金装加厚柔湿巾12包/箱</td>\n",
       "      <td>1591.0</td>\n",
       "      <td>301102.00</td>\n",
       "      <td>137462.40</td>\n",
       "      <td>104616.60</td>\n",
       "      <td>12765.60</td>\n",
       "      <td>0.00</td>\n",
       "      <td>...</td>\n",
       "      <td>259.20000000</td>\n",
       "      <td>可优比母婴用品有限公司</td>\n",
       "      <td>KUB用品</td>\n",
       "      <td>大快消</td>\n",
       "      <td>0.02</td>\n",
       "      <td>王琳玉</td>\n",
       "      <td>快消类</td>\n",
       "      <td>干湿巾类</td>\n",
       "      <td>手口专用巾</td>\n",
       "      <td>YP</td>\n",
       "    </tr>\n",
       "  </tbody>\n",
       "</table>\n",
       "<p>5 rows × 24 columns</p>\n",
       "</div>"
      ],
      "text/plain": [
       "      Date                SKU        BarCode                            Name  \\\n",
       "0  2019-03          K04865301  6971971889076    KUB可优比-艾迪斯婴儿床-旗舰版猪年生肖-120*65   \n",
       "1  2019-03  C.TC.01.01.000059  6925125592633  KUB可优比-艾迪斯婴儿床-新款白马FD826-120*65   \n",
       "2  2019-03  C.XH.13.01.000008  6925125569666                    KUB可优比-干湿棉柔巾   \n",
       "3  2019-03          D04838303  6971235895195                   蒂爱-宝宝折叠浴盆-蓝紫色   \n",
       "4  2019-03  C.XH.12.01.000018  6925125595610            KUB可优比-铂金装加厚柔湿巾12包/箱   \n",
       "\n",
       "  SellCount  SellIncome   SellCost FavourableTotal   Postage PostageTotal  \\\n",
       "0    1592.0  1420067.80  818606.40       173332.92      0.00      7469.00   \n",
       "1    1547.0  1370466.85  795467.40       164401.71      0.00      2516.00   \n",
       "2   59503.0   601105.03  281330.18       130561.43   4657.27       254.67   \n",
       "3    5298.0  1014437.41  476820.00       105684.61     43.60        60.00   \n",
       "4    1591.0   301102.00  137462.40       104616.60  12765.60         0.00   \n",
       "\n",
       "    ...        ReturnCost       Company   Dept  GroupName TmallTax Holder  \\\n",
       "0   ...    11826.60000000   可优比母婴用品有限公司  KUB睡眠       睡床小组     0.05    林嘉欣   \n",
       "1   ...    19025.40000000   可优比母婴用品有限公司  KUB睡眠       睡床小组     0.05    林嘉欣   \n",
       "2   ...     1981.03200000   可优比母婴用品有限公司  KUB用品        大快消     0.02    王琳玉   \n",
       "3   ...     3690.00000000  杭州蒂爱母婴用品有限公司   蒂爱洗护        NaN     0.02    NaN   \n",
       "4   ...      259.20000000   可优比母婴用品有限公司  KUB用品        大快消     0.02    王琳玉   \n",
       "\n",
       "  GradeTwo GradeThird  GradeForth     SPU  \n",
       "0   婴童卧室家具        婴童床         实木床  SL8511  \n",
       "1   婴童卧室家具        婴童床         实木床  SL8512  \n",
       "2      快消类       干湿巾类       手口专用巾   YP047  \n",
       "3      NaN        NaN         NaN     NaN  \n",
       "4      快消类       干湿巾类       手口专用巾      YP  \n",
       "\n",
       "[5 rows x 24 columns]"
      ]
     },
     "execution_count": 32,
     "metadata": {},
     "output_type": "execute_result"
    }
   ],
   "source": [
    "data_merge_dept.head()"
   ]
  },
  {
   "cell_type": "code",
   "execution_count": 33,
   "metadata": {},
   "outputs": [],
   "source": [
    "shopname={'贝豪婴童专营店':'天猫商城',\n",
    "'欣懿宝贝-米歌':'天猫商城',\n",
    "'可优比旗舰店':'天猫商城',\n",
    "'蒂爱旗舰店':'天猫商城',\n",
    "'贝豪拼多多':'拼多多',\n",
    "'麦可适旗舰店':'天猫商城',\n",
    "'可优比（杭州来福士）':'线下',\n",
    "'唯品会（蒂爱）':'唯品会',\n",
    "'美易仓库':'美易仓库',\n",
    "'京东可优比母婴旗舰店':'京东商城',\n",
    "'可优比海外自营店':'海外店',\n",
    "'可优比天猫超市':'天猫超市',\n",
    "'唯品会（可优比）':'唯品会',\n",
    "'唯品会MP（蒂爱）':'唯品会',\n",
    "'优趣玩具专营店':'天猫商城',\n",
    "'可优比母婴生活馆':'有赞',\n",
    "'贝豪贝店商城':'贝贝网',\n",
    "'可优比团购店铺':'团购',\n",
    "'蒂爱团购店铺':'团购',\n",
    "'京东蒂爱母婴旗舰店':'京东商城'}"
   ]
  },
  {
   "cell_type": "code",
   "execution_count": 34,
   "metadata": {},
   "outputs": [],
   "source": [
    "data_merge_dept['Source']=data_merge_dept['ShopName'].map(shopname)"
   ]
  },
  {
   "cell_type": "code",
   "execution_count": 35,
   "metadata": {},
   "outputs": [],
   "source": [
    "#data_merge_dept['Postage']=0"
   ]
  },
  {
   "cell_type": "code",
   "execution_count": 36,
   "metadata": {},
   "outputs": [],
   "source": [
    "data_merge_dept['GroupName']=data_merge_dept['GroupName'].fillna('#N/A')"
   ]
  },
  {
   "cell_type": "code",
   "execution_count": 37,
   "metadata": {},
   "outputs": [],
   "source": [
    "data_merge_dept=data_merge_dept.drop_duplicates([\"SKU\",\"ShopName\"])"
   ]
  },
  {
   "cell_type": "code",
   "execution_count": 38,
   "metadata": {},
   "outputs": [],
   "source": [
    "data_merge_dept.to_csv(\"data_merge_dept.csv\",header=True,index=False)\n",
    "data_merge_dept.to_excel(\"data_merge_dept.xlsx\",header=True,index=False)"
   ]
  },
  {
   "cell_type": "code",
   "execution_count": null,
   "metadata": {},
   "outputs": [],
   "source": [
    "department_gross_profit = pd.DataFrame()\n",
    "department_gross_profit = pd.concat([department_gross_profit,data_merge_dept])"
   ]
  },
  {
   "cell_type": "code",
   "execution_count": null,
   "metadata": {},
   "outputs": [],
   "source": [
    "#查看缺失值情况\n",
    "department_gross_profit=department_gross_profit.fillna(np.nan)\n",
    "department_gross_profit.isnull().sum()"
   ]
  },
  {
   "cell_type": "code",
   "execution_count": null,
   "metadata": {},
   "outputs": [],
   "source": [
    "department_gross_profit.head()"
   ]
  },
  {
   "cell_type": "code",
   "execution_count": null,
   "metadata": {},
   "outputs": [],
   "source": [
    "department_gross_profit[['SellCount', 'SellIncome',\n",
    "       'SellCost', 'FavourableTotal', 'Postage', 'PostageTotal', 'OperationCost',\n",
    "       'ReturnTotal', 'ReturnCount', 'ReturnCost','TmallTax']] = department_gross_profit[['SellCount', 'SellIncome',\n",
    "       'SellCost', 'FavourableTotal', 'Postage', 'PostageTotal', 'OperationCost',\n",
    "       'ReturnTotal', 'ReturnCount', 'ReturnCost','TmallTax']].astype(float)"
   ]
  },
  {
   "cell_type": "code",
   "execution_count": null,
   "metadata": {},
   "outputs": [],
   "source": [
    "department_gross_profit.head()"
   ]
  },
  {
   "cell_type": "code",
   "execution_count": null,
   "metadata": {},
   "outputs": [],
   "source": [
    "#填充缺失值为0\n",
    "department_gross_profit[['ReturnTotal', 'ReturnCount', 'ReturnCost','TmallTax']]=department_gross_profit\\\n",
    "[['ReturnTotal', 'ReturnCount', 'ReturnCost','TmallTax']].fillna(0)\n",
    "\n",
    "#填充缺失小组为#N/A\n",
    "department_gross_profit['GroupName']=department_gross_profit\\\n",
    "['GroupName'].fillna('#N/A')"
   ]
  },
  {
   "cell_type": "code",
   "execution_count": null,
   "metadata": {},
   "outputs": [],
   "source": [
    "department_gross_profit['CheckIncome'] = department_gross_profit['SellIncome']-department_gross_profit['FavourableTotal']\\\n",
    "                                        +department_gross_profit['PostageTotal']-department_gross_profit['ReturnTotal']\n",
    "department_gross_profit['CheckCost'] = department_gross_profit['SellCost']-department_gross_profit['ReturnCost']\n",
    "department_gross_profit['TmallCharge'] = (department_gross_profit['SellIncome']-department_gross_profit['FavourableTotal']-\\\n",
    "                                        department_gross_profit['ReturnTotal'])*department_gross_profit['TmallTax']"
   ]
  },
  {
   "cell_type": "code",
   "execution_count": null,
   "metadata": {},
   "outputs": [],
   "source": [
    "#按公司，部门，日期进行归类\n",
    "department_gross_profit_gb=department_gross_profit.groupby(['Company','Dept','Date','Source','ShopName'],as_index=False)"
   ]
  },
  {
   "cell_type": "code",
   "execution_count": null,
   "metadata": {},
   "outputs": [],
   "source": [
    "#归类汇总\n",
    "department_gross_profit_gb = department_gross_profit_gb.aggregate(np.sum)\n",
    "del department_gross_profit_gb['TmallTax']"
   ]
  },
  {
   "cell_type": "code",
   "execution_count": null,
   "metadata": {},
   "outputs": [],
   "source": [
    "#计算营业税，毛利润，毛利率\n",
    "department_gross_profit_gb['Tax']=department_gross_profit_gb['CheckIncome']*0.06\n",
    "department_gross_profit_gb['GrossProfit']=department_gross_profit_gb['CheckIncome']-department_gross_profit_gb['CheckCost']-\\\n",
    "                                            department_gross_profit_gb['CheckIncome']*0.06-department_gross_profit_gb['TmallCharge']-\\\n",
    "                                            department_gross_profit_gb['Postage']-department_gross_profit_gb['OperationCost']\n",
    "department_gross_profit_gb['GrossProfitRate']=department_gross_profit_gb['GrossProfit']/department_gross_profit_gb['SellIncome']"
   ]
  },
  {
   "cell_type": "code",
   "execution_count": null,
   "metadata": {
    "scrolled": false
   },
   "outputs": [],
   "source": [
    "department_gross_profit_gb=department_gross_profit_gb[(department_gross_profit_gb['Dept']!='KUB包材')&(department_gross_profit_gb['Dept']!='KUB赠品')\\\n",
    "                          &(department_gross_profit_gb['Dept']!='蒂爱共用')]"
   ]
  },
  {
   "cell_type": "code",
   "execution_count": null,
   "metadata": {
    "scrolled": false
   },
   "outputs": [],
   "source": [
    "department_gross_profit_gb.head()"
   ]
  },
  {
   "cell_type": "code",
   "execution_count": null,
   "metadata": {},
   "outputs": [],
   "source": [
    "department_gross_profit_gb.to_csv(\"department_gross_profit_gb.csv\",header=True,index=False)\n",
    "department_gross_profit_gb.to_excel(\"department_gross_profit_gb.xlsx\",header=True,index=False)"
   ]
  },
  {
   "cell_type": "code",
   "execution_count": null,
   "metadata": {},
   "outputs": [],
   "source": [
    "# data_merge1=department_gross_profit_gb.groupby(['Date'],as_index=False)\n",
    "# data_merge1=data_merge1.aggregate(np.sum)#出库总数\n",
    "# data_merge1.ReturnCount.sum()"
   ]
  },
  {
   "cell_type": "code",
   "execution_count": null,
   "metadata": {},
   "outputs": [],
   "source": [
    "#按公司、部门、小组已经日期进行归类\n",
    "department_gross_profit_gb_group=department_gross_profit.groupby(['Company','Dept','GroupName','Date','Source','ShopName'],as_index=False)"
   ]
  },
  {
   "cell_type": "code",
   "execution_count": null,
   "metadata": {},
   "outputs": [],
   "source": [
    "department_gross_profit_gb_group = department_gross_profit_gb_group.aggregate(np.sum)\n",
    "del department_gross_profit_gb_group['TmallTax']"
   ]
  },
  {
   "cell_type": "code",
   "execution_count": null,
   "metadata": {},
   "outputs": [],
   "source": [
    "department_gross_profit_gb_group.head()"
   ]
  },
  {
   "cell_type": "code",
   "execution_count": null,
   "metadata": {},
   "outputs": [],
   "source": [
    "department_gross_profit_gb_group['Tax']=department_gross_profit_gb_group['CheckIncome']*0.06\n",
    "department_gross_profit_gb_group['GrossProfit']=department_gross_profit_gb_group['CheckIncome']-department_gross_profit_gb_group['CheckCost']-\\\n",
    "                                            department_gross_profit_gb_group['CheckIncome']*0.06-department_gross_profit_gb_group['TmallCharge']-\\\n",
    "                                            department_gross_profit_gb_group['Postage']-department_gross_profit_gb_group['OperationCost']\n",
    "department_gross_profit_gb_group['GrossProfitRate']=department_gross_profit_gb_group['GrossProfit']/department_gross_profit_gb_group['SellIncome']"
   ]
  },
  {
   "cell_type": "code",
   "execution_count": null,
   "metadata": {},
   "outputs": [],
   "source": [
    "department_gross_profit_gb_group=department_gross_profit_gb_group[(department_gross_profit_gb_group['Dept']!='KUB包材')&(department_gross_profit_gb_group['Dept']!='KUB赠品')\\\n",
    "                          &(department_gross_profit_gb_group['Dept']!='蒂爱共用')]"
   ]
  },
  {
   "cell_type": "code",
   "execution_count": null,
   "metadata": {},
   "outputs": [],
   "source": [
    "department_gross_profit_gb_group.head()"
   ]
  },
  {
   "cell_type": "code",
   "execution_count": null,
   "metadata": {},
   "outputs": [],
   "source": [
    "department_gross_profit_gb_group.to_csv(\"department_gross_profit_gb_group.csv\",header=True,index=False)"
   ]
  },
  {
   "cell_type": "code",
   "execution_count": null,
   "metadata": {},
   "outputs": [],
   "source": []
  },
  {
   "cell_type": "code",
   "execution_count": null,
   "metadata": {},
   "outputs": [],
   "source": [
    "data_merge_dept_edit=pd.DataFrame()\n",
    "data_merge_dept_edit=pd.concat([data_merge_dept_edit,data_merge_dept])"
   ]
  },
  {
   "cell_type": "code",
   "execution_count": null,
   "metadata": {},
   "outputs": [],
   "source": [
    "data_merge_dept_edit.columns=['日期','SKU编码','条码','品名','销售数量','销售收入','货品成本','优惠金额','快递费',\\\n",
    "                        '应收邮资','操作费','店铺名称','退货金额','退货数量','退货货品成本','公司名称','事业部','小组','天猫扣点','负责人','二级类目','三级类目','四级类目','SPU','渠道']"
   ]
  },
  {
   "cell_type": "code",
   "execution_count": null,
   "metadata": {},
   "outputs": [],
   "source": [
    "data_merge_dept_edit.columns"
   ]
  },
  {
   "cell_type": "code",
   "execution_count": null,
   "metadata": {},
   "outputs": [],
   "source": [
    "#填充缺失值为0\n",
    "data_merge_dept_edit=data_merge_dept_edit.fillna(np.nan)\n",
    "data_merge_dept_edit.isnull().sum()"
   ]
  },
  {
   "cell_type": "code",
   "execution_count": null,
   "metadata": {},
   "outputs": [],
   "source": [
    "# data_merge_dept_edit[['操作费','退货金额','退货数量','退货货品成本']]=data_merge_dept_edit\\\n",
    "# [['操作费','退货金额','退货数量','退货货品成本']].fillna(0)"
   ]
  },
  {
   "cell_type": "code",
   "execution_count": null,
   "metadata": {},
   "outputs": [],
   "source": [
    "# data_merge_dept_edit.to_excel(\"20190131.xlsx\",header=True,index=False)\n",
    "data_merge_dept_edit.to_excel(\"data_merge_dept.xlsx\",header=True,index=False)"
   ]
  },
  {
   "cell_type": "code",
   "execution_count": null,
   "metadata": {},
   "outputs": [],
   "source": [
    "# data_merge_dept.columns=['Date', 'SKU', 'BarCode', 'Name', 'SellCount', 'SellIncome',\n",
    "#        'SellCost', 'FavourableTotal', 'Postage', 'PostageTotal', 'OperationCost',\n",
    "#        'ReturnTotal', 'ReturnCount', 'ReturnCost', 'Company', 'Dept',\n",
    "#        'Group']"
   ]
  },
  {
   "cell_type": "code",
   "execution_count": null,
   "metadata": {},
   "outputs": [],
   "source": [
    "# def merge(data_left,data_right,key):\n",
    "#     left=pd.read_csv(data_left,header = 0,dtype = object,engine='python',encoding='utf-8')\n",
    "#     right=pd.read_csv(data_right,header = 0,dtype = object,engine='python')\n",
    "#     right=right.drop_duplicates(key)\n",
    "#     data_merge=pd.merge(left,right,on=key,how='left')\n",
    "#     return data_merge"
   ]
  },
  {
   "cell_type": "code",
   "execution_count": null,
   "metadata": {
    "scrolled": true
   },
   "outputs": [],
   "source": [
    "# del data['BarCode_x']\n",
    "# data['BarCode']=data['BarCode_y']\n",
    "# data=data.drop('BarCode_y',axis=1)"
   ]
  }
 ],
 "metadata": {
  "kernelspec": {
   "display_name": "Python 3",
   "language": "python",
   "name": "python3"
  },
  "language_info": {
   "codemirror_mode": {
    "name": "ipython",
    "version": 3
   },
   "file_extension": ".py",
   "mimetype": "text/x-python",
   "name": "python",
   "nbconvert_exporter": "python",
   "pygments_lexer": "ipython3",
   "version": "3.6.4"
  }
 },
 "nbformat": 4,
 "nbformat_minor": 2
}
