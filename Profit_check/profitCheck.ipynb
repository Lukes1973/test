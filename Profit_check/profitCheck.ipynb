{
 "cells": [
  {
   "cell_type": "code",
   "execution_count": 4,
   "metadata": {},
   "outputs": [],
   "source": [
    "#导入相关的库\n",
    "import mysql.connector\n",
    "import pandas as pd\n",
    "import numpy as np\n",
    "from datetime import datetime,date,timedelta\n",
    "from dateutil.parser import parse"
   ]
  },
  {
   "cell_type": "code",
   "execution_count": 5,
   "metadata": {},
   "outputs": [],
   "source": [
    "#数据库连接初始化\n",
    "mydb = mysql.connector.connect(\n",
    "    host=\"rm-bp178mt2593im687xjo.mysql.rds.aliyuncs.com\",\n",
    "    user=\"root\",\n",
    "    passwd=\"KLxs8888\",\n",
    "    database=\"wdgj\"\n",
    ")\n",
    "print(mydb)"
   ]
  },
  {
   "cell_type": "code",
   "execution_count": 6,
   "metadata": {},
   "outputs": [
    {
     "name": "stdout",
     "output_type": "stream",
     "text": [
      "<mysql.connector.connection.MySQLConnection object at 0x0000000008EE4240>\n"
     ]
    }
   ],
   "source": [
    "# mydb = mysql.connector.connect(\n",
    "#     host=\"localhost\",\n",
    "#     user=\"root\",\n",
    "#     passwd=\"qaz!@wsx\",\n",
    "#     database=\"work\"\n",
    "# )\n",
    "# print(mydb)"
   ]
  },
  {
   "cell_type": "code",
   "execution_count": 7,
   "metadata": {},
   "outputs": [],
   "source": [
    "#定义SQL语句\n",
    "profitCheck='SELECT * FROM profit_check_sku1901'\n",
    "returnDetail ='SELECT * FROM return_sku1901'"
   ]
  },
  {
   "cell_type": "code",
   "execution_count": 8,
   "metadata": {},
   "outputs": [
    {
     "data": {
      "text/plain": [
       "True"
      ]
     },
     "execution_count": 8,
     "metadata": {},
     "output_type": "execute_result"
    }
   ],
   "source": [
    "#打开游标，获取数据\n",
    "mycursor=mydb.cursor()\n",
    "mycursor.execute(profitCheck)\n",
    "profitCheck1901=mycursor.fetchall()\n",
    "mycursor.close()"
   ]
  },
  {
   "cell_type": "code",
   "execution_count": 9,
   "metadata": {},
   "outputs": [
    {
     "data": {
      "text/plain": [
       "True"
      ]
     },
     "execution_count": 9,
     "metadata": {},
     "output_type": "execute_result"
    }
   ],
   "source": [
    "#打开游标，获取数据\n",
    "mycursor=mydb.cursor()\n",
    "mycursor.execute(returnDetail)\n",
    "returnSku1901=mycursor.fetchall()\n",
    "mycursor.close()"
   ]
  },
  {
   "cell_type": "code",
   "execution_count": 10,
   "metadata": {},
   "outputs": [],
   "source": [
    "#数据格式转化成为pandas\n",
    "profitCheck1901=pd.DataFrame(profitCheck1901)\n",
    "returnSku1901=pd.DataFrame(returnSku1901)"
   ]
  },
  {
   "cell_type": "code",
   "execution_count": 11,
   "metadata": {},
   "outputs": [],
   "source": [
    "#修改列名\n",
    "profitCheck1901.columns=['Date','GoodsNO','BarCode','GoodsName','GoodsCount','Income','Cost','FavourableTotal'\\\n",
    "                        ,'Postage','PostageTotal','OperationCost']\n",
    "returnSku1901.columns=['Date','GoodsNO','GoodsName','ReturnTotal','GoodsCount','returnCost']"
   ]
  },
  {
   "cell_type": "code",
   "execution_count": 12,
   "metadata": {},
   "outputs": [
    {
     "data": {
      "text/plain": [
       "30145.620000000003"
      ]
     },
     "execution_count": 12,
     "metadata": {},
     "output_type": "execute_result"
    }
   ],
   "source": [
    "returnSku1901[\"GoodsCount\"]=returnSku1901[\"GoodsCount\"].astype(float)\n",
    "result2=returnSku1901.groupby(['Date'],as_index=False)\n",
    "result2=result2.aggregate(np.sum)#出库总数\n",
    "result2.GoodsCount.sum()"
   ]
  },
  {
   "cell_type": "code",
   "execution_count": 13,
   "metadata": {},
   "outputs": [
    {
     "data": {
      "text/html": [
       "<div>\n",
       "<style scoped>\n",
       "    .dataframe tbody tr th:only-of-type {\n",
       "        vertical-align: middle;\n",
       "    }\n",
       "\n",
       "    .dataframe tbody tr th {\n",
       "        vertical-align: top;\n",
       "    }\n",
       "\n",
       "    .dataframe thead th {\n",
       "        text-align: right;\n",
       "    }\n",
       "</style>\n",
       "<table border=\"1\" class=\"dataframe\">\n",
       "  <thead>\n",
       "    <tr style=\"text-align: right;\">\n",
       "      <th></th>\n",
       "      <th>Date</th>\n",
       "      <th>GoodsNO</th>\n",
       "      <th>BarCode</th>\n",
       "      <th>GoodsName</th>\n",
       "      <th>GoodsCount</th>\n",
       "      <th>Income</th>\n",
       "      <th>Cost</th>\n",
       "      <th>FavourableTotal</th>\n",
       "      <th>Postage</th>\n",
       "      <th>PostageTotal</th>\n",
       "      <th>OperationCost</th>\n",
       "    </tr>\n",
       "  </thead>\n",
       "  <tbody>\n",
       "    <tr>\n",
       "      <th>0</th>\n",
       "      <td>2019-01</td>\n",
       "      <td>C.WB.02.01.000052</td>\n",
       "      <td>6925125561387</td>\n",
       "      <td>KUB可优比-儿童保温杯-绿色</td>\n",
       "      <td>6255.0</td>\n",
       "      <td>675578.00</td>\n",
       "      <td>226243.35</td>\n",
       "      <td>277114.77</td>\n",
       "      <td>24065.26</td>\n",
       "      <td>195.23</td>\n",
       "      <td>18184.08</td>\n",
       "    </tr>\n",
       "    <tr>\n",
       "      <th>1</th>\n",
       "      <td>2019-01</td>\n",
       "      <td>C.TC.01.01.000059</td>\n",
       "      <td>6925125592633</td>\n",
       "      <td>KUB可优比-艾迪斯婴儿床-新款白马FD826-120*65</td>\n",
       "      <td>1552.0</td>\n",
       "      <td>1369690.07</td>\n",
       "      <td>798038.40</td>\n",
       "      <td>178946.00</td>\n",
       "      <td>81445.20</td>\n",
       "      <td>3667.00</td>\n",
       "      <td>4641.68</td>\n",
       "    </tr>\n",
       "    <tr>\n",
       "      <th>2</th>\n",
       "      <td>2019-01</td>\n",
       "      <td>D04853501</td>\n",
       "      <td>6971235895140</td>\n",
       "      <td>蒂爱-水杯餐具礼盒装-常规款</td>\n",
       "      <td>1661.0</td>\n",
       "      <td>425460.20</td>\n",
       "      <td>191779.06</td>\n",
       "      <td>173415.91</td>\n",
       "      <td>8950.39</td>\n",
       "      <td>0.00</td>\n",
       "      <td>4935.84</td>\n",
       "    </tr>\n",
       "    <tr>\n",
       "      <th>3</th>\n",
       "      <td>2019-01</td>\n",
       "      <td>C.WJ.01.01.000021</td>\n",
       "      <td>6925125559629</td>\n",
       "      <td>KUB可优比-三合一多功能电子琴</td>\n",
       "      <td>2145.0</td>\n",
       "      <td>267518.80</td>\n",
       "      <td>111743.78</td>\n",
       "      <td>127649.38</td>\n",
       "      <td>32843.74</td>\n",
       "      <td>603.00</td>\n",
       "      <td>6299.47</td>\n",
       "    </tr>\n",
       "    <tr>\n",
       "      <th>4</th>\n",
       "      <td>2019-01</td>\n",
       "      <td>K04857901</td>\n",
       "      <td>6971971887126</td>\n",
       "      <td>KUB可优比-恐龙滑梯组合</td>\n",
       "      <td>3818.0</td>\n",
       "      <td>1159592.00</td>\n",
       "      <td>622334.00</td>\n",
       "      <td>111138.71</td>\n",
       "      <td>119292.60</td>\n",
       "      <td>4111.00</td>\n",
       "      <td>11445.00</td>\n",
       "    </tr>\n",
       "  </tbody>\n",
       "</table>\n",
       "</div>"
      ],
      "text/plain": [
       "      Date            GoodsNO        BarCode                       GoodsName  \\\n",
       "0  2019-01  C.WB.02.01.000052  6925125561387                 KUB可优比-儿童保温杯-绿色   \n",
       "1  2019-01  C.TC.01.01.000059  6925125592633  KUB可优比-艾迪斯婴儿床-新款白马FD826-120*65   \n",
       "2  2019-01          D04853501  6971235895140                  蒂爱-水杯餐具礼盒装-常规款   \n",
       "3  2019-01  C.WJ.01.01.000021  6925125559629                KUB可优比-三合一多功能电子琴   \n",
       "4  2019-01          K04857901  6971971887126                   KUB可优比-恐龙滑梯组合   \n",
       "\n",
       "   GoodsCount      Income       Cost  FavourableTotal    Postage  \\\n",
       "0      6255.0   675578.00  226243.35        277114.77   24065.26   \n",
       "1      1552.0  1369690.07  798038.40        178946.00   81445.20   \n",
       "2      1661.0   425460.20  191779.06        173415.91    8950.39   \n",
       "3      2145.0   267518.80  111743.78        127649.38   32843.74   \n",
       "4      3818.0  1159592.00  622334.00        111138.71  119292.60   \n",
       "\n",
       "   PostageTotal  OperationCost  \n",
       "0        195.23       18184.08  \n",
       "1       3667.00        4641.68  \n",
       "2          0.00        4935.84  \n",
       "3        603.00        6299.47  \n",
       "4       4111.00       11445.00  "
      ]
     },
     "execution_count": 13,
     "metadata": {},
     "output_type": "execute_result"
    }
   ],
   "source": [
    "profitCheck1901.head()"
   ]
  },
  {
   "cell_type": "code",
   "execution_count": 14,
   "metadata": {},
   "outputs": [],
   "source": [
    "#合并出库明细和退货明细\n",
    "data_merge = pd.merge(profitCheck1901,returnSku1901,on=['Date','GoodsNO'],how='left')"
   ]
  },
  {
   "cell_type": "code",
   "execution_count": 15,
   "metadata": {},
   "outputs": [
    {
     "data": {
      "text/html": [
       "<div>\n",
       "<style scoped>\n",
       "    .dataframe tbody tr th:only-of-type {\n",
       "        vertical-align: middle;\n",
       "    }\n",
       "\n",
       "    .dataframe tbody tr th {\n",
       "        vertical-align: top;\n",
       "    }\n",
       "\n",
       "    .dataframe thead th {\n",
       "        text-align: right;\n",
       "    }\n",
       "</style>\n",
       "<table border=\"1\" class=\"dataframe\">\n",
       "  <thead>\n",
       "    <tr style=\"text-align: right;\">\n",
       "      <th></th>\n",
       "      <th>Date</th>\n",
       "      <th>GoodsNO</th>\n",
       "      <th>BarCode</th>\n",
       "      <th>GoodsName_x</th>\n",
       "      <th>GoodsCount_x</th>\n",
       "      <th>Income</th>\n",
       "      <th>Cost</th>\n",
       "      <th>FavourableTotal</th>\n",
       "      <th>Postage</th>\n",
       "      <th>PostageTotal</th>\n",
       "      <th>OperationCost</th>\n",
       "      <th>GoodsName_y</th>\n",
       "      <th>ReturnTotal</th>\n",
       "      <th>GoodsCount_y</th>\n",
       "      <th>returnCost</th>\n",
       "    </tr>\n",
       "  </thead>\n",
       "  <tbody>\n",
       "    <tr>\n",
       "      <th>0</th>\n",
       "      <td>2019-01</td>\n",
       "      <td>C.WB.02.01.000052</td>\n",
       "      <td>6925125561387</td>\n",
       "      <td>KUB可优比-儿童保温杯-绿色</td>\n",
       "      <td>6255.0</td>\n",
       "      <td>675578.00</td>\n",
       "      <td>226243.35</td>\n",
       "      <td>277114.77</td>\n",
       "      <td>24065.26</td>\n",
       "      <td>195.23</td>\n",
       "      <td>18184.08</td>\n",
       "      <td>KUB可优比-儿童保温杯-绿色</td>\n",
       "      <td>18251.40</td>\n",
       "      <td>235.0</td>\n",
       "      <td>8499.95</td>\n",
       "    </tr>\n",
       "    <tr>\n",
       "      <th>1</th>\n",
       "      <td>2019-01</td>\n",
       "      <td>C.TC.01.01.000059</td>\n",
       "      <td>6925125592633</td>\n",
       "      <td>KUB可优比-艾迪斯婴儿床-新款白马FD826-120*65</td>\n",
       "      <td>1552.0</td>\n",
       "      <td>1369690.07</td>\n",
       "      <td>798038.40</td>\n",
       "      <td>178946.00</td>\n",
       "      <td>81445.20</td>\n",
       "      <td>3667.00</td>\n",
       "      <td>4641.68</td>\n",
       "      <td>KUB可优比-艾迪斯婴儿床-新款白马FD826-120*65</td>\n",
       "      <td>23919.54</td>\n",
       "      <td>29.0</td>\n",
       "      <td>14911.80</td>\n",
       "    </tr>\n",
       "    <tr>\n",
       "      <th>2</th>\n",
       "      <td>2019-01</td>\n",
       "      <td>D04853501</td>\n",
       "      <td>6971235895140</td>\n",
       "      <td>蒂爱-水杯餐具礼盒装-常规款</td>\n",
       "      <td>1661.0</td>\n",
       "      <td>425460.20</td>\n",
       "      <td>191779.06</td>\n",
       "      <td>173415.91</td>\n",
       "      <td>8950.39</td>\n",
       "      <td>0.00</td>\n",
       "      <td>4935.84</td>\n",
       "      <td>蒂爱-水杯餐具礼盒装-常规款</td>\n",
       "      <td>8562.80</td>\n",
       "      <td>40.0</td>\n",
       "      <td>4618.40</td>\n",
       "    </tr>\n",
       "    <tr>\n",
       "      <th>3</th>\n",
       "      <td>2019-01</td>\n",
       "      <td>C.WJ.01.01.000021</td>\n",
       "      <td>6925125559629</td>\n",
       "      <td>KUB可优比-三合一多功能电子琴</td>\n",
       "      <td>2145.0</td>\n",
       "      <td>267518.80</td>\n",
       "      <td>111743.78</td>\n",
       "      <td>127649.38</td>\n",
       "      <td>32843.74</td>\n",
       "      <td>603.00</td>\n",
       "      <td>6299.47</td>\n",
       "      <td>KUB可优比-三合一多功能电子琴</td>\n",
       "      <td>9737.49</td>\n",
       "      <td>110.0</td>\n",
       "      <td>5730.45</td>\n",
       "    </tr>\n",
       "    <tr>\n",
       "      <th>4</th>\n",
       "      <td>2019-01</td>\n",
       "      <td>K04857901</td>\n",
       "      <td>6971971887126</td>\n",
       "      <td>KUB可优比-恐龙滑梯组合</td>\n",
       "      <td>3818.0</td>\n",
       "      <td>1159592.00</td>\n",
       "      <td>622334.00</td>\n",
       "      <td>111138.71</td>\n",
       "      <td>119292.60</td>\n",
       "      <td>4111.00</td>\n",
       "      <td>11445.00</td>\n",
       "      <td>KUB可优比-恐龙滑梯组合</td>\n",
       "      <td>20819.51</td>\n",
       "      <td>73.0</td>\n",
       "      <td>11899.00</td>\n",
       "    </tr>\n",
       "  </tbody>\n",
       "</table>\n",
       "</div>"
      ],
      "text/plain": [
       "      Date            GoodsNO        BarCode                     GoodsName_x  \\\n",
       "0  2019-01  C.WB.02.01.000052  6925125561387                 KUB可优比-儿童保温杯-绿色   \n",
       "1  2019-01  C.TC.01.01.000059  6925125592633  KUB可优比-艾迪斯婴儿床-新款白马FD826-120*65   \n",
       "2  2019-01          D04853501  6971235895140                  蒂爱-水杯餐具礼盒装-常规款   \n",
       "3  2019-01  C.WJ.01.01.000021  6925125559629                KUB可优比-三合一多功能电子琴   \n",
       "4  2019-01          K04857901  6971971887126                   KUB可优比-恐龙滑梯组合   \n",
       "\n",
       "   GoodsCount_x      Income       Cost  FavourableTotal    Postage  \\\n",
       "0        6255.0   675578.00  226243.35        277114.77   24065.26   \n",
       "1        1552.0  1369690.07  798038.40        178946.00   81445.20   \n",
       "2        1661.0   425460.20  191779.06        173415.91    8950.39   \n",
       "3        2145.0   267518.80  111743.78        127649.38   32843.74   \n",
       "4        3818.0  1159592.00  622334.00        111138.71  119292.60   \n",
       "\n",
       "   PostageTotal  OperationCost                     GoodsName_y  ReturnTotal  \\\n",
       "0        195.23       18184.08                 KUB可优比-儿童保温杯-绿色     18251.40   \n",
       "1       3667.00        4641.68  KUB可优比-艾迪斯婴儿床-新款白马FD826-120*65     23919.54   \n",
       "2          0.00        4935.84                  蒂爱-水杯餐具礼盒装-常规款      8562.80   \n",
       "3        603.00        6299.47                KUB可优比-三合一多功能电子琴      9737.49   \n",
       "4       4111.00       11445.00                   KUB可优比-恐龙滑梯组合     20819.51   \n",
       "\n",
       "   GoodsCount_y  returnCost  \n",
       "0         235.0     8499.95  \n",
       "1          29.0    14911.80  \n",
       "2          40.0     4618.40  \n",
       "3         110.0     5730.45  \n",
       "4          73.0    11899.00  "
      ]
     },
     "execution_count": 15,
     "metadata": {},
     "output_type": "execute_result"
    }
   ],
   "source": [
    "data_merge.head()"
   ]
  },
  {
   "cell_type": "code",
   "execution_count": 16,
   "metadata": {},
   "outputs": [
    {
     "data": {
      "text/plain": [
       "29513.620000000006"
      ]
     },
     "execution_count": 16,
     "metadata": {},
     "output_type": "execute_result"
    }
   ],
   "source": [
    "returnSku1901[\"GoodsCount\"]=returnSku1901[\"GoodsCount\"].astype(float)\n",
    "data_merge1=data_merge.groupby(['Date'],as_index=False)\n",
    "data_merge1=data_merge1.aggregate(np.sum)#出库总数\n",
    "data_merge1.GoodsCount_y.sum()"
   ]
  },
  {
   "cell_type": "code",
   "execution_count": 17,
   "metadata": {},
   "outputs": [],
   "source": [
    "data_merge.to_excel(\"data_merge_right_sku.xlsx\",header=True)"
   ]
  },
  {
   "cell_type": "code",
   "execution_count": 18,
   "metadata": {},
   "outputs": [],
   "source": [
    "del data_merge['GoodsName_y']"
   ]
  },
  {
   "cell_type": "code",
   "execution_count": 19,
   "metadata": {},
   "outputs": [],
   "source": [
    "#获取商品小组对应情况\n",
    "GoodsInfo =pd.read_csv('C:\\\\Users\\\\Administrator\\\\PycharmProjects\\\\test\\\\goodsinfo0305.csv',header = 0,engine='python')\n",
    "GoodsInfo.columns=['GoodsNO','GoodsName','barCode','Company','Dept','TmallTax','GroupName','Holder','GradeTwo','GradeThird','GradeForth','SPU']"
   ]
  },
  {
   "cell_type": "code",
   "execution_count": 20,
   "metadata": {},
   "outputs": [],
   "source": [
    "#删除重复以及不必要列\n",
    "GoodsInfoShort=GoodsInfo[['GoodsNO','Company','Dept','GroupName','TmallTax','Holder','GradeTwo','GradeThird','GradeForth','SPU']]"
   ]
  },
  {
   "cell_type": "code",
   "execution_count": 21,
   "metadata": {},
   "outputs": [
    {
     "data": {
      "text/plain": [
       "(17337, 10)"
      ]
     },
     "execution_count": 21,
     "metadata": {},
     "output_type": "execute_result"
    }
   ],
   "source": [
    "GoodsInfoShort.shape"
   ]
  },
  {
   "cell_type": "code",
   "execution_count": 22,
   "metadata": {},
   "outputs": [],
   "source": [
    "#以SKU编码为唯一辨识，去重\n",
    "GoodsInfoShort=GoodsInfoShort.drop_duplicates([\"GoodsNO\"])"
   ]
  },
  {
   "cell_type": "code",
   "execution_count": 23,
   "metadata": {},
   "outputs": [
    {
     "data": {
      "text/plain": [
       "(17203, 10)"
      ]
     },
     "execution_count": 23,
     "metadata": {},
     "output_type": "execute_result"
    }
   ],
   "source": [
    "GoodsInfoShort.shape"
   ]
  },
  {
   "cell_type": "code",
   "execution_count": 24,
   "metadata": {},
   "outputs": [
    {
     "data": {
      "text/html": [
       "<div>\n",
       "<style scoped>\n",
       "    .dataframe tbody tr th:only-of-type {\n",
       "        vertical-align: middle;\n",
       "    }\n",
       "\n",
       "    .dataframe tbody tr th {\n",
       "        vertical-align: top;\n",
       "    }\n",
       "\n",
       "    .dataframe thead th {\n",
       "        text-align: right;\n",
       "    }\n",
       "</style>\n",
       "<table border=\"1\" class=\"dataframe\">\n",
       "  <thead>\n",
       "    <tr style=\"text-align: right;\">\n",
       "      <th></th>\n",
       "      <th>GoodsNO</th>\n",
       "      <th>Company</th>\n",
       "      <th>Dept</th>\n",
       "      <th>GroupName</th>\n",
       "      <th>TmallTax</th>\n",
       "      <th>Holder</th>\n",
       "      <th>GradeTwo</th>\n",
       "      <th>GradeThird</th>\n",
       "      <th>GradeForth</th>\n",
       "      <th>SPU</th>\n",
       "    </tr>\n",
       "  </thead>\n",
       "  <tbody>\n",
       "    <tr>\n",
       "      <th>0</th>\n",
       "      <td>K04855901</td>\n",
       "      <td>可优比母婴用品有限公司</td>\n",
       "      <td>KUB穿戴</td>\n",
       "      <td>礼盒配饰组</td>\n",
       "      <td>0.05</td>\n",
       "      <td>谢涛涛</td>\n",
       "      <td>婴童配饰</td>\n",
       "      <td>婴童饰品</td>\n",
       "      <td>领结</td>\n",
       "      <td>K050231</td>\n",
       "    </tr>\n",
       "    <tr>\n",
       "      <th>1</th>\n",
       "      <td>K04855902</td>\n",
       "      <td>可优比母婴用品有限公司</td>\n",
       "      <td>KUB穿戴</td>\n",
       "      <td>礼盒配饰组</td>\n",
       "      <td>0.05</td>\n",
       "      <td>谢涛涛</td>\n",
       "      <td>婴童配饰</td>\n",
       "      <td>婴童饰品</td>\n",
       "      <td>领结</td>\n",
       "      <td>K050231</td>\n",
       "    </tr>\n",
       "    <tr>\n",
       "      <th>2</th>\n",
       "      <td>K04852202</td>\n",
       "      <td>可优比母婴用品有限公司</td>\n",
       "      <td>KUB穿戴</td>\n",
       "      <td>内服组</td>\n",
       "      <td>0.05</td>\n",
       "      <td>王江峰</td>\n",
       "      <td>婴童外衣</td>\n",
       "      <td>外套/夹克/大衣</td>\n",
       "      <td>其它外套</td>\n",
       "      <td>K050209</td>\n",
       "    </tr>\n",
       "    <tr>\n",
       "      <th>3</th>\n",
       "      <td>K04852201</td>\n",
       "      <td>可优比母婴用品有限公司</td>\n",
       "      <td>KUB穿戴</td>\n",
       "      <td>内服组</td>\n",
       "      <td>0.05</td>\n",
       "      <td>王江峰</td>\n",
       "      <td>婴童外衣</td>\n",
       "      <td>外套/夹克/大衣</td>\n",
       "      <td>其它外套</td>\n",
       "      <td>K050209</td>\n",
       "    </tr>\n",
       "    <tr>\n",
       "      <th>4</th>\n",
       "      <td>K04852205</td>\n",
       "      <td>可优比母婴用品有限公司</td>\n",
       "      <td>KUB穿戴</td>\n",
       "      <td>内服组</td>\n",
       "      <td>0.05</td>\n",
       "      <td>王江峰</td>\n",
       "      <td>婴童外衣</td>\n",
       "      <td>外套/夹克/大衣</td>\n",
       "      <td>其它外套</td>\n",
       "      <td>K050209</td>\n",
       "    </tr>\n",
       "  </tbody>\n",
       "</table>\n",
       "</div>"
      ],
      "text/plain": [
       "     GoodsNO      Company   Dept GroupName  TmallTax Holder GradeTwo  \\\n",
       "0  K04855901  可优比母婴用品有限公司  KUB穿戴     礼盒配饰组      0.05    谢涛涛     婴童配饰   \n",
       "1  K04855902  可优比母婴用品有限公司  KUB穿戴     礼盒配饰组      0.05    谢涛涛     婴童配饰   \n",
       "2  K04852202  可优比母婴用品有限公司  KUB穿戴       内服组      0.05    王江峰     婴童外衣   \n",
       "3  K04852201  可优比母婴用品有限公司  KUB穿戴       内服组      0.05    王江峰     婴童外衣   \n",
       "4  K04852205  可优比母婴用品有限公司  KUB穿戴       内服组      0.05    王江峰     婴童外衣   \n",
       "\n",
       "  GradeThird GradeForth      SPU  \n",
       "0       婴童饰品         领结  K050231  \n",
       "1       婴童饰品         领结  K050231  \n",
       "2   外套/夹克/大衣       其它外套  K050209  \n",
       "3   外套/夹克/大衣       其它外套  K050209  \n",
       "4   外套/夹克/大衣       其它外套  K050209  "
      ]
     },
     "execution_count": 24,
     "metadata": {},
     "output_type": "execute_result"
    }
   ],
   "source": [
    "GoodsInfoShort.head()"
   ]
  },
  {
   "cell_type": "code",
   "execution_count": 25,
   "metadata": {},
   "outputs": [],
   "source": [
    "#匹配销售数据和对应小组信息\n",
    "data_merge_dept=pd.merge(data_merge,GoodsInfoShort,on=['GoodsNO'],how='left')"
   ]
  },
  {
   "cell_type": "code",
   "execution_count": 26,
   "metadata": {},
   "outputs": [],
   "source": [
    "# data_merge_dept = pd.read_csv('C:\\\\Users\\\\Administrator\\\\Desktop\\\\sell_return_dept.csv')"
   ]
  },
  {
   "cell_type": "code",
   "execution_count": 27,
   "metadata": {
    "scrolled": true
   },
   "outputs": [
    {
     "data": {
      "text/html": [
       "<div>\n",
       "<style scoped>\n",
       "    .dataframe tbody tr th:only-of-type {\n",
       "        vertical-align: middle;\n",
       "    }\n",
       "\n",
       "    .dataframe tbody tr th {\n",
       "        vertical-align: top;\n",
       "    }\n",
       "\n",
       "    .dataframe thead th {\n",
       "        text-align: right;\n",
       "    }\n",
       "</style>\n",
       "<table border=\"1\" class=\"dataframe\">\n",
       "  <thead>\n",
       "    <tr style=\"text-align: right;\">\n",
       "      <th></th>\n",
       "      <th>Date</th>\n",
       "      <th>GoodsNO</th>\n",
       "      <th>BarCode</th>\n",
       "      <th>GoodsName_x</th>\n",
       "      <th>GoodsCount_x</th>\n",
       "      <th>Income</th>\n",
       "      <th>Cost</th>\n",
       "      <th>FavourableTotal</th>\n",
       "      <th>Postage</th>\n",
       "      <th>PostageTotal</th>\n",
       "      <th>...</th>\n",
       "      <th>returnCost</th>\n",
       "      <th>Company</th>\n",
       "      <th>Dept</th>\n",
       "      <th>GroupName</th>\n",
       "      <th>TmallTax</th>\n",
       "      <th>Holder</th>\n",
       "      <th>GradeTwo</th>\n",
       "      <th>GradeThird</th>\n",
       "      <th>GradeForth</th>\n",
       "      <th>SPU</th>\n",
       "    </tr>\n",
       "  </thead>\n",
       "  <tbody>\n",
       "    <tr>\n",
       "      <th>0</th>\n",
       "      <td>2019-01</td>\n",
       "      <td>C.WB.02.01.000052</td>\n",
       "      <td>6925125561387</td>\n",
       "      <td>KUB可优比-儿童保温杯-绿色</td>\n",
       "      <td>6255.0</td>\n",
       "      <td>675578.00</td>\n",
       "      <td>226243.35</td>\n",
       "      <td>277114.77</td>\n",
       "      <td>24065.26</td>\n",
       "      <td>195.23</td>\n",
       "      <td>...</td>\n",
       "      <td>8499.95</td>\n",
       "      <td>可优比母婴用品有限公司</td>\n",
       "      <td>KUB喂辅</td>\n",
       "      <td>学饮组</td>\n",
       "      <td>0.02</td>\n",
       "      <td>章小慧</td>\n",
       "      <td>学饮类</td>\n",
       "      <td>保温杯/壶</td>\n",
       "      <td>保温吸管杯</td>\n",
       "      <td>WF101</td>\n",
       "    </tr>\n",
       "    <tr>\n",
       "      <th>1</th>\n",
       "      <td>2019-01</td>\n",
       "      <td>C.TC.01.01.000059</td>\n",
       "      <td>6925125592633</td>\n",
       "      <td>KUB可优比-艾迪斯婴儿床-新款白马FD826-120*65</td>\n",
       "      <td>1552.0</td>\n",
       "      <td>1369690.07</td>\n",
       "      <td>798038.40</td>\n",
       "      <td>178946.00</td>\n",
       "      <td>81445.20</td>\n",
       "      <td>3667.00</td>\n",
       "      <td>...</td>\n",
       "      <td>14911.80</td>\n",
       "      <td>可优比母婴用品有限公司</td>\n",
       "      <td>KUB睡眠</td>\n",
       "      <td>睡床小组</td>\n",
       "      <td>0.05</td>\n",
       "      <td>林嘉欣</td>\n",
       "      <td>婴童卧室家具</td>\n",
       "      <td>婴童床</td>\n",
       "      <td>实木床</td>\n",
       "      <td>SL8512</td>\n",
       "    </tr>\n",
       "    <tr>\n",
       "      <th>2</th>\n",
       "      <td>2019-01</td>\n",
       "      <td>D04853501</td>\n",
       "      <td>6971235895140</td>\n",
       "      <td>蒂爱-水杯餐具礼盒装-常规款</td>\n",
       "      <td>1661.0</td>\n",
       "      <td>425460.20</td>\n",
       "      <td>191779.06</td>\n",
       "      <td>173415.91</td>\n",
       "      <td>8950.39</td>\n",
       "      <td>0.00</td>\n",
       "      <td>...</td>\n",
       "      <td>4618.40</td>\n",
       "      <td>杭州蒂爱母婴用品有限公司</td>\n",
       "      <td>蒂爱喂养</td>\n",
       "      <td>NaN</td>\n",
       "      <td>0.02</td>\n",
       "      <td>NaN</td>\n",
       "      <td>NaN</td>\n",
       "      <td>NaN</td>\n",
       "      <td>NaN</td>\n",
       "      <td>NaN</td>\n",
       "    </tr>\n",
       "    <tr>\n",
       "      <th>3</th>\n",
       "      <td>2019-01</td>\n",
       "      <td>C.WJ.01.01.000021</td>\n",
       "      <td>6925125559629</td>\n",
       "      <td>KUB可优比-三合一多功能电子琴</td>\n",
       "      <td>2145.0</td>\n",
       "      <td>267518.80</td>\n",
       "      <td>111743.78</td>\n",
       "      <td>127649.38</td>\n",
       "      <td>32843.74</td>\n",
       "      <td>603.00</td>\n",
       "      <td>...</td>\n",
       "      <td>5730.45</td>\n",
       "      <td>可优比母婴用品有限公司</td>\n",
       "      <td>KUB玩教</td>\n",
       "      <td>安抚玩乐组</td>\n",
       "      <td>0.05</td>\n",
       "      <td>何勉勉/郭凤</td>\n",
       "      <td>情景互动</td>\n",
       "      <td>音乐/乐器类</td>\n",
       "      <td>电子琴</td>\n",
       "      <td>WJ0308</td>\n",
       "    </tr>\n",
       "    <tr>\n",
       "      <th>4</th>\n",
       "      <td>2019-01</td>\n",
       "      <td>K04857901</td>\n",
       "      <td>6971971887126</td>\n",
       "      <td>KUB可优比-恐龙滑梯组合</td>\n",
       "      <td>3818.0</td>\n",
       "      <td>1159592.00</td>\n",
       "      <td>622334.00</td>\n",
       "      <td>111138.71</td>\n",
       "      <td>119292.60</td>\n",
       "      <td>4111.00</td>\n",
       "      <td>...</td>\n",
       "      <td>11899.00</td>\n",
       "      <td>可优比母婴用品有限公司</td>\n",
       "      <td>KUB玩教</td>\n",
       "      <td>学爬健身组</td>\n",
       "      <td>0.05</td>\n",
       "      <td>魏愿/陆昌胜</td>\n",
       "      <td>学步健身</td>\n",
       "      <td>游乐设施</td>\n",
       "      <td>滑梯</td>\n",
       "      <td>WJ0418</td>\n",
       "    </tr>\n",
       "  </tbody>\n",
       "</table>\n",
       "<p>5 rows × 23 columns</p>\n",
       "</div>"
      ],
      "text/plain": [
       "      Date            GoodsNO        BarCode                     GoodsName_x  \\\n",
       "0  2019-01  C.WB.02.01.000052  6925125561387                 KUB可优比-儿童保温杯-绿色   \n",
       "1  2019-01  C.TC.01.01.000059  6925125592633  KUB可优比-艾迪斯婴儿床-新款白马FD826-120*65   \n",
       "2  2019-01          D04853501  6971235895140                  蒂爱-水杯餐具礼盒装-常规款   \n",
       "3  2019-01  C.WJ.01.01.000021  6925125559629                KUB可优比-三合一多功能电子琴   \n",
       "4  2019-01          K04857901  6971971887126                   KUB可优比-恐龙滑梯组合   \n",
       "\n",
       "   GoodsCount_x      Income       Cost  FavourableTotal    Postage  \\\n",
       "0        6255.0   675578.00  226243.35        277114.77   24065.26   \n",
       "1        1552.0  1369690.07  798038.40        178946.00   81445.20   \n",
       "2        1661.0   425460.20  191779.06        173415.91    8950.39   \n",
       "3        2145.0   267518.80  111743.78        127649.38   32843.74   \n",
       "4        3818.0  1159592.00  622334.00        111138.71  119292.60   \n",
       "\n",
       "   PostageTotal   ...    returnCost       Company   Dept  GroupName TmallTax  \\\n",
       "0        195.23   ...       8499.95   可优比母婴用品有限公司  KUB喂辅        学饮组     0.02   \n",
       "1       3667.00   ...      14911.80   可优比母婴用品有限公司  KUB睡眠       睡床小组     0.05   \n",
       "2          0.00   ...       4618.40  杭州蒂爱母婴用品有限公司   蒂爱喂养        NaN     0.02   \n",
       "3        603.00   ...       5730.45   可优比母婴用品有限公司  KUB玩教      安抚玩乐组     0.05   \n",
       "4       4111.00   ...      11899.00   可优比母婴用品有限公司  KUB玩教      学爬健身组     0.05   \n",
       "\n",
       "   Holder GradeTwo  GradeThird GradeForth     SPU  \n",
       "0     章小慧      学饮类       保温杯/壶      保温吸管杯   WF101  \n",
       "1     林嘉欣   婴童卧室家具         婴童床        实木床  SL8512  \n",
       "2     NaN      NaN         NaN        NaN     NaN  \n",
       "3  何勉勉/郭凤     情景互动      音乐/乐器类        电子琴  WJ0308  \n",
       "4  魏愿/陆昌胜     学步健身        游乐设施         滑梯  WJ0418  \n",
       "\n",
       "[5 rows x 23 columns]"
      ]
     },
     "execution_count": 27,
     "metadata": {},
     "output_type": "execute_result"
    }
   ],
   "source": [
    "data_merge_dept.head()"
   ]
  },
  {
   "cell_type": "code",
   "execution_count": 28,
   "metadata": {},
   "outputs": [],
   "source": [
    "# kub=pd.read_csv('C:\\\\Users\\\\Administrator\\\\Desktop\\\\商品SKU事业部\\\\0124\\\\kub0125.csv',engine='python')\n",
    "# kub=kub[['GoodsNO','Dept','GroupName']]\n",
    "# kub=kub.drop_duplicates([\"GoodsNO\"])\n",
    "# kub.columns=['SKU','Dept','GroupName']\n",
    "# data_merge_dept_gp=pd.merge(data_merge_dept,kub,on=['SKU'],how='left')\n",
    "# data_merge_dept_gp.to_excel('data_group_new0125.xlsx',header=True,index=False)"
   ]
  },
  {
   "cell_type": "code",
   "execution_count": 29,
   "metadata": {},
   "outputs": [],
   "source": [
    "#修改合并后的列名\n",
    "data_merge_dept.columns=['Date', 'SKU', 'BarCode', 'Name', 'SellCount', 'SellIncome',\n",
    "       'SellCost', 'FavourableTotal', 'Postage', 'PostageTotal', 'OperationCost',\n",
    "       'ReturnTotal', 'ReturnCount', 'ReturnCost', 'Company', 'Dept',\n",
    "       'GroupName','TmallTax','Holder','GradeTwo','GradeThird','GradeForth','SPU']"
   ]
  },
  {
   "cell_type": "code",
   "execution_count": 30,
   "metadata": {
    "scrolled": true
   },
   "outputs": [
    {
     "data": {
      "text/html": [
       "<div>\n",
       "<style scoped>\n",
       "    .dataframe tbody tr th:only-of-type {\n",
       "        vertical-align: middle;\n",
       "    }\n",
       "\n",
       "    .dataframe tbody tr th {\n",
       "        vertical-align: top;\n",
       "    }\n",
       "\n",
       "    .dataframe thead th {\n",
       "        text-align: right;\n",
       "    }\n",
       "</style>\n",
       "<table border=\"1\" class=\"dataframe\">\n",
       "  <thead>\n",
       "    <tr style=\"text-align: right;\">\n",
       "      <th></th>\n",
       "      <th>Date</th>\n",
       "      <th>SKU</th>\n",
       "      <th>BarCode</th>\n",
       "      <th>Name</th>\n",
       "      <th>SellCount</th>\n",
       "      <th>SellIncome</th>\n",
       "      <th>SellCost</th>\n",
       "      <th>FavourableTotal</th>\n",
       "      <th>Postage</th>\n",
       "      <th>PostageTotal</th>\n",
       "      <th>...</th>\n",
       "      <th>ReturnCost</th>\n",
       "      <th>Company</th>\n",
       "      <th>Dept</th>\n",
       "      <th>GroupName</th>\n",
       "      <th>TmallTax</th>\n",
       "      <th>Holder</th>\n",
       "      <th>GradeTwo</th>\n",
       "      <th>GradeThird</th>\n",
       "      <th>GradeForth</th>\n",
       "      <th>SPU</th>\n",
       "    </tr>\n",
       "  </thead>\n",
       "  <tbody>\n",
       "    <tr>\n",
       "      <th>0</th>\n",
       "      <td>2019-01</td>\n",
       "      <td>C.WB.02.01.000052</td>\n",
       "      <td>6925125561387</td>\n",
       "      <td>KUB可优比-儿童保温杯-绿色</td>\n",
       "      <td>6255.0</td>\n",
       "      <td>675578.00</td>\n",
       "      <td>226243.35</td>\n",
       "      <td>277114.77</td>\n",
       "      <td>24065.26</td>\n",
       "      <td>195.23</td>\n",
       "      <td>...</td>\n",
       "      <td>8499.95</td>\n",
       "      <td>可优比母婴用品有限公司</td>\n",
       "      <td>KUB喂辅</td>\n",
       "      <td>学饮组</td>\n",
       "      <td>0.02</td>\n",
       "      <td>章小慧</td>\n",
       "      <td>学饮类</td>\n",
       "      <td>保温杯/壶</td>\n",
       "      <td>保温吸管杯</td>\n",
       "      <td>WF101</td>\n",
       "    </tr>\n",
       "    <tr>\n",
       "      <th>1</th>\n",
       "      <td>2019-01</td>\n",
       "      <td>C.TC.01.01.000059</td>\n",
       "      <td>6925125592633</td>\n",
       "      <td>KUB可优比-艾迪斯婴儿床-新款白马FD826-120*65</td>\n",
       "      <td>1552.0</td>\n",
       "      <td>1369690.07</td>\n",
       "      <td>798038.40</td>\n",
       "      <td>178946.00</td>\n",
       "      <td>81445.20</td>\n",
       "      <td>3667.00</td>\n",
       "      <td>...</td>\n",
       "      <td>14911.80</td>\n",
       "      <td>可优比母婴用品有限公司</td>\n",
       "      <td>KUB睡眠</td>\n",
       "      <td>睡床小组</td>\n",
       "      <td>0.05</td>\n",
       "      <td>林嘉欣</td>\n",
       "      <td>婴童卧室家具</td>\n",
       "      <td>婴童床</td>\n",
       "      <td>实木床</td>\n",
       "      <td>SL8512</td>\n",
       "    </tr>\n",
       "    <tr>\n",
       "      <th>2</th>\n",
       "      <td>2019-01</td>\n",
       "      <td>D04853501</td>\n",
       "      <td>6971235895140</td>\n",
       "      <td>蒂爱-水杯餐具礼盒装-常规款</td>\n",
       "      <td>1661.0</td>\n",
       "      <td>425460.20</td>\n",
       "      <td>191779.06</td>\n",
       "      <td>173415.91</td>\n",
       "      <td>8950.39</td>\n",
       "      <td>0.00</td>\n",
       "      <td>...</td>\n",
       "      <td>4618.40</td>\n",
       "      <td>杭州蒂爱母婴用品有限公司</td>\n",
       "      <td>蒂爱喂养</td>\n",
       "      <td>NaN</td>\n",
       "      <td>0.02</td>\n",
       "      <td>NaN</td>\n",
       "      <td>NaN</td>\n",
       "      <td>NaN</td>\n",
       "      <td>NaN</td>\n",
       "      <td>NaN</td>\n",
       "    </tr>\n",
       "    <tr>\n",
       "      <th>3</th>\n",
       "      <td>2019-01</td>\n",
       "      <td>C.WJ.01.01.000021</td>\n",
       "      <td>6925125559629</td>\n",
       "      <td>KUB可优比-三合一多功能电子琴</td>\n",
       "      <td>2145.0</td>\n",
       "      <td>267518.80</td>\n",
       "      <td>111743.78</td>\n",
       "      <td>127649.38</td>\n",
       "      <td>32843.74</td>\n",
       "      <td>603.00</td>\n",
       "      <td>...</td>\n",
       "      <td>5730.45</td>\n",
       "      <td>可优比母婴用品有限公司</td>\n",
       "      <td>KUB玩教</td>\n",
       "      <td>安抚玩乐组</td>\n",
       "      <td>0.05</td>\n",
       "      <td>何勉勉/郭凤</td>\n",
       "      <td>情景互动</td>\n",
       "      <td>音乐/乐器类</td>\n",
       "      <td>电子琴</td>\n",
       "      <td>WJ0308</td>\n",
       "    </tr>\n",
       "    <tr>\n",
       "      <th>4</th>\n",
       "      <td>2019-01</td>\n",
       "      <td>K04857901</td>\n",
       "      <td>6971971887126</td>\n",
       "      <td>KUB可优比-恐龙滑梯组合</td>\n",
       "      <td>3818.0</td>\n",
       "      <td>1159592.00</td>\n",
       "      <td>622334.00</td>\n",
       "      <td>111138.71</td>\n",
       "      <td>119292.60</td>\n",
       "      <td>4111.00</td>\n",
       "      <td>...</td>\n",
       "      <td>11899.00</td>\n",
       "      <td>可优比母婴用品有限公司</td>\n",
       "      <td>KUB玩教</td>\n",
       "      <td>学爬健身组</td>\n",
       "      <td>0.05</td>\n",
       "      <td>魏愿/陆昌胜</td>\n",
       "      <td>学步健身</td>\n",
       "      <td>游乐设施</td>\n",
       "      <td>滑梯</td>\n",
       "      <td>WJ0418</td>\n",
       "    </tr>\n",
       "  </tbody>\n",
       "</table>\n",
       "<p>5 rows × 23 columns</p>\n",
       "</div>"
      ],
      "text/plain": [
       "      Date                SKU        BarCode                            Name  \\\n",
       "0  2019-01  C.WB.02.01.000052  6925125561387                 KUB可优比-儿童保温杯-绿色   \n",
       "1  2019-01  C.TC.01.01.000059  6925125592633  KUB可优比-艾迪斯婴儿床-新款白马FD826-120*65   \n",
       "2  2019-01          D04853501  6971235895140                  蒂爱-水杯餐具礼盒装-常规款   \n",
       "3  2019-01  C.WJ.01.01.000021  6925125559629                KUB可优比-三合一多功能电子琴   \n",
       "4  2019-01          K04857901  6971971887126                   KUB可优比-恐龙滑梯组合   \n",
       "\n",
       "   SellCount  SellIncome   SellCost  FavourableTotal    Postage  PostageTotal  \\\n",
       "0     6255.0   675578.00  226243.35        277114.77   24065.26        195.23   \n",
       "1     1552.0  1369690.07  798038.40        178946.00   81445.20       3667.00   \n",
       "2     1661.0   425460.20  191779.06        173415.91    8950.39          0.00   \n",
       "3     2145.0   267518.80  111743.78        127649.38   32843.74        603.00   \n",
       "4     3818.0  1159592.00  622334.00        111138.71  119292.60       4111.00   \n",
       "\n",
       "    ...    ReturnCost       Company   Dept  GroupName TmallTax  Holder  \\\n",
       "0   ...       8499.95   可优比母婴用品有限公司  KUB喂辅        学饮组     0.02     章小慧   \n",
       "1   ...      14911.80   可优比母婴用品有限公司  KUB睡眠       睡床小组     0.05     林嘉欣   \n",
       "2   ...       4618.40  杭州蒂爱母婴用品有限公司   蒂爱喂养        NaN     0.02     NaN   \n",
       "3   ...       5730.45   可优比母婴用品有限公司  KUB玩教      安抚玩乐组     0.05  何勉勉/郭凤   \n",
       "4   ...      11899.00   可优比母婴用品有限公司  KUB玩教      学爬健身组     0.05  魏愿/陆昌胜   \n",
       "\n",
       "  GradeTwo  GradeThird GradeForth     SPU  \n",
       "0      学饮类       保温杯/壶      保温吸管杯   WF101  \n",
       "1   婴童卧室家具         婴童床        实木床  SL8512  \n",
       "2      NaN         NaN        NaN     NaN  \n",
       "3     情景互动      音乐/乐器类        电子琴  WJ0308  \n",
       "4     学步健身        游乐设施         滑梯  WJ0418  \n",
       "\n",
       "[5 rows x 23 columns]"
      ]
     },
     "execution_count": 30,
     "metadata": {},
     "output_type": "execute_result"
    }
   ],
   "source": [
    "data_merge_dept.head()"
   ]
  },
  {
   "cell_type": "code",
   "execution_count": null,
   "metadata": {},
   "outputs": [],
   "source": [
    "#data_merge_dept['Postage']=0"
   ]
  },
  {
   "cell_type": "code",
   "execution_count": null,
   "metadata": {},
   "outputs": [],
   "source": [
    "data_merge_dept['GroupName']=data_merge_dept['GroupName'].fillna('#N/A')"
   ]
  },
  {
   "cell_type": "code",
   "execution_count": null,
   "metadata": {},
   "outputs": [],
   "source": [
    "department_gross_profit = pd.DataFrame()\n",
    "department_gross_profit = pd.concat([department_gross_profit,data_merge_dept])"
   ]
  },
  {
   "cell_type": "code",
   "execution_count": null,
   "metadata": {},
   "outputs": [],
   "source": [
    "#查看缺失值情况\n",
    "department_gross_profit=department_gross_profit.fillna(np.nan)\n",
    "department_gross_profit.isnull().sum()"
   ]
  },
  {
   "cell_type": "code",
   "execution_count": null,
   "metadata": {},
   "outputs": [],
   "source": [
    "department_gross_profit.head()"
   ]
  },
  {
   "cell_type": "code",
   "execution_count": null,
   "metadata": {},
   "outputs": [],
   "source": [
    "department_gross_profit[['SellCount', 'SellIncome',\n",
    "       'SellCost', 'FavourableTotal', 'Postage', 'PostageTotal', 'OperationCost',\n",
    "       'ReturnTotal', 'ReturnCount', 'ReturnCost','TmallTax']] = department_gross_profit[['SellCount', 'SellIncome',\n",
    "       'SellCost', 'FavourableTotal', 'Postage', 'PostageTotal', 'OperationCost',\n",
    "       'ReturnTotal', 'ReturnCount', 'ReturnCost','TmallTax']].astype(float)"
   ]
  },
  {
   "cell_type": "code",
   "execution_count": null,
   "metadata": {},
   "outputs": [],
   "source": [
    "department_gross_profit.head()"
   ]
  },
  {
   "cell_type": "code",
   "execution_count": null,
   "metadata": {},
   "outputs": [],
   "source": [
    "#填充缺失值为0\n",
    "department_gross_profit[['ReturnTotal', 'ReturnCount', 'ReturnCost','TmallTax']]=department_gross_profit\\\n",
    "[['ReturnTotal', 'ReturnCount', 'ReturnCost','TmallTax']].fillna(0)\n",
    "\n",
    "#填充缺失小组为#N/A\n",
    "department_gross_profit['GroupName']=department_gross_profit\\\n",
    "['GroupName'].fillna('#N/A')"
   ]
  },
  {
   "cell_type": "code",
   "execution_count": null,
   "metadata": {},
   "outputs": [],
   "source": [
    "department_gross_profit['CheckIncome'] = department_gross_profit['SellIncome']-department_gross_profit['FavourableTotal']\\\n",
    "                                        +department_gross_profit['PostageTotal']-department_gross_profit['ReturnTotal']\n",
    "department_gross_profit['CheckCost'] = department_gross_profit['SellCost']-department_gross_profit['ReturnCost']\n",
    "department_gross_profit['TmallCharge'] = (department_gross_profit['SellIncome']-department_gross_profit['FavourableTotal']-\\\n",
    "                                        department_gross_profit['ReturnTotal'])*department_gross_profit['TmallTax']"
   ]
  },
  {
   "cell_type": "code",
   "execution_count": null,
   "metadata": {},
   "outputs": [],
   "source": [
    "#按公司，部门，日期进行归类\n",
    "department_gross_profit_gb=department_gross_profit.groupby(['Company','Dept','Date'],as_index=False)"
   ]
  },
  {
   "cell_type": "code",
   "execution_count": null,
   "metadata": {},
   "outputs": [],
   "source": [
    "#归类汇总\n",
    "department_gross_profit_gb = department_gross_profit_gb.aggregate(np.sum)\n",
    "del department_gross_profit_gb['TmallTax']"
   ]
  },
  {
   "cell_type": "code",
   "execution_count": null,
   "metadata": {},
   "outputs": [],
   "source": [
    "#计算营业税，毛利润，毛利率\n",
    "department_gross_profit_gb['Tax']=department_gross_profit_gb['CheckIncome']*0.06\n",
    "department_gross_profit_gb['GrossProfit']=department_gross_profit_gb['CheckIncome']-department_gross_profit_gb['CheckCost']-\\\n",
    "                                            department_gross_profit_gb['CheckIncome']*0.06-department_gross_profit_gb['TmallCharge']-\\\n",
    "                                            department_gross_profit_gb['Postage']-department_gross_profit_gb['OperationCost']\n",
    "department_gross_profit_gb['GrossProfitRate']=department_gross_profit_gb['GrossProfit']/department_gross_profit_gb['SellIncome']"
   ]
  },
  {
   "cell_type": "code",
   "execution_count": null,
   "metadata": {
    "scrolled": false
   },
   "outputs": [],
   "source": [
    "department_gross_profit_gb=department_gross_profit_gb[(department_gross_profit_gb['Dept']!='KUB包材')&(department_gross_profit_gb['Dept']!='KUB赠品')\\\n",
    "                          &(department_gross_profit_gb['Dept']!='蒂爱共用')]"
   ]
  },
  {
   "cell_type": "code",
   "execution_count": null,
   "metadata": {},
   "outputs": [],
   "source": [
    "department_gross_profit_gb"
   ]
  },
  {
   "cell_type": "code",
   "execution_count": null,
   "metadata": {},
   "outputs": [],
   "source": [
    "department_gross_profit_gb.to_csv(\"department_gross_profit_gb.csv\",header=True,index=False)\n",
    "department_gross_profit_gb.to_excel(\"department_gross_profit_gb1.xlsx\",header=True,index=False)"
   ]
  },
  {
   "cell_type": "code",
   "execution_count": null,
   "metadata": {},
   "outputs": [],
   "source": [
    "#按公司、部门、小组已经日期进行归类\n",
    "department_gross_profit_gb_group=department_gross_profit.groupby(['Company','Dept','GroupName','Date'],as_index=False)"
   ]
  },
  {
   "cell_type": "code",
   "execution_count": null,
   "metadata": {},
   "outputs": [],
   "source": [
    "department_gross_profit_gb_group = department_gross_profit_gb_group.aggregate(np.sum)\n",
    "del department_gross_profit_gb_group['TmallTax']"
   ]
  },
  {
   "cell_type": "code",
   "execution_count": null,
   "metadata": {},
   "outputs": [],
   "source": [
    "department_gross_profit_gb_group.head()"
   ]
  },
  {
   "cell_type": "code",
   "execution_count": null,
   "metadata": {},
   "outputs": [],
   "source": [
    "department_gross_profit_gb_group['Tax']=department_gross_profit_gb_group['CheckIncome']*0.06\n",
    "department_gross_profit_gb_group['GrossProfit']=department_gross_profit_gb_group['CheckIncome']-department_gross_profit_gb_group['CheckCost']-\\\n",
    "                                            department_gross_profit_gb_group['CheckIncome']*0.06-department_gross_profit_gb_group['TmallCharge']-\\\n",
    "                                            department_gross_profit_gb_group['Postage']-department_gross_profit_gb_group['OperationCost']\n",
    "department_gross_profit_gb_group['GrossProfitRate']=department_gross_profit_gb_group['GrossProfit']/department_gross_profit_gb_group['SellIncome']"
   ]
  },
  {
   "cell_type": "code",
   "execution_count": null,
   "metadata": {},
   "outputs": [],
   "source": [
    "department_gross_profit_gb_group=department_gross_profit_gb_group[(department_gross_profit_gb_group['Dept']!='KUB包材')&(department_gross_profit_gb_group['Dept']!='KUB赠品')\\\n",
    "                          &(department_gross_profit_gb_group['Dept']!='蒂爱共用')]"
   ]
  },
  {
   "cell_type": "code",
   "execution_count": null,
   "metadata": {},
   "outputs": [],
   "source": [
    "department_gross_profit_gb_group.head()"
   ]
  },
  {
   "cell_type": "code",
   "execution_count": null,
   "metadata": {},
   "outputs": [],
   "source": [
    "department_gross_profit_gb_group.to_csv(\"department_gross_profit_gb_group.csv\",header=True,index=False)"
   ]
  },
  {
   "cell_type": "code",
   "execution_count": 31,
   "metadata": {},
   "outputs": [],
   "source": [
    "data_merge_dept.to_csv(\"data_merge_dept.csv\",header=True,index=False)"
   ]
  },
  {
   "cell_type": "code",
   "execution_count": null,
   "metadata": {},
   "outputs": [],
   "source": [
    "data_merge_dept_edit=pd.DataFrame()\n",
    "data_merge_dept_edit=pd.concat([data_merge_dept_edit,data_merge_dept])"
   ]
  },
  {
   "cell_type": "code",
   "execution_count": null,
   "metadata": {},
   "outputs": [],
   "source": [
    "data_merge_dept_edit.columns=['日期','SKU编码','条码','品名','销售数量','销售收入','货品成本','优惠金额','快递费',\\\n",
    "                        '应收邮资','操作费','退货金额','退货数量','退货货品成本','公司名称','事业部','小组','天猫扣点','负责人','二级类目','三级类目','四级类目','SPU']"
   ]
  },
  {
   "cell_type": "code",
   "execution_count": null,
   "metadata": {},
   "outputs": [],
   "source": [
    "#填充缺失值为0\n",
    "data_merge_dept_edit=data_merge_dept_edit.fillna(np.nan)\n",
    "data_merge_dept_edit.isnull().sum()"
   ]
  },
  {
   "cell_type": "code",
   "execution_count": null,
   "metadata": {},
   "outputs": [],
   "source": [
    "# data_merge_dept_edit[['操作费','退货金额','退货数量','退货货品成本']]=data_merge_dept_edit\\\n",
    "# [['操作费','退货金额','退货数量','退货货品成本']].fillna(0)"
   ]
  },
  {
   "cell_type": "code",
   "execution_count": null,
   "metadata": {},
   "outputs": [],
   "source": [
    "# data_merge_dept_edit.to_excel(\"20190131.xlsx\",header=True,index=False)\n",
    "data_merge_dept_edit.to_excel(\"data_merge_dept.xlsx\",header=True,index=False)"
   ]
  },
  {
   "cell_type": "code",
   "execution_count": null,
   "metadata": {},
   "outputs": [],
   "source": [
    "# data_merge_dept.columns=['Date', 'SKU', 'BarCode', 'Name', 'SellCount', 'SellIncome',\n",
    "#        'SellCost', 'FavourableTotal', 'Postage', 'PostageTotal', 'OperationCost',\n",
    "#        'ReturnTotal', 'ReturnCount', 'ReturnCost', 'Company', 'Dept',\n",
    "#        'Group']"
   ]
  },
  {
   "cell_type": "code",
   "execution_count": null,
   "metadata": {},
   "outputs": [],
   "source": [
    "# def merge(data_left,data_right,key):\n",
    "#     left=pd.read_csv(data_left,header = 0,dtype = object,engine='python',encoding='utf-8')\n",
    "#     right=pd.read_csv(data_right,header = 0,dtype = object,engine='python')\n",
    "#     right=right.drop_duplicates(key)\n",
    "#     data_merge=pd.merge(left,right,on=key,how='left')\n",
    "#     return data_merge"
   ]
  },
  {
   "cell_type": "code",
   "execution_count": null,
   "metadata": {
    "scrolled": true
   },
   "outputs": [],
   "source": [
    "# del data['BarCode_x']\n",
    "# data['BarCode']=data['BarCode_y']\n",
    "# data=data.drop('BarCode_y',axis=1)"
   ]
  }
 ],
 "metadata": {
  "kernelspec": {
   "display_name": "Python 3",
   "language": "python",
   "name": "python3"
  },
  "language_info": {
   "codemirror_mode": {
    "name": "ipython",
    "version": 3
   },
   "file_extension": ".py",
   "mimetype": "text/x-python",
   "name": "python",
   "nbconvert_exporter": "python",
   "pygments_lexer": "ipython3",
   "version": "3.6.4"
  }
 },
 "nbformat": 4,
 "nbformat_minor": 2
}
